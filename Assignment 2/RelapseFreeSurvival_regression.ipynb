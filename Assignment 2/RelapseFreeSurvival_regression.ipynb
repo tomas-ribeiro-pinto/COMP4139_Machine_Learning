{
 "cells": [
  {
   "cell_type": "code",
   "execution_count": 10,
   "metadata": {},
   "outputs": [
    {
     "data": {
      "text/plain": [
       "(400, 120)"
      ]
     },
     "execution_count": 10,
     "metadata": {},
     "output_type": "execute_result"
    }
   ],
   "source": [
    "import pandas as pd\n",
    "import numpy as np\n",
    "\n",
    "all_df = pd.read_excel('TrainDataset2024.xls', index_col=False)\n",
    "all_df.drop('ID', axis=1, inplace=True)\n",
    "all_df.shape"
   ]
  },
  {
   "cell_type": "markdown",
   "metadata": {},
   "source": [
    "### Data imputation"
   ]
  },
  {
   "cell_type": "code",
   "execution_count": 11,
   "metadata": {},
   "outputs": [
    {
     "name": "stdout",
     "output_type": "stream",
     "text": [
      "before impute:\n",
      "Gene\n",
      "0      193\n",
      "1      119\n",
      "999     88\n",
      "Name: count, dtype: int64\n",
      "after impute:\n",
      "Gene\n",
      "0    281\n",
      "1    119\n",
      "Name: count, dtype: int64\n"
     ]
    },
    {
     "name": "stderr",
     "output_type": "stream",
     "text": [
      "/Users/stephen/Library/Caches/pypoetry/virtualenvs/labs-env-NHQiDXzZ-py3.12/lib/python3.12/site-packages/sklearn/base.py:486: UserWarning: X has feature names, but LogisticRegression was fitted without feature names\n",
      "  warnings.warn(\n"
     ]
    },
    {
     "data": {
      "text/plain": [
       "(400, 120)"
      ]
     },
     "execution_count": 11,
     "metadata": {},
     "output_type": "execute_result"
    }
   ],
   "source": [
    "import pickle\n",
    "from sklearn.impute import SimpleImputer\n",
    "\n",
    "# load gene clf feature names\n",
    "import json\n",
    "keep_feat_names = []\n",
    "with open('gene_clf_selected_features.json', 'rb') as f:\n",
    "  keep_feat_names = json.load(f)\n",
    "  \n",
    "# replace missing gene with classification result\n",
    "# see train_gene_classifier.ipynb for more details\n",
    "with open('log_reg_gene_classifier.pkl', 'rb') as f:\n",
    "  log_res_clf = pickle.load(f)\n",
    "  \n",
    "  # rebuild prediction df\n",
    "  gene_impute_df = all_df.copy()\n",
    "\n",
    "  temp_X = gene_impute_df.drop(['pCR (outcome)', 'RelapseFreeSurvival (outcome)'], axis=1)\n",
    "  y = gene_impute_df['Gene']\n",
    "\n",
    "  print(\"before impute:\") \n",
    "  print(gene_impute_df['Gene'].value_counts())\n",
    "\n",
    "  keep_df = temp_X[keep_feat_names]\n",
    "  replace_index = keep_df[keep_df['Gene'] == 999].index\n",
    "\n",
    "  # get prediction on missing gene\n",
    "  target = gene_impute_df.loc[replace_index, keep_feat_names]\n",
    "  target.drop('Gene', axis=1, inplace=True)\n",
    "\n",
    "  pred = log_res_clf.predict(target)\n",
    "  gene_impute_df.loc[replace_index, 'Gene'] = pred\n",
    "\n",
    "  print(\"after impute:\") \n",
    "  print(gene_impute_df['Gene'].value_counts())\n",
    "\n",
    "  # assign back to all_df\n",
    "  all_df['Gene'] = gene_impute_df['Gene']\n",
    "\n",
    "# Replace missing values with median of the column\n",
    "imputer = SimpleImputer(strategy=\"median\", missing_values=999)\n",
    "all_df[:] = imputer.fit_transform(all_df)\n",
    "\n",
    "# classification target\n",
    "clf_y = all_df['pCR (outcome)']\n",
    "# regression target\n",
    "rgr_y = all_df['RelapseFreeSurvival (outcome)']\n",
    "\n",
    "all_df.shape"
   ]
  },
  {
   "cell_type": "markdown",
   "metadata": {},
   "source": [
    "### Outlier Removal"
   ]
  },
  {
   "cell_type": "code",
   "execution_count": 12,
   "metadata": {},
   "outputs": [],
   "source": [
    "from outlier_removal import removeOutliers\n",
    "removeOutliers(all_df)\n",
    "# keep pCR outcome as training set\n",
    "X = all_df.drop(['RelapseFreeSurvival (outcome)', 'pCR (outcome)'], axis=1)"
   ]
  },
  {
   "cell_type": "markdown",
   "metadata": {},
   "source": [
    "### Dimentionality Reduction - Manifold Learning"
   ]
  },
  {
   "cell_type": "code",
   "execution_count": null,
   "metadata": {},
   "outputs": [
    {
     "name": "stderr",
     "output_type": "stream",
     "text": [
      "/Users/stephen/Library/Caches/pypoetry/virtualenvs/labs-env-NHQiDXzZ-py3.12/lib/python3.12/site-packages/umap/umap_.py:1952: UserWarning: n_jobs value 1 overridden to 1 by setting random_state. Use no seed for parallelism.\n",
      "  warn(\n"
     ]
    },
    {
     "data": {
      "text/plain": [
       "(400, 13)"
      ]
     },
     "execution_count": 13,
     "metadata": {},
     "output_type": "execute_result"
    }
   ],
   "source": [
    "from umap import UMAP\n",
    "from sklearn.preprocessing import StandardScaler\n",
    "\n",
    "scaler = StandardScaler()\n",
    "Xs_non_mri = scaler.fit_transform(X.iloc[:, :11])\n",
    "\n",
    "umap = UMAP(n_components=2, random_state=42)\n",
    "X_umap_mri = umap.fit_transform(X.iloc[:, 11:])\n",
    "\n",
    "Xs = np.c_[Xs_non_mri, X_umap_mri]\n",
    "Xs.shape"
   ]
  },
  {
   "cell_type": "code",
   "execution_count": null,
   "metadata": {},
   "outputs": [],
   "source": [
    "from sklearn.manifold import TSNE, Isomap\n",
    "\n",
    "tsne = TSNE(n_components=2, random_state=42)\n",
    "X_tsne_mri = tsne.fit_transform(X.iloc[:,11:])\n",
    "standard_scaler = StandardScaler()\n",
    "Xs_non_mri = standard_scaler.fit_transform(X.iloc[:,0:11])\n",
    "Xs = np.c_[Xs_non_mri, X_tsne_mri]\n"
   ]
  },
  {
   "cell_type": "markdown",
   "metadata": {},
   "source": [
    "### Train Test Split"
   ]
  },
  {
   "cell_type": "code",
   "execution_count": 14,
   "metadata": {},
   "outputs": [],
   "source": [
    "from sklearn.model_selection import train_test_split\n",
    "X_train, X_test, y_train, y_test = train_test_split(Xs, rgr_y, test_size=0.2, random_state=42)"
   ]
  },
  {
   "cell_type": "markdown",
   "metadata": {},
   "source": [
    "### SVR Hyper-parameter Tuning"
   ]
  },
  {
   "cell_type": "code",
   "execution_count": null,
   "metadata": {},
   "outputs": [
    {
     "name": "stdout",
     "output_type": "stream",
     "text": [
      "Fitting 5 folds for each of 40 candidates, totalling 200 fits\n",
      "[CV] END .........................C=0.1, gamma=1, kernel=rbf; total time=   0.0s\n",
      "[CV] END .........................C=0.1, gamma=1, kernel=rbf; total time=   0.0s\n",
      "[CV] END .......................C=0.1, gamma=0.1, kernel=rbf; total time=   0.0s\n",
      "[CV] END .......................C=0.1, gamma=0.1, kernel=rbf; total time=   0.0s\n",
      "[CV] END ......................C=0.1, gamma=0.01, kernel=rbf; total time=   0.0s\n",
      "[CV] END ......................C=0.1, gamma=0.01, kernel=rbf; total time=   0.0s\n",
      "[CV] END ......................C=0.1, gamma=0.01, kernel=rbf; total time=   0.0s\n",
      "[CV] END ......................C=0.1, gamma=0.01, kernel=rbf; total time=   0.0s\n",
      "[CV] END ......................C=0.1, gamma=0.01, kernel=rbf; total time=   0.0s\n",
      "[CV] END .....................C=0.1, gamma=0.001, kernel=rbf; total time=   0.0s\n",
      "[CV] END .....................C=0.1, gamma=0.001, kernel=rbf; total time=   0.0s\n",
      "[CV] END .....................C=0.1, gamma=0.001, kernel=rbf; total time=   0.0s\n",
      "[CV] END .....................C=0.1, gamma=0.001, kernel=rbf; total time=   0.0s\n",
      "[CV] END .....................C=0.1, gamma=0.001, kernel=rbf; total time=   0.0s\n",
      "[CV] END ...........................C=1, gamma=1, kernel=rbf; total time=   0.0s\n",
      "[CV] END ...........................C=1, gamma=1, kernel=rbf; total time=   0.0s\n",
      "[CV] END ...........................C=1, gamma=1, kernel=rbf; total time=   0.0s\n",
      "[CV] END ...........................C=1, gamma=1, kernel=rbf; total time=   0.0s\n",
      "[CV] END ...........................C=1, gamma=1, kernel=rbf; total time=   0.0s\n",
      "[CV] END .........................C=1, gamma=0.1, kernel=rbf; total time=   0.0s\n",
      "[CV] END .........................C=1, gamma=0.1, kernel=rbf; total time=   0.0s\n",
      "[CV] END .........................C=1, gamma=0.1, kernel=rbf; total time=   0.0s\n",
      "[CV] END .........................C=1, gamma=0.1, kernel=rbf; total time=   0.0s\n",
      "[CV] END .........................C=1, gamma=0.1, kernel=rbf; total time=   0.0s\n",
      "[CV] END ........................C=1, gamma=0.01, kernel=rbf; total time=   0.0s\n",
      "[CV] END .........................C=0.1, gamma=1, kernel=rbf; total time=   0.0s\n",
      "[CV] END ........................C=1, gamma=0.01, kernel=rbf; total time=   0.0s\n",
      "[CV] END ........................C=1, gamma=0.01, kernel=rbf; total time=   0.0s\n",
      "[CV] END ........................C=1, gamma=0.01, kernel=rbf; total time=   0.0s\n",
      "[CV] END ........................C=1, gamma=0.01, kernel=rbf; total time=   0.0s\n",
      "[CV] END .......................C=1, gamma=0.001, kernel=rbf; total time=   0.0s\n",
      "[CV] END .......................C=1, gamma=0.001, kernel=rbf; total time=   0.0s\n",
      "[CV] END .......................C=1, gamma=0.001, kernel=rbf; total time=   0.0s\n",
      "[CV] END .......................C=1, gamma=0.001, kernel=rbf; total time=   0.0s\n",
      "[CV] END ..........................C=10, gamma=1, kernel=rbf; total time=   0.0s\n",
      "[CV] END .......................C=1, gamma=0.001, kernel=rbf; total time=   0.0s\n",
      "[CV] END .........................C=0.1, gamma=1, kernel=rbf; total time=   0.0s\n",
      "[CV] END ..........................C=10, gamma=1, kernel=rbf; total time=   0.0s\n",
      "[CV] END ..........................C=10, gamma=1, kernel=rbf; total time=   0.0s\n",
      "[CV] END ..........................C=10, gamma=1, kernel=rbf; total time=   0.0s\n",
      "[CV] END ..........................C=10, gamma=1, kernel=rbf; total time=   0.0s\n",
      "[CV] END .........................C=0.1, gamma=1, kernel=rbf; total time=   0.0s\n",
      "[CV] END ........................C=10, gamma=0.1, kernel=rbf; total time=   0.0s\n",
      "[CV] END ........................C=10, gamma=0.1, kernel=rbf; total time=   0.0s\n",
      "[CV] END ........................C=10, gamma=0.1, kernel=rbf; total time=   0.0s\n",
      "[CV] END ........................C=10, gamma=0.1, kernel=rbf; total time=   0.0s\n",
      "[CV] END ........................C=10, gamma=0.1, kernel=rbf; total time=   0.0s\n",
      "[CV] END .......................C=10, gamma=0.01, kernel=rbf; total time=   0.0s\n",
      "[CV] END .......................C=0.1, gamma=0.1, kernel=rbf; total time=   0.0s\n",
      "[CV] END .......................C=10, gamma=0.01, kernel=rbf; total time=   0.0s\n",
      "[CV] END .......................C=10, gamma=0.01, kernel=rbf; total time=   0.0s\n",
      "[CV] END .......................C=10, gamma=0.01, kernel=rbf; total time=   0.0s\n",
      "[CV] END ......................C=10, gamma=0.001, kernel=rbf; total time=   0.0s\n",
      "[CV] END .......................C=10, gamma=0.01, kernel=rbf; total time=   0.0s\n",
      "[CV] END ......................C=10, gamma=0.001, kernel=rbf; total time=   0.0s\n",
      "[CV] END ......................C=10, gamma=0.001, kernel=rbf; total time=   0.0s\n",
      "[CV] END ..........................C=30, gamma=1, kernel=rbf; total time=   0.0s\n",
      "[CV] END ..........................C=30, gamma=1, kernel=rbf; total time=   0.0s\n",
      "[CV] END .......................C=0.1, gamma=0.1, kernel=rbf; total time=   0.0s\n",
      "[CV] END ......................C=10, gamma=0.001, kernel=rbf; total time=   0.0s\n",
      "[CV] END ........................C=30, gamma=0.1, kernel=rbf; total time=   0.0s\n",
      "[CV] END ..........................C=30, gamma=1, kernel=rbf; total time=   0.0s\n",
      "[CV] END ........................C=30, gamma=0.1, kernel=rbf; total time=   0.0s\n",
      "[CV] END ..........................C=30, gamma=1, kernel=rbf; total time=   0.0s\n",
      "[CV] END ........................C=30, gamma=0.1, kernel=rbf; total time=   0.0s\n",
      "[CV] END ........................C=30, gamma=0.1, kernel=rbf; total time=   0.0s\n",
      "[CV] END ..........................C=30, gamma=1, kernel=rbf; total time=   0.0s[CV] END .......................C=30, gamma=0.01, kernel=rbf; total time=   0.0s\n",
      "\n",
      "[CV] END .......................C=30, gamma=0.01, kernel=rbf; total time=   0.0s\n",
      "[CV] END .......................C=30, gamma=0.01, kernel=rbf; total time=   0.0s\n",
      "[CV] END ........................C=30, gamma=0.1, kernel=rbf; total time=   0.0s\n",
      "[CV] END ......................C=10, gamma=0.001, kernel=rbf; total time=   0.0s\n",
      "[CV] END ......................C=30, gamma=0.001, kernel=rbf; total time=   0.0s\n",
      "[CV] END ..........................C=45, gamma=1, kernel=rbf; total time=   0.0s\n",
      "[CV] END .......................C=30, gamma=0.01, kernel=rbf; total time=   0.0s\n",
      "[CV] END ........................C=45, gamma=0.1, kernel=rbf; total time=   0.0s\n",
      "[CV] END .......................C=30, gamma=0.01, kernel=rbf; total time=   0.0s\n",
      "[CV] END ........................C=45, gamma=0.1, kernel=rbf; total time=   0.0s\n",
      "[CV] END .......................C=45, gamma=0.01, kernel=rbf; total time=   0.0s\n",
      "[CV] END ..........................C=45, gamma=1, kernel=rbf; total time=   0.0s\n",
      "[CV] END ......................C=30, gamma=0.001, kernel=rbf; total time=   0.0s\n",
      "[CV] END ......................C=30, gamma=0.001, kernel=rbf; total time=   0.0s\n",
      "[CV] END ..........................C=45, gamma=1, kernel=rbf; total time=   0.0s\n",
      "[CV] END .......................C=45, gamma=0.01, kernel=rbf; total time=   0.0s\n",
      "[CV] END ......................C=45, gamma=0.001, kernel=rbf; total time=   0.0s\n",
      "[CV] END ........................C=45, gamma=0.1, kernel=rbf; total time=   0.0s\n",
      "[CV] END ......................C=30, gamma=0.001, kernel=rbf; total time=   0.0s\n",
      "[CV] END .......................C=45, gamma=0.01, kernel=rbf; total time=   0.0s\n",
      "[CV] END ......................C=45, gamma=0.001, kernel=rbf; total time=   0.0s\n",
      "[CV] END .......................C=45, gamma=0.01, kernel=rbf; total time=   0.0s\n",
      "[CV] END ......................C=30, gamma=0.001, kernel=rbf; total time=   0.0s\n",
      "[CV] END ..........................C=50, gamma=1, kernel=rbf; total time=   0.0s\n",
      "[CV] END ......................C=45, gamma=0.001, kernel=rbf; total time=   0.0s\n",
      "[CV] END ........................C=45, gamma=0.1, kernel=rbf; total time=   0.0s\n",
      "[CV] END ..........................C=50, gamma=1, kernel=rbf; total time=   0.0s\n",
      "[CV] END ..........................C=50, gamma=1, kernel=rbf; total time=   0.0s\n",
      "[CV] END ........................C=45, gamma=0.1, kernel=rbf; total time=   0.0s\n",
      "[CV] END ........................C=50, gamma=0.1, kernel=rbf; total time=   0.0s\n",
      "[CV] END ..........................C=50, gamma=1, kernel=rbf; total time=   0.0s\n",
      "[CV] END ........................C=50, gamma=0.1, kernel=rbf; total time=   0.0s\n",
      "[CV] END ........................C=50, gamma=0.1, kernel=rbf; total time=   0.0s\n",
      "[CV] END .......................C=50, gamma=0.01, kernel=rbf; total time=   0.0s\n",
      "[CV] END ......................C=45, gamma=0.001, kernel=rbf; total time=   0.0s\n",
      "[CV] END ..........................C=45, gamma=1, kernel=rbf; total time=   0.0s\n",
      "[CV] END ........................C=50, gamma=0.1, kernel=rbf; total time=   0.0s\n",
      "[CV] END .......................C=45, gamma=0.01, kernel=rbf; total time=   0.0s\n",
      "[CV] END .......................C=50, gamma=0.01, kernel=rbf; total time=   0.0s\n",
      "[CV] END ..........................C=45, gamma=1, kernel=rbf; total time=   0.0s\n",
      "[CV] END ......................C=45, gamma=0.001, kernel=rbf; total time=   0.0s\n",
      "[CV] END .......................C=50, gamma=0.01, kernel=rbf; total time=   0.0s\n",
      "[CV] END ........................C=50, gamma=0.1, kernel=rbf; total time=   0.0s\n",
      "[CV] END ......................C=50, gamma=0.001, kernel=rbf; total time=   0.0s\n",
      "[CV] END ..........................C=50, gamma=1, kernel=rbf; total time=   0.0s\n",
      "[CV] END ..........................C=75, gamma=1, kernel=rbf; total time=   0.0s\n",
      "[CV] END ........................C=75, gamma=0.1, kernel=rbf; total time=   0.0s\n",
      "[CV] END ......................C=50, gamma=0.001, kernel=rbf; total time=   0.0s\n",
      "[CV] END .......................C=75, gamma=0.01, kernel=rbf; total time=   0.0s\n",
      "[CV] END .......................C=50, gamma=0.01, kernel=rbf; total time=   0.0s\n",
      "[CV] END ..........................C=75, gamma=1, kernel=rbf; total time=   0.0s\n",
      "[CV] END ......................C=50, gamma=0.001, kernel=rbf; total time=   0.0s\n",
      "[CV] END ..........................C=75, gamma=1, kernel=rbf; total time=   0.0s\n",
      "[CV] END ........................C=75, gamma=0.1, kernel=rbf; total time=   0.0s\n",
      "[CV] END .......................C=50, gamma=0.01, kernel=rbf; total time=   0.0s\n",
      "[CV] END ..........................C=75, gamma=1, kernel=rbf; total time=   0.0s\n",
      "[CV] END ......................C=50, gamma=0.001, kernel=rbf; total time=   0.0s\n",
      "[CV] END ......................C=75, gamma=0.001, kernel=rbf; total time=   0.0s\n",
      "[CV] END ......................C=50, gamma=0.001, kernel=rbf; total time=   0.0s\n",
      "[CV] END ..........................C=80, gamma=1, kernel=rbf; total time=   0.0s\n",
      "[CV] END .......................C=75, gamma=0.01, kernel=rbf; total time=   0.0s\n",
      "[CV] END ......................C=75, gamma=0.001, kernel=rbf; total time=   0.0s\n",
      "[CV] END ..........................C=75, gamma=1, kernel=rbf; total time=   0.0s\n",
      "[CV] END .......................C=80, gamma=0.01, kernel=rbf; total time=   0.0s\n",
      "[CV] END .......................C=75, gamma=0.01, kernel=rbf; total time=   0.0s\n",
      "[CV] END ........................C=75, gamma=0.1, kernel=rbf; total time=   0.0s\n",
      "[CV] END .......................C=80, gamma=0.01, kernel=rbf; total time=   0.0s\n",
      "[CV] END ........................C=80, gamma=0.1, kernel=rbf; total time=   0.0s\n",
      "[CV] END .......................C=75, gamma=0.01, kernel=rbf; total time=   0.0s\n",
      "[CV] END ......................C=75, gamma=0.001, kernel=rbf; total time=   0.0s\n",
      "[CV] END ........................C=80, gamma=0.1, kernel=rbf; total time=   0.0s\n",
      "[CV] END .......................C=75, gamma=0.01, kernel=rbf; total time=   0.0s\n",
      "[CV] END ......................C=75, gamma=0.001, kernel=rbf; total time=   0.0s\n",
      "[CV] END ..........................C=85, gamma=1, kernel=rbf; total time=   0.0s\n",
      "[CV] END ........................C=85, gamma=0.1, kernel=rbf; total time=   0.0s\n",
      "[CV] END ......................C=75, gamma=0.001, kernel=rbf; total time=   0.0s\n",
      "[CV] END ........................C=75, gamma=0.1, kernel=rbf; total time=   0.0s\n",
      "[CV] END ........................C=80, gamma=0.1, kernel=rbf; total time=   0.0s\n",
      "[CV] END ........................C=85, gamma=0.1, kernel=rbf; total time=   0.0s\n",
      "[CV] END .......................C=80, gamma=0.01, kernel=rbf; total time=   0.0s\n",
      "[CV] END ......................C=85, gamma=0.001, kernel=rbf; total time=   0.0s\n",
      "[CV] END ..........................C=85, gamma=1, kernel=rbf; total time=   0.0s\n",
      "[CV] END ..........................C=80, gamma=1, kernel=rbf; total time=   0.0s\n",
      "[CV] END .......................C=85, gamma=0.01, kernel=rbf; total time=   0.0s\n",
      "[CV] END ........................C=75, gamma=0.1, kernel=rbf; total time=   0.0s\n",
      "[CV] END ......................C=85, gamma=0.001, kernel=rbf; total time=   0.0s\n",
      "[CV] END ........................C=80, gamma=0.1, kernel=rbf; total time=   0.0s\n",
      "[CV] END .......................C=85, gamma=0.01, kernel=rbf; total time=   0.0s\n",
      "[CV] END .........................C=100, gamma=1, kernel=rbf; total time=   0.0s\n",
      "[CV] END ......................C=80, gamma=0.001, kernel=rbf; total time=   0.0s\n",
      "[CV] END ..........................C=85, gamma=1, kernel=rbf; total time=   0.0s\n",
      "[CV] END ........................C=80, gamma=0.1, kernel=rbf; total time=   0.0s\n",
      "[CV] END .......................C=85, gamma=0.01, kernel=rbf; total time=   0.0s\n",
      "[CV] END ......................C=80, gamma=0.001, kernel=rbf; total time=   0.0s\n",
      "[CV] END .......................C=100, gamma=0.1, kernel=rbf; total time=   0.0s\n",
      "[CV] END ......................C=85, gamma=0.001, kernel=rbf; total time=   0.0s\n",
      "[CV] END .......................C=80, gamma=0.01, kernel=rbf; total time=   0.0s\n",
      "[CV] END ..........................C=80, gamma=1, kernel=rbf; total time=   0.0s\n",
      "[CV] END ......................C=85, gamma=0.001, kernel=rbf; total time=   0.0s\n",
      "[CV] END ......................C=80, gamma=0.001, kernel=rbf; total time=   0.0s\n",
      "[CV] END ..........................C=85, gamma=1, kernel=rbf; total time=   0.0s\n",
      "[CV] END .......................C=85, gamma=0.01, kernel=rbf; total time=   0.0s\n",
      "[CV] END ..........................C=80, gamma=1, kernel=rbf; total time=   0.0s\n",
      "[CV] END .........................C=100, gamma=1, kernel=rbf; total time=   0.0s\n",
      "[CV] END .......................C=100, gamma=0.1, kernel=rbf; total time=   0.0s\n",
      "[CV] END ..........................C=80, gamma=1, kernel=rbf; total time=   0.0s\n",
      "[CV] END .......................C=80, gamma=0.01, kernel=rbf; total time=   0.0s\n",
      "[CV] END ......................C=80, gamma=0.001, kernel=rbf; total time=   0.0s\n",
      "[CV] END .......................C=100, gamma=0.1, kernel=rbf; total time=   0.0s\n",
      "[CV] END .......................C=85, gamma=0.01, kernel=rbf; total time=   0.0s\n",
      "[CV] END ..........................C=85, gamma=1, kernel=rbf; total time=   0.0s\n",
      "[CV] END ......................C=100, gamma=0.01, kernel=rbf; total time=   0.0s\n",
      "[CV] END .........................C=100, gamma=1, kernel=rbf; total time=   0.0s\n",
      "[CV] END ......................C=80, gamma=0.001, kernel=rbf; total time=   0.0s\n",
      "[CV] END .......................C=100, gamma=0.1, kernel=rbf; total time=   0.0s\n",
      "[CV] END ......................C=85, gamma=0.001, kernel=rbf; total time=   0.0s\n",
      "[CV] END ........................C=85, gamma=0.1, kernel=rbf; total time=   0.0s\n",
      "[CV] END .........................C=100, gamma=1, kernel=rbf; total time=   0.0s\n",
      "[CV] END ......................C=100, gamma=0.01, kernel=rbf; total time=   0.0s\n",
      "[CV] END .......................C=100, gamma=0.1, kernel=rbf; total time=   0.0s\n",
      "[CV] END .........................C=100, gamma=1, kernel=rbf; total time=   0.0s\n",
      "[CV] END ........................C=85, gamma=0.1, kernel=rbf; total time=   0.0s\n",
      "[CV] END ......................C=100, gamma=0.01, kernel=rbf; total time=   0.0s\n",
      "[CV] END ......................C=100, gamma=0.01, kernel=rbf; total time=   0.0s\n",
      "[CV] END ........................C=85, gamma=0.1, kernel=rbf; total time=   0.0s\n",
      "[CV] END .....................C=100, gamma=0.001, kernel=rbf; total time=   0.0s\n",
      "[CV] END ......................C=100, gamma=0.01, kernel=rbf; total time=   0.0s\n",
      "[CV] END .....................C=100, gamma=0.001, kernel=rbf; total time=   0.0s\n",
      "[CV] END .....................C=100, gamma=0.001, kernel=rbf; total time=   0.0s\n",
      "[CV] END .....................C=100, gamma=0.001, kernel=rbf; total time=   0.0s\n",
      "[CV] END .....................C=100, gamma=0.001, kernel=rbf; total time=   0.0s\n",
      "[CV] END .......................C=0.1, gamma=0.1, kernel=rbf; total time=   0.0s\n",
      "{'C': 45, 'gamma': 1, 'kernel': 'rbf'}\n"
     ]
    }
   ],
   "source": [
    "# svr \n",
    "from sklearn.svm import SVR\n",
    "from sklearn.model_selection import GridSearchCV\n",
    "\n",
    "param_grid = {\n",
    "    'C': [0.1, 1, 10, 30, 45, 50, 75, 80, 85, 100],\n",
    "    'gamma': [1, 0.1, 0.01, 0.001],\n",
    "    'kernel': ['rbf']\n",
    "}\n",
    "\n",
    "grid_search = GridSearchCV(SVR(), param_grid, n_jobs=-1, cv=5, verbose=2, scoring='neg_mean_squared_error')\n",
    "grid_search.fit(X_train, y_train)"
   ]
  },
  {
   "cell_type": "markdown",
   "metadata": {},
   "source": [
    "### Validation"
   ]
  },
  {
   "cell_type": "code",
   "execution_count": 18,
   "metadata": {},
   "outputs": [
    {
     "name": "stdout",
     "output_type": "stream",
     "text": [
      "[54.07159418 50.29602761 54.07181845 54.08068968 54.07203675 53.91419663\n",
      " 54.07739314 52.86987333 54.12574331 54.08793857]\n",
      "MAE:  21.359574037769008\n",
      "R2:  -0.02750186442999225\n"
     ]
    }
   ],
   "source": [
    "from sklearn.metrics import mean_absolute_error, r2_score\n",
    "\n",
    "best = grid_search.best_estimator_\n",
    "\n",
    "y_pred = best.predict(X_test)\n",
    "print(y_pred[:10])\n",
    "\n",
    "print(\"MAE: \", mean_absolute_error(y_test, y_pred))\n",
    "print(\"R2: \", r2_score(y_test, y_pred))"
   ]
  },
  {
   "cell_type": "markdown",
   "metadata": {},
   "source": [
    "### Random Forest for Regression + Hyper Param Tuning"
   ]
  },
  {
   "cell_type": "code",
   "execution_count": 17,
   "metadata": {},
   "outputs": [],
   "source": [
    "# save model\n",
    "with open('rfs_regression_model.pkl', 'wb') as f:\n",
    "  pickle.dump(best, f)"
   ]
  }
 ],
 "metadata": {
  "kernelspec": {
   "display_name": "MLE",
   "language": "python",
   "name": "python3"
  },
  "language_info": {
   "codemirror_mode": {
    "name": "ipython",
    "version": 3
   },
   "file_extension": ".py",
   "mimetype": "text/x-python",
   "name": "python",
   "nbconvert_exporter": "python",
   "pygments_lexer": "ipython3",
   "version": "3.10.13"
  }
 },
 "nbformat": 4,
 "nbformat_minor": 2
}
