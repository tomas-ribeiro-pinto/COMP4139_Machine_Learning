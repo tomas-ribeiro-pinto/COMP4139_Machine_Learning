{
  "nbformat": 4,
  "nbformat_minor": 0,
  "metadata": {
    "colab": {
      "provenance": []
    },
    "kernelspec": {
      "name": "python3",
      "display_name": "Python 3"
    },
    "language_info": {
      "name": "python"
    }
  },
  "cells": [
    {
      "cell_type": "code",
      "source": [
        "pip install pandas scikit-learn"
      ],
      "metadata": {
        "colab": {
          "base_uri": "https://localhost:8080/"
        },
        "id": "-1ge8_XSfLW2",
        "outputId": "9df349eb-fdbf-4a81-bf8b-224475223716"
      },
      "execution_count": 1,
      "outputs": [
        {
          "output_type": "stream",
          "name": "stdout",
          "text": [
            "Requirement already satisfied: pandas in /usr/local/lib/python3.10/dist-packages (2.2.2)\n",
            "Requirement already satisfied: scikit-learn in /usr/local/lib/python3.10/dist-packages (1.5.2)\n",
            "Requirement already satisfied: numpy>=1.22.4 in /usr/local/lib/python3.10/dist-packages (from pandas) (1.26.4)\n",
            "Requirement already satisfied: python-dateutil>=2.8.2 in /usr/local/lib/python3.10/dist-packages (from pandas) (2.8.2)\n",
            "Requirement already satisfied: pytz>=2020.1 in /usr/local/lib/python3.10/dist-packages (from pandas) (2024.2)\n",
            "Requirement already satisfied: tzdata>=2022.7 in /usr/local/lib/python3.10/dist-packages (from pandas) (2024.2)\n",
            "Requirement already satisfied: scipy>=1.6.0 in /usr/local/lib/python3.10/dist-packages (from scikit-learn) (1.13.1)\n",
            "Requirement already satisfied: joblib>=1.2.0 in /usr/local/lib/python3.10/dist-packages (from scikit-learn) (1.4.2)\n",
            "Requirement already satisfied: threadpoolctl>=3.1.0 in /usr/local/lib/python3.10/dist-packages (from scikit-learn) (3.5.0)\n",
            "Requirement already satisfied: six>=1.5 in /usr/local/lib/python3.10/dist-packages (from python-dateutil>=2.8.2->pandas) (1.16.0)\n"
          ]
        }
      ]
    },
    {
      "cell_type": "code",
      "source": [
        "import pandas as pd\n",
        "from sklearn.model_selection import KFold, cross_val_score\n",
        "from sklearn.preprocessing import StandardScaler\n",
        "from sklearn.impute import SimpleImputer\n",
        "from sklearn.neural_network import MLPClassifier, MLPRegressor\n",
        "from sklearn.metrics import make_scorer, accuracy_score, mean_absolute_error\n",
        "\n",
        "# Load the training data\n",
        "data = pd.read_excel('TrainDataset2024.xls')\n",
        "\n",
        "# Separate features and targets\n",
        "X = data.drop(['ID', 'pCR (outcome)', 'RelapseFreeSurvival (outcome)'], axis=1)\n",
        "y_pCR = data['pCR (outcome)']\n",
        "y_RFS = data['RelapseFreeSurvival (outcome)']\n",
        "\n",
        "# Handle missing data using Simple Imputer\n",
        "imputer = SimpleImputer(strategy='mean')\n",
        "X_imputed = imputer.fit_transform(X)\n",
        "\n",
        "# Normalize the numerical features\n",
        "scaler = StandardScaler()\n",
        "X_scaled = scaler.fit_transform(X_imputed)\n",
        "\n",
        "# Define important clinical features\n",
        "important_features = ['ER', 'HER2', 'Gene']\n",
        "clinical_features = X.columns.tolist()\n",
        "X_combined = pd.DataFrame(X_scaled, columns=clinical_features)\n",
        "\n",
        "# Set up k-fold cross-validation\n",
        "kf = KFold(n_splits=5, shuffle=True, random_state=42)\n",
        "\n",
        "# Define and evaluate MLP for PCR\n",
        "mlp_pCR = MLPClassifier(random_state=42, max_iter=1000)\n",
        "cv_scores_pCR = cross_val_score(mlp_pCR, X_combined, y_pCR, cv=kf, scoring='balanced_accuracy')\n",
        "print(f'Balanced Accuracy for PCR (cross-validated): {cv_scores_pCR.mean()} ± {cv_scores_pCR.std()}')\n",
        "\n",
        "# Define and evaluate MLP for RFS\n",
        "mlp_RFS = MLPRegressor(random_state=42, max_iter=1000)\n",
        "cv_scores_RFS = cross_val_score(mlp_RFS, X_combined, y_RFS, cv=kf, scoring=make_scorer(mean_absolute_error, greater_is_better=False))\n",
        "print(f'Mean Absolute Error for RFS (cross-validated): {-cv_scores_RFS.mean()} ± {-cv_scores_RFS.std()}')\n",
        "\n",
        "# Final Testing Code\n",
        "# Load test dataset\n",
        "test_data = pd.read_excel('TestDatasetExample.xls')\n",
        "\n",
        "# Handle missing data in the test dataset\n",
        "test_imputed = imputer.transform(test_data.drop('ID', axis=1))\n",
        "test_scaled = scaler.transform(test_imputed)\n",
        "\n",
        "# Prepare test data for predictions\n",
        "test_combined = pd.DataFrame(test_scaled, columns=clinical_features)\n",
        "\n",
        "# Fit the models on the entire dataset\n",
        "mlp_pCR.fit(X_combined, y_pCR)\n",
        "mlp_RFS.fit(X_combined, y_RFS)\n",
        "\n",
        "# Make predictions on the test set\n",
        "test_predictions_pCR = mlp_pCR.predict(test_combined)\n",
        "test_predictions_RFS = mlp_RFS.predict(test_combined)\n",
        "\n",
        "# Save predictions to CSV\n",
        "pd.DataFrame({\n",
        "    'ID': test_data['ID'],\n",
        "    'Predicted pCR': test_predictions_pCR,\n",
        "    'Predicted RFS': test_predictions_RFS\n",
        "}).to_csv('Predictions.csv', index=False)"
      ],
      "metadata": {
        "colab": {
          "base_uri": "https://localhost:8080/"
        },
        "id": "5ik67rZuupch",
        "outputId": "e27fcadb-e0fa-4301-b17b-6155514ec52c"
      },
      "execution_count": 5,
      "outputs": [
        {
          "output_type": "stream",
          "name": "stderr",
          "text": [
            "/usr/local/lib/python3.10/dist-packages/sklearn/metrics/_classification.py:2480: UserWarning: y_pred contains classes not in y_true\n",
            "  warnings.warn(\"y_pred contains classes not in y_true\")\n"
          ]
        },
        {
          "output_type": "stream",
          "name": "stdout",
          "text": [
            "Balanced Accuracy for PCR (cross-validated): 0.39719743469214647 ± 0.03035958958791769\n"
          ]
        },
        {
          "output_type": "stream",
          "name": "stderr",
          "text": [
            "/usr/local/lib/python3.10/dist-packages/sklearn/neural_network/_multilayer_perceptron.py:690: ConvergenceWarning: Stochastic Optimizer: Maximum iterations (1000) reached and the optimization hasn't converged yet.\n",
            "  warnings.warn(\n",
            "/usr/local/lib/python3.10/dist-packages/sklearn/neural_network/_multilayer_perceptron.py:690: ConvergenceWarning: Stochastic Optimizer: Maximum iterations (1000) reached and the optimization hasn't converged yet.\n",
            "  warnings.warn(\n",
            "/usr/local/lib/python3.10/dist-packages/sklearn/neural_network/_multilayer_perceptron.py:690: ConvergenceWarning: Stochastic Optimizer: Maximum iterations (1000) reached and the optimization hasn't converged yet.\n",
            "  warnings.warn(\n",
            "/usr/local/lib/python3.10/dist-packages/sklearn/neural_network/_multilayer_perceptron.py:690: ConvergenceWarning: Stochastic Optimizer: Maximum iterations (1000) reached and the optimization hasn't converged yet.\n",
            "  warnings.warn(\n",
            "/usr/local/lib/python3.10/dist-packages/sklearn/neural_network/_multilayer_perceptron.py:690: ConvergenceWarning: Stochastic Optimizer: Maximum iterations (1000) reached and the optimization hasn't converged yet.\n",
            "  warnings.warn(\n"
          ]
        },
        {
          "output_type": "stream",
          "name": "stdout",
          "text": [
            "Mean Absolute Error for RFS (cross-validated): 28.03367017793473 ± -6.885706187843169\n"
          ]
        },
        {
          "output_type": "stream",
          "name": "stderr",
          "text": [
            "/usr/local/lib/python3.10/dist-packages/sklearn/neural_network/_multilayer_perceptron.py:690: ConvergenceWarning: Stochastic Optimizer: Maximum iterations (1000) reached and the optimization hasn't converged yet.\n",
            "  warnings.warn(\n"
          ]
        }
      ]
    }
  ]
}