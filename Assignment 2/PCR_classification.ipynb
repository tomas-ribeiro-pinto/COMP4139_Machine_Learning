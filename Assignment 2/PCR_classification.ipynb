{
 "cells": [
  {
   "cell_type": "code",
<<<<<<< Updated upstream
   "execution_count": null,
   "id": "2e864c92",
   "metadata": {},
   "outputs": [
    {
=======
   "execution_count": 65,
   "metadata": {},
   "outputs": [
    {
     "name": "stdout",
     "output_type": "stream",
     "text": [
      "Requirement already satisfied: xlrd in /opt/anaconda3/envs/MLE/lib/python3.10/site-packages (2.0.1)\n",
      "Note: you may need to restart the kernel to use updated packages.\n"
     ]
    },
    {
>>>>>>> Stashed changes
     "data": {
      "text/html": [
       "<div>\n",
       "<style scoped>\n",
       "    .dataframe tbody tr th:only-of-type {\n",
       "        vertical-align: middle;\n",
       "    }\n",
       "\n",
       "    .dataframe tbody tr th {\n",
       "        vertical-align: top;\n",
       "    }\n",
       "\n",
       "    .dataframe thead th {\n",
       "        text-align: right;\n",
       "    }\n",
       "</style>\n",
       "<table border=\"1\" class=\"dataframe\">\n",
       "  <thead>\n",
       "    <tr style=\"text-align: right;\">\n",
       "      <th></th>\n",
       "      <th>pCR (outcome)</th>\n",
       "      <th>RelapseFreeSurvival (outcome)</th>\n",
       "      <th>Age</th>\n",
       "      <th>ER</th>\n",
       "      <th>PgR</th>\n",
       "      <th>HER2</th>\n",
       "      <th>TrippleNegative</th>\n",
       "      <th>ChemoGrade</th>\n",
       "      <th>Proliferation</th>\n",
       "      <th>HistologyType</th>\n",
       "      <th>...</th>\n",
       "      <th>original_glszm_SmallAreaHighGrayLevelEmphasis</th>\n",
       "      <th>original_glszm_SmallAreaLowGrayLevelEmphasis</th>\n",
       "      <th>original_glszm_ZoneEntropy</th>\n",
       "      <th>original_glszm_ZonePercentage</th>\n",
       "      <th>original_glszm_ZoneVariance</th>\n",
       "      <th>original_ngtdm_Busyness</th>\n",
       "      <th>original_ngtdm_Coarseness</th>\n",
       "      <th>original_ngtdm_Complexity</th>\n",
       "      <th>original_ngtdm_Contrast</th>\n",
       "      <th>original_ngtdm_Strength</th>\n",
       "    </tr>\n",
       "  </thead>\n",
       "  <tbody>\n",
       "    <tr>\n",
       "      <th>0</th>\n",
       "      <td>1</td>\n",
       "      <td>144.0</td>\n",
       "      <td>41.0</td>\n",
       "      <td>0</td>\n",
       "      <td>0</td>\n",
       "      <td>0</td>\n",
       "      <td>1</td>\n",
       "      <td>3</td>\n",
       "      <td>3</td>\n",
       "      <td>1</td>\n",
       "      <td>...</td>\n",
       "      <td>0.517172</td>\n",
       "      <td>0.375126</td>\n",
       "      <td>3.325332</td>\n",
       "      <td>0.002314</td>\n",
       "      <td>3880771.500</td>\n",
       "      <td>473.464852</td>\n",
       "      <td>0.000768</td>\n",
       "      <td>0.182615</td>\n",
       "      <td>0.030508</td>\n",
       "      <td>0.000758</td>\n",
       "    </tr>\n",
       "    <tr>\n",
       "      <th>1</th>\n",
       "      <td>0</td>\n",
       "      <td>142.0</td>\n",
       "      <td>39.0</td>\n",
       "      <td>1</td>\n",
       "      <td>1</td>\n",
       "      <td>0</td>\n",
       "      <td>0</td>\n",
       "      <td>3</td>\n",
       "      <td>3</td>\n",
       "      <td>1</td>\n",
       "      <td>...</td>\n",
       "      <td>0.444391</td>\n",
       "      <td>0.444391</td>\n",
       "      <td>3.032144</td>\n",
       "      <td>0.005612</td>\n",
       "      <td>2372009.744</td>\n",
       "      <td>59.459710</td>\n",
       "      <td>0.004383</td>\n",
       "      <td>0.032012</td>\n",
       "      <td>0.001006</td>\n",
       "      <td>0.003685</td>\n",
       "    </tr>\n",
       "    <tr>\n",
       "      <th>2</th>\n",
       "      <td>1</td>\n",
       "      <td>135.0</td>\n",
       "      <td>31.0</td>\n",
       "      <td>0</td>\n",
       "      <td>0</td>\n",
       "      <td>0</td>\n",
       "      <td>1</td>\n",
       "      <td>2</td>\n",
       "      <td>1</td>\n",
       "      <td>1</td>\n",
       "      <td>...</td>\n",
       "      <td>0.534549</td>\n",
       "      <td>0.534549</td>\n",
       "      <td>2.485848</td>\n",
       "      <td>0.006752</td>\n",
       "      <td>1540027.421</td>\n",
       "      <td>33.935384</td>\n",
       "      <td>0.007584</td>\n",
       "      <td>0.024062</td>\n",
       "      <td>0.000529</td>\n",
       "      <td>0.006447</td>\n",
       "    </tr>\n",
       "    <tr>\n",
       "      <th>3</th>\n",
       "      <td>0</td>\n",
       "      <td>12.0</td>\n",
       "      <td>35.0</td>\n",
       "      <td>0</td>\n",
       "      <td>0</td>\n",
       "      <td>0</td>\n",
       "      <td>1</td>\n",
       "      <td>3</td>\n",
       "      <td>3</td>\n",
       "      <td>1</td>\n",
       "      <td>...</td>\n",
       "      <td>0.506185</td>\n",
       "      <td>0.506185</td>\n",
       "      <td>2.606255</td>\n",
       "      <td>0.003755</td>\n",
       "      <td>6936740.794</td>\n",
       "      <td>46.859265</td>\n",
       "      <td>0.005424</td>\n",
       "      <td>0.013707</td>\n",
       "      <td>0.000178</td>\n",
       "      <td>0.004543</td>\n",
       "    </tr>\n",
       "    <tr>\n",
       "      <th>4</th>\n",
       "      <td>0</td>\n",
       "      <td>109.0</td>\n",
       "      <td>61.0</td>\n",
       "      <td>1</td>\n",
       "      <td>0</td>\n",
       "      <td>0</td>\n",
       "      <td>0</td>\n",
       "      <td>2</td>\n",
       "      <td>1</td>\n",
       "      <td>1</td>\n",
       "      <td>...</td>\n",
       "      <td>0.462282</td>\n",
       "      <td>0.462282</td>\n",
       "      <td>2.809279</td>\n",
       "      <td>0.006521</td>\n",
       "      <td>1265399.054</td>\n",
       "      <td>39.621023</td>\n",
       "      <td>0.006585</td>\n",
       "      <td>0.034148</td>\n",
       "      <td>0.001083</td>\n",
       "      <td>0.005626</td>\n",
       "    </tr>\n",
       "  </tbody>\n",
       "</table>\n",
       "<p>5 rows × 120 columns</p>\n",
       "</div>"
      ],
      "text/plain": [
       "   pCR (outcome)  RelapseFreeSurvival (outcome)   Age  ER  PgR  HER2  \\\n",
       "0              1                          144.0  41.0   0    0     0   \n",
       "1              0                          142.0  39.0   1    1     0   \n",
       "2              1                          135.0  31.0   0    0     0   \n",
       "3              0                           12.0  35.0   0    0     0   \n",
       "4              0                          109.0  61.0   1    0     0   \n",
       "\n",
       "   TrippleNegative  ChemoGrade  Proliferation  HistologyType  ...  \\\n",
       "0                1           3              3              1  ...   \n",
       "1                0           3              3              1  ...   \n",
       "2                1           2              1              1  ...   \n",
       "3                1           3              3              1  ...   \n",
       "4                0           2              1              1  ...   \n",
       "\n",
       "   original_glszm_SmallAreaHighGrayLevelEmphasis  \\\n",
       "0                                       0.517172   \n",
       "1                                       0.444391   \n",
       "2                                       0.534549   \n",
       "3                                       0.506185   \n",
       "4                                       0.462282   \n",
       "\n",
       "   original_glszm_SmallAreaLowGrayLevelEmphasis  original_glszm_ZoneEntropy  \\\n",
       "0                                      0.375126                    3.325332   \n",
       "1                                      0.444391                    3.032144   \n",
       "2                                      0.534549                    2.485848   \n",
       "3                                      0.506185                    2.606255   \n",
       "4                                      0.462282                    2.809279   \n",
       "\n",
       "   original_glszm_ZonePercentage  original_glszm_ZoneVariance  \\\n",
       "0                       0.002314                  3880771.500   \n",
       "1                       0.005612                  2372009.744   \n",
       "2                       0.006752                  1540027.421   \n",
       "3                       0.003755                  6936740.794   \n",
       "4                       0.006521                  1265399.054   \n",
       "\n",
       "   original_ngtdm_Busyness  original_ngtdm_Coarseness  \\\n",
       "0               473.464852                   0.000768   \n",
       "1                59.459710                   0.004383   \n",
       "2                33.935384                   0.007584   \n",
       "3                46.859265                   0.005424   \n",
       "4                39.621023                   0.006585   \n",
       "\n",
       "   original_ngtdm_Complexity  original_ngtdm_Contrast  original_ngtdm_Strength  \n",
       "0                   0.182615                 0.030508                 0.000758  \n",
       "1                   0.032012                 0.001006                 0.003685  \n",
       "2                   0.024062                 0.000529                 0.006447  \n",
       "3                   0.013707                 0.000178                 0.004543  \n",
       "4                   0.034148                 0.001083                 0.005626  \n",
       "\n",
       "[5 rows x 120 columns]"
      ]
     },
<<<<<<< Updated upstream
     "execution_count": 9,
=======
     "execution_count": 65,
>>>>>>> Stashed changes
     "metadata": {},
     "output_type": "execute_result"
    }
   ],
   "source": [
    "import pandas as pd\n",
    "import seaborn as sns\n",
    "import numpy as np\n",
    "import matplotlib.pyplot as plt\n",
    "\n",
<<<<<<< Updated upstream
    "all_df = pd.read_csv('TrainDataset2024.csv', index_col=False)\n",
=======
    "# Install xlrd package\n",
    "%pip install xlrd\n",
    "\n",
    "all_df = pd.read_excel('TrainDataset2024.xls', index_col=False)\n",
>>>>>>> Stashed changes
    "all_df.drop('ID', axis=1, inplace=True)\n",
    "all_df.head()"
   ]
  },
  {
<<<<<<< Updated upstream
   "cell_type": "code",
   "execution_count": 10,
   "id": "efab16a9",
=======
   "cell_type": "markdown",
   "metadata": {},
   "source": [
    "### Data Imputer"
   ]
  },
  {
   "cell_type": "code",
   "execution_count": 66,
>>>>>>> Stashed changes
   "metadata": {},
   "outputs": [],
   "source": [
    "from sklearn.impute import SimpleImputer\n",
    "\n",
<<<<<<< Updated upstream
=======
    "# Replace missing values with median of the column\n",
>>>>>>> Stashed changes
    "imputer = SimpleImputer(strategy=\"median\", missing_values=999)\n",
    "all_df[:] = imputer.fit_transform(all_df)\n",
    "\n",
    "# classification target\n",
    "clf_y = all_df['pCR (outcome)']\n",
    "# regression target\n",
    "rgr_y = all_df['RelapseFreeSurvival (outcome)']"
   ]
  },
  {
<<<<<<< Updated upstream
   "cell_type": "code",
   "execution_count": 11,
   "id": "069f12b3",
   "metadata": {},
   "outputs": [],
   "source": [
=======
   "cell_type": "markdown",
   "metadata": {},
   "source": [
    "### Outlier Removal"
   ]
  },
  {
   "cell_type": "code",
   "execution_count": 67,
   "metadata": {},
   "outputs": [],
   "source": [
    "# Outlier removal approach by:\n",
    "# Thanaki, Jalaj. Machine Learning Solutions : Expert Techniques to Tackle Complex Machine Learning Problems Using Python, Packt Publishing, Limited, 2018. \n",
    "# ProQuest Ebook Central, Available at: http://ebookcentral.proquest.com/lib/nottingham/detail.action?docID=5379696.\n",
    "\n",
    "# Outlier detection using the following methods:\n",
    "# 1. Percentile based outlier detection\n",
    "# 2. MAD (median absolute deviation) based outlier detection\n",
    "# 3. Standard deviation based outlier detection\n",
    "\n",
    "\"\"\" \n",
    "    Get all the data points that lie under the percentile range from 2.5 to 97.5\n",
    "\"\"\"\n",
>>>>>>> Stashed changes
    "def percentile_based_outlier(data, threshold=95):\n",
    "    diff = (100 - threshold) / 2.0\n",
    "    minval, maxval = np.percentile(data, [diff, 100 - diff])\n",
    "    return (data < minval) | (data > maxval)\n",
    "\n",
<<<<<<< Updated upstream
=======
    "\"\"\"\n",
    "    Get all the data points that lie under a threshold of 3.5 using modified Z-score (based on the median absolute deviation)\n",
    "\"\"\"\n",
>>>>>>> Stashed changes
    "def mad_based_outlier(points, threshold=3.5):\n",
    "    points = np.array(points)\n",
    "    if len(points.shape) == 1:\n",
    "        points = points[:, None]\n",
    "    median_y = np.median(points)\n",
    "    median_absolute_deviation_y = np.median([np.abs(y - median_y) for y in points])\n",
    "    # Small constant added to avoid division by zero\n",
    "    modified_z_scores = [0.6745 * (y - median_y) / (median_absolute_deviation_y + 1e-6) for y in points]\n",
    "\n",
    "    return np.abs(modified_z_scores) > threshold\n",
    "\n",
<<<<<<< Updated upstream
=======
    "\"\"\"\n",
    "    Get all the data points that lie under a threshold of 3 using standard deviation\n",
    "\"\"\"\n",
>>>>>>> Stashed changes
    "def std_div(data, threshold=3):\n",
    "    std = data.std()\n",
    "    mean = data.mean()\n",
    "    isOutlier = []\n",
    "    for val in data:\n",
    "        if abs(val - mean)/std > threshold:\n",
    "            isOutlier.append(True)\n",
    "        else:\n",
    "            isOutlier.append(False)\n",
    "    return isOutlier\n",
    "\n",
<<<<<<< Updated upstream
=======
    "\"\"\"\n",
    "    Perform an outlier voting system to determine if a data point is an outlier. \n",
    "    If two of the three methods agree that a data point is an outlier, then it is removed.\n",
    "\"\"\"\n",
>>>>>>> Stashed changes
    "def outlierVote(data):\n",
    "    x = percentile_based_outlier(data)\n",
    "    y = mad_based_outlier(data)\n",
    "    z = std_div(data)\n",
    "    temp = list(zip(x, y, z))\n",
    "    final = []\n",
    "    for i in range(len(temp)):\n",
    "        if temp[i].count(False) >= 2:\n",
    "            final.append(False)\n",
    "        else:\n",
    "            final.append(True)\n",
    "    return final\n",
    "\n",
<<<<<<< Updated upstream
    "def plotOutliers(x):\n",
    "    fig, axes = plt.subplots(nrows=4)\n",
    "    for ax, func in zip(axes, [percentile_based_outlier, mad_based_outlier, std_div, outlierVote]):\n",
    "        sns.distplot(x, ax=ax, rug=True, hist=False)\n",
    "        outliers = func(x)\n",
    "        ax.plot(outliers, np.zeros_like(outliers), 'ro', clip_on=False)\n",
    "\n",
    "    kwargs = dict(y=0.95, x=0.05, ha='left', va='top', size=20)\n",
    "    axes[0].set_title('Percentile-based Outliers', **kwargs)\n",
    "    axes[1].set_title('MAD-based Outliers', **kwargs)\n",
    "    axes[2].set_title('STD-based Outliers', **kwargs)\n",
    "    axes[3].set_title('Majority vote', **kwargs)\n",
    "    fig.suptitle('Comparing Outlier Tests with n={}'.format(len(x)), size=20)\n",
    "    fig = plt.gcf()\n",
    "    fig.set_size_inches(20, 15)\n",
    "\n",
=======
>>>>>>> Stashed changes
    "def removeOutliers(data):\n",
    "    # Remove outliers from the dataframe\n",
    "    for column in data.columns:\n",
    "        outliers = outlierVote(all_df[column])\n",
    "        # Calculate Non-Outlier Maximum using the outliers list\n",
    "        non_outlier_max = all_df.loc[~np.array(outliers), column].max()\n",
    "        # Replace outliers with the maximum non-outlier value\n",
    "        data.loc[outliers, column] = non_outlier_max\n",
    "\n",
<<<<<<< Updated upstream
    "removeOutliers(all_df)\n",
    "# Verify the changes\n",
    "all_df.head()\n",
    "\n",
    "# Assign features to X\n",
=======
    "# Remove outliers, assign modified features to X and drop the outcome columns\n",
    "removeOutliers(all_df)\n",
>>>>>>> Stashed changes
    "X = all_df.drop(['pCR (outcome)', 'RelapseFreeSurvival (outcome)'], axis=1)"
   ]
  },
  {
<<<<<<< Updated upstream
   "cell_type": "code",
   "execution_count": 23,
   "id": "0e7cbb5d",
   "metadata": {},
   "outputs": [
    {
     "name": "stdout",
     "output_type": "stream",
     "text": [
      "1. Feature 3 (0.842676)\n",
      "2. Feature 2 (0.071164)\n",
      "3. Feature 1 (0.053655)\n",
      "4. Feature 0 (0.032506)\n"
     ]
    },
    {
     "data": {
      "image/png": "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",
      "text/plain": [
       "<Figure size 640x480 with 1 Axes>"
      ]
     },
     "metadata": {},
     "output_type": "display_data"
    }
   ],
   "source": [
    "from sklearn.preprocessing import StandardScaler\n",
    "from sklearn.decomposition import PCA\n",
    "from sklearn.ensemble import RandomForestClassifier\n",
    "from sklearn.discriminant_analysis import LinearDiscriminantAnalysis\n",
    "\n",
    "# Normalise the features to use zero mean normalisation\n",
    "scaler = StandardScaler()\n",
    "Xs = scaler.fit_transform(X)\n",
    "\n",
    "# Dimensionality Reduction using PCA to reduce features to 2 components\n",
    "pca = PCA(n_components=2)\n",
    "\n",
    "# USING PCA for all\n",
    "#pca.fit(Xs)\n",
    "#Xs = pca.transform(Xs)\n",
    "\n",
    "# USING PCA for only the MRI data\n",
    "#Xs_pca = pca.fit_transform(Xs[:, 11:])\n",
    "#Xs = np.hstack((Xs[:, :11], Xs_pca))\n",
    "\n",
    "required_features = Xs[:, [1, 3, 10]]\n",
    "\n",
    "# Apply LDA to all except required features\n",
    "lda = LinearDiscriminantAnalysis(n_components=1)\n",
    "Xs_lda = lda.fit_transform(np.delete(Xs, [1, 3, 10], axis=1), clf_y)\n",
    "\n",
    "# Combine required features with LDA transformed features\n",
    "Xs = np.hstack((required_features, Xs_lda))\n",
    "\n",
    "#lda = LinearDiscriminantAnalysis(n_components=1)\n",
    "#Xs_lda = lda.fit_transform(Xs[:, 11:], clf_y)\n",
    "#Xs = np.hstack((Xs[:, :11], Xs_lda))\n",
    "\n",
    "rnd_clf = RandomForestClassifier(n_estimators=1000, random_state=0, n_jobs=-1)\n",
    "rnd_clf.fit(Xs, clf_y)\n",
    "importances = rnd_clf.feature_importances_\n",
    "indices = np.argsort(importances)[::-1]\n",
    "for i in range(Xs.shape[1]):\n",
    "    print(\"%d. Feature %d (%f)\" % (i + 1, indices[i], importances[indices[i]]))\n",
    "\n",
    "plt.title('Feature Importances')\n",
    "plt.bar(range(Xs.shape[1]), importances[indices], align='center')\n",
    "plt.xticks(range(Xs.shape[1]), indices)\n",
    "plt.xlim([-1, Xs.shape[1]])\n",
    "plt.show()\n",
    "\n",
    "#Xs = Xs[:, indices[:8]]"
   ]
  },
  {
   "cell_type": "code",
   "execution_count": 26,
   "id": "6a2e5146",
   "metadata": {},
   "outputs": [
    {
     "name": "stdout",
     "output_type": "stream",
     "text": [
      "mean cross-validation accuracy: 0.89\n",
      "mean cross-validation accuracy: 0.82\n"
     ]
    }
   ],
   "source": [
    "from sklearn.linear_model import LogisticRegression\n",
    "from sklearn.model_selection import KFold, cross_val_score\n",
    "\n",
    "log_reg = LogisticRegression()\n",
    "kf = KFold(n_splits=5, shuffle=True, random_state=1)\n",
    "scores = cross_val_score(log_reg, Xs, clf_y, cv=kf)\n",
    "\n",
    "mean_score = np.mean(scores)\n",
    "\n",
    "print(\"mean cross-validation accuracy: {:03.2f}\".format(mean_score))\n",
    "\n",
    "rnd_clf = RandomForestClassifier(n_estimators=1000, random_state=0, n_jobs=-1)\n",
    "kf = KFold(n_splits=5, shuffle=True, random_state=1)\n",
    "scores = cross_val_score(rnd_clf, Xs, clf_y, cv=kf)\n",
    "\n",
    "mean_score = np.mean(scores)\n",
    "\n",
    "print(\"mean cross-validation accuracy: {:03.2f}\".format(mean_score))"
   ]
  },
  {
   "cell_type": "code",
   "execution_count": 25,
   "id": "569c6367",
   "metadata": {},
   "outputs": [
    {
     "name": "stdout",
     "output_type": "stream",
     "text": [
      "Average fold score and standard deviation: (80.75 +- 0.570)%\n"
     ]
    }
   ],
   "source": [
    "# SVM for classification\n",
    "from sklearn.svm import SVC\n",
    "from sklearn.model_selection import KFold, cross_val_score\n",
    "from sklearn.model_selection import cross_val_score\n",
    "\n",
    "# K fold value\n",
    "kf = KFold(n_splits=5, shuffle=True, random_state=1)\n",
    "\n",
    "svm_clf = SVC(C=0.1, kernel=\"rbf\", degree=3, gamma='auto')\n",
    "svm_clf.fit(Xs, clf_y)\n",
    "scores = cross_val_score(svm_clf, Xs, clf_y, cv=kf)\n",
    "\n",
    "avg = (100 * np.mean(scores), 100 * np.std(scores)/np.sqrt(scores.shape[0]))\n",
    "print(\"Average fold score and standard deviation: (%.2f +- %.3f)%%\" %avg)"
=======
   "cell_type": "markdown",
   "metadata": {},
   "source": [
    "### Data Normalisation/Standardisation"
   ]
  },
  {
   "cell_type": "code",
   "execution_count": 68,
   "metadata": {},
   "outputs": [],
   "source": [
    "from sklearn.preprocessing import StandardScaler\n",
    "\n",
    "# Standardise features by removing the mean and scaling to unit variance.\n",
    "scaler = StandardScaler()\n",
    "Xs = scaler.fit_transform(X)"
>>>>>>> Stashed changes
   ]
  },
  {
   "cell_type": "markdown",
<<<<<<< Updated upstream
   "id": "d9721f9b",
   "metadata": {},
   "source": [
    "LDA performs well to increase accuracy. Need to check for any overfitting.\n",
    "LDA for MRI only also does good."
=======
   "metadata": {},
   "source": [
    "### Dimensionality Reduction"
   ]
  },
  {
   "cell_type": "code",
   "execution_count": 69,
   "metadata": {},
   "outputs": [],
   "source": [
    "from sklearn.discriminant_analysis import LinearDiscriminantAnalysis\n",
    "\n",
    "# Select required features (ER, HER2 and Gene)\n",
    "required_features = Xs[:, [1, 3, 10]]\n",
    "\n",
    "# Apply LDA to all features except required ones\n",
    "lda = LinearDiscriminantAnalysis(n_components=1)\n",
    "Xs_lda = lda.fit_transform(np.delete(Xs, [1, 3, 10], axis=1), clf_y)\n",
    "\n",
    "# Combine required features with LDA transformed features\n",
    "Xs = np.hstack((required_features, Xs_lda))"
   ]
  },
  {
   "cell_type": "markdown",
   "metadata": {},
   "source": [
    "### SVM for Classification"
   ]
  },
  {
   "cell_type": "code",
   "execution_count": 70,
   "metadata": {},
   "outputs": [
    {
     "name": "stdout",
     "output_type": "stream",
     "text": [
      "Accuracy: 0.870 (0.038)\n",
      "Best Model: SVC(C=1, gamma=0.01, kernel='linear', random_state=2)\n"
     ]
    }
   ],
   "source": [
    "from numpy._core.fromnumeric import mean\n",
    "from sklearn.svm import SVC\n",
    "from sklearn.model_selection import KFold\n",
    "from sklearn.model_selection import cross_val_score\n",
    "from sklearn.model_selection import GridSearchCV\n",
    "from numpy import std\n",
    "\n",
    "# this nested cross-validation is used to tune the hyperparameters of the model\n",
    "# the code was adapted from: \n",
    "# Brownlee, J. (2018). Nested Cross-Validation for Machine Learning with Python. [online] Machine Learning Mastery.\n",
    "# Available at: https://machinelearningmastery.com/nested-cross-validation-for-machine-learning-with-python/ [Accessed 5 Dec. 2024]\n",
    "\n",
    "# configure the cross-validation procedure for the inner loop\n",
    "cv_inner = KFold(n_splits=5, shuffle=True, random_state=2)\n",
    "\n",
    "# define the classifier\n",
    "classifier = SVC(random_state=2)\n",
    "\n",
    "# define search space of hyperparameters\n",
    "space = dict()\n",
    "space['C'] = [0.1, 1, 10, 100]\n",
    "space['gamma'] = [0.01, 0.1]\n",
    "space['kernel'] = [\"rbf\", \"linear\", \"poly\"]\n",
    "\n",
    "# define GridSearch to search for the best hyperparameters\n",
    "search = GridSearchCV(classifier, space, scoring='accuracy', n_jobs=1, cv=cv_inner, refit=True)\n",
    "\n",
    "# configure the cross-validation procedure for the outer loop\n",
    "cv_outer = KFold(n_splits=5, shuffle=True, random_state=2)\n",
    "\n",
    "# execute the nested cross-validation\n",
    "scores = cross_val_score(search, Xs, clf_y, scoring='accuracy', cv=cv_outer, n_jobs=-1)\n",
    "\n",
    "# fit the search on the whole dataset to get the best model\n",
    "search.fit(Xs, clf_y)\n",
    "model = search.best_estimator_\n",
    "\n",
    "# report performance and best model configuration\n",
    "print('Accuracy: %.3f (%.3f)' % (mean(scores), std(scores)))\n",
    "print('Best Model:', model)"
   ]
  },
  {
   "cell_type": "markdown",
   "metadata": {},
   "source": [
    "### Saving the model"
   ]
  },
  {
   "cell_type": "code",
   "execution_count": 71,
   "metadata": {},
   "outputs": [
    {
     "data": {
      "text/plain": [
       "['pcr_classification_model.joblib']"
      ]
     },
     "execution_count": 71,
     "metadata": {},
     "output_type": "execute_result"
    }
   ],
   "source": [
    "import joblib\n",
    "\n",
    "joblib.dump({\"model\": model, \"scaler\": scaler, \"lda\": lda}, 'pcr_classification_model.joblib')"
>>>>>>> Stashed changes
   ]
  }
 ],
 "metadata": {
  "kernelspec": {
   "display_name": "MLE",
   "language": "python",
   "name": "python3"
  },
  "language_info": {
   "codemirror_mode": {
    "name": "ipython",
    "version": 3
   },
   "file_extension": ".py",
   "mimetype": "text/x-python",
   "name": "python",
   "nbconvert_exporter": "python",
   "pygments_lexer": "ipython3",
   "version": "3.10.13"
  }
 },
 "nbformat": 4,
<<<<<<< Updated upstream
 "nbformat_minor": 5
=======
 "nbformat_minor": 2
>>>>>>> Stashed changes
}
