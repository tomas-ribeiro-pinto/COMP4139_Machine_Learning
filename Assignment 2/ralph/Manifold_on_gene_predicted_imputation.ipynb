{
 "cells": [
  {
   "cell_type": "code",
   "execution_count": 21,
   "metadata": {},
   "outputs": [],
   "source": [
    "import pandas as pd\n",
    "import seaborn as sns\n",
    "import numpy as np\n",
    "import matplotlib.pyplot as plt\n",
    "from sklearn.model_selection import KFold\n",
    "from sklearn.svm import SVR\n",
    "from sklearn.metrics import mean_absolute_error\n",
    "from sklearn.manifold import TSNE, Isomap\n",
    "from sklearn.preprocessing import StandardScaler\n",
    "\n",
    "\n",
    "\n",
    "all_df = pd.read_csv(\"gene_predicted_rest_median_imputed.csv\", index_col=False)\n",
    "all_df.drop('ID', axis=1, inplace=True)\n",
    "all_df.head()\n",
    "# classification target\n",
    "clf_y = all_df['pCR (outcome)']\n",
    "X_clf = all_df[clf_y != 999]\n",
    "X_clf = X_clf.iloc[:, 2:]\n",
    "clf_y = clf_y[clf_y != 999]\n",
    "# regression target\n",
    "rgr_y = all_df['RelapseFreeSurvival (outcome)']\n",
    "X_rgr = all_df[rgr_y != 999]\n",
    "X_rgr = X_rgr.iloc[:, 2:]\n",
    "rgr_y = rgr_y[rgr_y != 999]"
   ]
  },
  {
   "cell_type": "code",
   "execution_count": 22,
   "metadata": {},
   "outputs": [
    {
     "data": {
      "text/plain": [
       "(395,)"
      ]
     },
     "execution_count": 22,
     "metadata": {},
     "output_type": "execute_result"
    }
   ],
   "source": [
    "X_rgr.shape\n",
    "rgr_y.shape"
   ]
  },
  {
   "cell_type": "markdown",
   "metadata": {},
   "source": [
    "### OUTLIER OPTION A: Ralph's Implementation"
   ]
  },
  {
   "cell_type": "code",
   "execution_count": 23,
   "metadata": {},
   "outputs": [
    {
     "name": "stdout",
     "output_type": "stream",
     "text": [
      "Age: 0 outliers\n",
      "ER: 0 outliers\n",
      "PgR: 0 outliers\n",
      "HER2: 0 outliers\n",
      "TrippleNegative: 0 outliers\n",
      "ChemoGrade: 0 outliers\n",
      "Proliferation: 0 outliers\n",
      "HistologyType: 58 outliers\n",
      "LNStatus: 0 outliers\n",
      "TumourStage: 0 outliers\n",
      "Gene: 0 outliers\n",
      "original_shape_Elongation: 0 outliers\n",
      "original_shape_Flatness: 0 outliers\n",
      "original_shape_LeastAxisLength: 1 outliers\n",
      "original_shape_MajorAxisLength: 2 outliers\n",
      "original_shape_Maximum2DDiameterColumn: 0 outliers\n",
      "original_shape_Maximum2DDiameterRow: 3 outliers\n",
      "original_shape_Maximum2DDiameterSlice: 1 outliers\n",
      "original_shape_Maximum3DDiameter: 1 outliers\n",
      "original_shape_MeshVolume: 7 outliers\n",
      "original_shape_MinorAxisLength: 1 outliers\n",
      "original_shape_Sphericity: 0 outliers\n",
      "original_shape_SurfaceArea: 5 outliers\n",
      "original_shape_SurfaceVolumeRatio: 0 outliers\n",
      "original_shape_VoxelVolume: 7 outliers\n",
      "original_firstorder_10Percentile: 0 outliers\n",
      "original_firstorder_90Percentile: 0 outliers\n",
      "original_firstorder_Energy: 13 outliers\n",
      "original_firstorder_Entropy: 0 outliers\n",
      "original_firstorder_InterquartileRange: 0 outliers\n",
      "original_firstorder_Kurtosis: 3 outliers\n",
      "original_firstorder_Maximum: 0 outliers\n",
      "original_firstorder_MeanAbsoluteDeviation: 0 outliers\n",
      "original_firstorder_Mean: 0 outliers\n",
      "original_firstorder_Median: 0 outliers\n",
      "original_firstorder_Minimum: 0 outliers\n",
      "original_firstorder_Range: 0 outliers\n",
      "original_firstorder_RobustMeanAbsoluteDeviation: 0 outliers\n",
      "original_firstorder_RootMeanSquared: 0 outliers\n",
      "original_firstorder_Skewness: 0 outliers\n",
      "original_firstorder_TotalEnergy: 13 outliers\n",
      "original_firstorder_Uniformity: 0 outliers\n",
      "original_firstorder_Variance: 2 outliers\n",
      "original_glcm_Autocorrelation: 15 outliers\n",
      "original_glcm_ClusterProminence: 0 outliers\n",
      "original_glcm_ClusterShade: 0 outliers\n",
      "original_glcm_ClusterTendency: 0 outliers\n",
      "original_glcm_Contrast: 0 outliers\n",
      "original_glcm_Correlation: 0 outliers\n",
      "original_glcm_DifferenceAverage: 0 outliers\n",
      "original_glcm_DifferenceEntropy: 0 outliers\n",
      "original_glcm_DifferenceVariance: 0 outliers\n",
      "original_glcm_Id: 0 outliers\n",
      "original_glcm_Idm: 0 outliers\n",
      "original_glcm_Idmn: 0 outliers\n",
      "original_glcm_Idn: 0 outliers\n",
      "original_glcm_Imc1: 2 outliers\n",
      "original_glcm_Imc2: 0 outliers\n",
      "original_glcm_InverseVariance: 0 outliers\n",
      "original_glcm_JointAverage: 15 outliers\n",
      "original_glcm_JointEnergy: 0 outliers\n",
      "original_glcm_JointEntropy: 0 outliers\n",
      "original_glcm_MCC: 0 outliers\n",
      "original_glcm_MaximumProbability: 0 outliers\n",
      "original_glcm_SumAverage: 15 outliers\n",
      "original_glcm_SumEntropy: 0 outliers\n",
      "original_glcm_SumSquares: 0 outliers\n",
      "original_gldm_DependenceEntropy: 0 outliers\n",
      "original_gldm_DependenceNonUniformity: 6 outliers\n",
      "original_gldm_DependenceNonUniformityNormalized: 0 outliers\n",
      "original_gldm_DependenceVariance: 0 outliers\n",
      "original_gldm_GrayLevelNonUniformity: 6 outliers\n",
      "original_gldm_GrayLevelVariance: 0 outliers\n",
      "original_gldm_HighGrayLevelEmphasis: 15 outliers\n",
      "original_gldm_LargeDependenceEmphasis: 0 outliers\n",
      "original_gldm_LargeDependenceHighGrayLevelEmphasis: 8 outliers\n",
      "original_gldm_LargeDependenceLowGrayLevelEmphasis: 17 outliers\n",
      "original_gldm_LowGrayLevelEmphasis: 15 outliers\n",
      "original_gldm_SmallDependenceEmphasis: 0 outliers\n",
      "original_gldm_SmallDependenceHighGrayLevelEmphasis: 0 outliers\n",
      "original_gldm_SmallDependenceLowGrayLevelEmphasis: 0 outliers\n",
      "original_glrlm_GrayLevelNonUniformity: 6 outliers\n",
      "original_glrlm_GrayLevelNonUniformityNormalized: 0 outliers\n",
      "original_glrlm_GrayLevelVariance: 0 outliers\n",
      "original_glrlm_HighGrayLevelRunEmphasis: 0 outliers\n",
      "original_glrlm_LongRunEmphasis: 1 outliers\n",
      "original_glrlm_LongRunHighGrayLevelEmphasis: 1 outliers\n",
      "original_glrlm_LongRunLowGrayLevelEmphasis: 3 outliers\n",
      "original_glrlm_LowGrayLevelRunEmphasis: 0 outliers\n",
      "original_glrlm_RunEntropy: 0 outliers\n",
      "original_glrlm_RunLengthNonUniformity: 5 outliers\n",
      "original_glrlm_RunLengthNonUniformityNormalized: 0 outliers\n",
      "original_glrlm_RunPercentage: 0 outliers\n",
      "original_glrlm_RunVariance: 1 outliers\n",
      "original_glrlm_ShortRunEmphasis: 0 outliers\n",
      "original_glrlm_ShortRunHighGrayLevelEmphasis: 0 outliers\n",
      "original_glrlm_ShortRunLowGrayLevelEmphasis: 0 outliers\n",
      "original_glszm_GrayLevelNonUniformity: 5 outliers\n",
      "original_glszm_GrayLevelNonUniformityNormalized: 0 outliers\n",
      "original_glszm_GrayLevelVariance: 0 outliers\n",
      "original_glszm_HighGrayLevelZoneEmphasis: 14 outliers\n",
      "original_glszm_LargeAreaEmphasis: 34 outliers\n",
      "original_glszm_LargeAreaHighGrayLevelEmphasis: 32 outliers\n",
      "original_glszm_LargeAreaLowGrayLevelEmphasis: 33 outliers\n",
      "original_glszm_LowGrayLevelZoneEmphasis: 14 outliers\n",
      "original_glszm_SizeZoneNonUniformity: 6 outliers\n",
      "original_glszm_SizeZoneNonUniformityNormalized: 5 outliers\n",
      "original_glszm_SmallAreaEmphasis: 0 outliers\n",
      "original_glszm_SmallAreaHighGrayLevelEmphasis: 0 outliers\n",
      "original_glszm_SmallAreaLowGrayLevelEmphasis: 0 outliers\n",
      "original_glszm_ZoneEntropy: 0 outliers\n",
      "original_glszm_ZonePercentage: 0 outliers\n",
      "original_glszm_ZoneVariance: 29 outliers\n",
      "original_ngtdm_Busyness: 3 outliers\n",
      "original_ngtdm_Coarseness: 40 outliers\n",
      "original_ngtdm_Complexity: 0 outliers\n",
      "original_ngtdm_Contrast: 1 outliers\n",
      "original_ngtdm_Strength: 34 outliers\n"
     ]
    }
   ],
   "source": [
    "outlier_indices = set()\n",
    "for column in X_rgr.columns:\n",
    "    Q1 = X_rgr[column].quantile(0.25)\n",
    "    Q3 = X_rgr[column].quantile(0.75)\n",
    "    IQR = Q3 - Q1\n",
    "\n",
    "    lower_bound = Q1 - 5 * IQR\n",
    "    upper_bound = Q3 + 5 * IQR\n",
    "\n",
    "    outliers = X_rgr[(X_rgr[column] < lower_bound) | (X_rgr[column] > upper_bound)].index\n",
    "    outlier_indices.update(outliers)\n",
    "\n",
    "    outliers_sum = ((X_rgr[column] < lower_bound) | (X_rgr[column] > upper_bound)).sum()\n",
    "    print(f'{column}: {outliers_sum} outliers')\n",
    "\n",
    "outlier_indices = list(outlier_indices)\n",
    "\n",
    "X_rgr = X_rgr.drop(index=outlier_indices)\n",
    "rgr_y = rgr_y.drop(index=outlier_indices)\n",
    "clf_y = clf_y.drop(index=outlier_indices)"
   ]
  },
  {
   "cell_type": "markdown",
   "metadata": {},
   "source": [
    "## OUTLIER OPTION B: Tomas' Implementation"
   ]
  },
  {
   "cell_type": "code",
   "execution_count": 11,
   "metadata": {},
   "outputs": [],
   "source": [
    "def percentile_based_outlier(data, threshold=95):\n",
    "    diff = (100 - threshold) / 2.0\n",
    "    minval, maxval = np.percentile(data, [diff, 100 - diff])\n",
    "    return (data < minval) | (data > maxval)\n",
    "\n",
    "def mad_based_outlier(points, threshold=3.5):\n",
    "    points = np.array(points)\n",
    "    if len(points.shape) == 1:\n",
    "        points = points[:, None]\n",
    "    median_y = np.median(points)\n",
    "    median_absolute_deviation_y = np.median([np.abs(y - median_y) for y in points])\n",
    "    # Small constant added to avoid division by zero\n",
    "    modified_z_scores = [0.6745 * (y - median_y) / (median_absolute_deviation_y + 1e-6) for y in points]\n",
    "\n",
    "    return np.abs(modified_z_scores) > threshold\n",
    "\n",
    "def std_div(data, threshold=3):\n",
    "    std = data.std()\n",
    "    mean = data.mean()\n",
    "    isOutlier = []\n",
    "    for val in data:\n",
    "        if abs(val - mean)/std > threshold:\n",
    "            isOutlier.append(True)\n",
    "        else:\n",
    "            isOutlier.append(False)\n",
    "    return isOutlier\n",
    "\n",
    "def outlierVote(data):\n",
    "    x = percentile_based_outlier(data)\n",
    "    y = mad_based_outlier(data)\n",
    "    z = std_div(data)\n",
    "    temp = list(zip(x, y, z))\n",
    "    final = []\n",
    "    for i in range(len(temp)):\n",
    "        if temp[i].count(False) >= 2:\n",
    "            final.append(False)\n",
    "        else:\n",
    "            final.append(True)\n",
    "    return final\n",
    "\n",
    "def plotOutliers(x):\n",
    "    fig, axes = plt.subplots(nrows=4)\n",
    "    for ax, func in zip(axes, [percentile_based_outlier, mad_based_outlier, std_div, outlierVote]):\n",
    "        sns.distplot(x, ax=ax, rug=True, hist=False)\n",
    "        outliers = func(x)\n",
    "        ax.plot(outliers, np.zeros_like(outliers), 'ro', clip_on=False)\n",
    "\n",
    "    kwargs = dict(y=0.95, x=0.05, ha='left', va='top', size=20)\n",
    "    axes[0].set_title('Percentile-based Outliers', **kwargs)\n",
    "    axes[1].set_title('MAD-based Outliers', **kwargs)\n",
    "    axes[2].set_title('STD-based Outliers', **kwargs)\n",
    "    axes[3].set_title('Majority vote', **kwargs)\n",
    "    fig.suptitle('Comparing Outlier Tests with n={}'.format(len(x)), size=20)\n",
    "    fig = plt.gcf()\n",
    "    fig.set_size_inches(20, 15)\n",
    "\n",
    "def removeOutliers(data):\n",
    "    # Remove outliers from the dataframe\n",
    "    for column in data.columns:\n",
    "        outliers = outlierVote(all_df[column])\n",
    "        # Calculate Non-Outlier Maximum using the outliers list\n",
    "        non_outlier_max = all_df.loc[~np.array(outliers), column].max()\n",
    "        # Replace outliers with the maximum non-outlier value\n",
    "        data.loc[outliers, column] = non_outlier_max\n",
    "\n",
    "removeOutliers(all_df)\n",
    "# Verify the changes\n",
    "all_df.head()\n",
    "\n",
    "# Assign features to X\n",
    "X = all_df.drop(['pCR (outcome)', 'RelapseFreeSurvival (outcome)'], axis=1)"
   ]
  },
  {
   "cell_type": "code",
   "execution_count": 24,
   "metadata": {},
   "outputs": [
    {
     "data": {
      "text/plain": [
       "(264, 118)"
      ]
     },
     "execution_count": 24,
     "metadata": {},
     "output_type": "execute_result"
    }
   ],
   "source": [
    "X_rgr.shape"
   ]
  },
  {
   "cell_type": "code",
   "execution_count": 25,
   "metadata": {},
   "outputs": [],
   "source": [
    "# Normalise X_rgr using sklearn's StandardScaler\n",
    "scaler = StandardScaler()\n",
    "X_rgr = scaler.fit_transform(X_rgr)\n",
    "\n"
   ]
  },
  {
   "cell_type": "code",
   "execution_count": 28,
   "metadata": {},
   "outputs": [
    {
     "data": {
      "image/png": "[encoded data removed]",
      "text/plain": [
       "<Figure size 640x480 with 2 Axes>"
      ]
     },
     "metadata": {},
     "output_type": "display_data"
    }
   ],
   "source": [
    "# Create manifold of MRI scan data (columns 11 onwards)\n",
    "\n",
    "tsne = TSNE(n_components=2, random_state=42)\n",
    "# isomap = Isomap(n_components=)\n",
    "X_tsne_mri = tsne.fit_transform(X_rgr[:,11:])\n",
    "\n",
    "# plot manifold\n",
    "plt.scatter(X_tsne_mri[:, -2], X_tsne_mri[:, -1], c=clf_y, cmap=\"jet\")\n",
    "plt.axis('off')\n",
    "plt.colorbar()\n",
    "plt.show()\n",
    "\n",
    "# combine columns 0-10 with the manifold\n",
    "X_tsne_mri = np.c_[X_rgr[:,0:11], X_tsne_mri]"
   ]
  },
  {
   "cell_type": "code",
   "execution_count": 29,
   "metadata": {},
   "outputs": [
    {
     "name": "stderr",
     "output_type": "stream",
     "text": [
      "c:\\Users\\ralph\\Desktop\\Virtual Environments\\ML\\Lib\\site-packages\\umap\\umap_.py:1952: UserWarning: n_jobs value 1 overridden to 1 by setting random_state. Use no seed for parallelism.\n",
      "  warn(\n"
     ]
    },
    {
     "data": {
      "image/png": "[encoded data removed]",
      "text/plain": [
       "<Figure size 640x480 with 2 Axes>"
      ]
     },
     "metadata": {},
     "output_type": "display_data"
    }
   ],
   "source": [
    "import umap.umap_ as umap\n",
    "\n",
    "# Create manifold of MRI scan data (columns 11 onwards)\n",
    "\n",
    "# Create UMAP manifold of MRI scan data (columns 11 onwards)\n",
    "umap_model = umap.UMAP(n_components=2, random_state=42)\n",
    "X_umap_mri = umap_model.fit_transform(X_rgr[:, 11:])\n",
    "\n",
    "# plot manifold\n",
    "plt.scatter(X_umap_mri[:, 0], X_umap_mri[:, 1], c=rgr_y, cmap=\"jet\")\n",
    "plt.axis('off')\n",
    "plt.colorbar()\n",
    "plt.show()\n",
    "\n",
    "# combine columns 0-10 with the manifold\n",
    "X_umap_mri = np.c_[X_rgr[:, 0:11], X_umap_mri]"
   ]
  },
  {
   "cell_type": "markdown",
   "metadata": {},
   "source": [
    "## Nested K-Fold Validation: Number of Dimensions\n",
    "#### Not much better"
   ]
  },
  {
   "cell_type": "code",
   "execution_count": 30,
   "metadata": {},
   "outputs": [
    {
     "name": "stderr",
     "output_type": "stream",
     "text": [
      "c:\\Users\\ralph\\Desktop\\Virtual Environments\\ML\\Lib\\site-packages\\umap\\umap_.py:1952: UserWarning: n_jobs value 1 overridden to 1 by setting random_state. Use no seed for parallelism.\n",
      "  warn(\n",
      "c:\\Users\\ralph\\Desktop\\Virtual Environments\\ML\\Lib\\site-packages\\umap\\umap_.py:1952: UserWarning: n_jobs value 1 overridden to 1 by setting random_state. Use no seed for parallelism.\n",
      "  warn(\n"
     ]
    },
    {
     "name": "stdout",
     "output_type": "stream",
     "text": [
      "Degree 1 Validation MAE: 24.71 ---- Degree 2 Validation MAE: 20.61 ---- "
     ]
    },
    {
     "name": "stderr",
     "output_type": "stream",
     "text": [
      "c:\\Users\\ralph\\Desktop\\Virtual Environments\\ML\\Lib\\site-packages\\umap\\umap_.py:1952: UserWarning: n_jobs value 1 overridden to 1 by setting random_state. Use no seed for parallelism.\n",
      "  warn(\n",
      "c:\\Users\\ralph\\Desktop\\Virtual Environments\\ML\\Lib\\site-packages\\umap\\umap_.py:1952: UserWarning: n_jobs value 1 overridden to 1 by setting random_state. Use no seed for parallelism.\n",
      "  warn(\n"
     ]
    },
    {
     "name": "stdout",
     "output_type": "stream",
     "text": [
      "Degree 3 Validation MAE: 21.62 ---- Degree 4 Validation MAE: 23.63 ---- "
     ]
    },
    {
     "name": "stderr",
     "output_type": "stream",
     "text": [
      "c:\\Users\\ralph\\Desktop\\Virtual Environments\\ML\\Lib\\site-packages\\umap\\umap_.py:1952: UserWarning: n_jobs value 1 overridden to 1 by setting random_state. Use no seed for parallelism.\n",
      "  warn(\n"
     ]
    },
    {
     "name": "stdout",
     "output_type": "stream",
     "text": [
      "Degree 5 Validation MAE: 20.44 ---- "
     ]
    },
    {
     "name": "stderr",
     "output_type": "stream",
     "text": [
      "c:\\Users\\ralph\\Desktop\\Virtual Environments\\ML\\Lib\\site-packages\\umap\\umap_.py:1952: UserWarning: n_jobs value 1 overridden to 1 by setting random_state. Use no seed for parallelism.\n",
      "  warn(\n"
     ]
    },
    {
     "name": "stdout",
     "output_type": "stream",
     "text": [
      "Degree 6 Validation MAE: 23.4 ---- "
     ]
    },
    {
     "name": "stderr",
     "output_type": "stream",
     "text": [
      "c:\\Users\\ralph\\Desktop\\Virtual Environments\\ML\\Lib\\site-packages\\umap\\umap_.py:1952: UserWarning: n_jobs value 1 overridden to 1 by setting random_state. Use no seed for parallelism.\n",
      "  warn(\n"
     ]
    },
    {
     "name": "stdout",
     "output_type": "stream",
     "text": [
      "Degree 7 Validation MAE: 24.59 ---- Degree 8 Validation MAE: 21.39 ---- "
     ]
    },
    {
     "name": "stderr",
     "output_type": "stream",
     "text": [
      "c:\\Users\\ralph\\Desktop\\Virtual Environments\\ML\\Lib\\site-packages\\umap\\umap_.py:1952: UserWarning: n_jobs value 1 overridden to 1 by setting random_state. Use no seed for parallelism.\n",
      "  warn(\n",
      "c:\\Users\\ralph\\Desktop\\Virtual Environments\\ML\\Lib\\site-packages\\umap\\umap_.py:1952: UserWarning: n_jobs value 1 overridden to 1 by setting random_state. Use no seed for parallelism.\n",
      "  warn(\n"
     ]
    },
    {
     "name": "stdout",
     "output_type": "stream",
     "text": [
      "Degree 9 Validation MAE: 25.13 ---- Degree 10 Validation MAE: 18.34 ---- "
     ]
    },
    {
     "name": "stderr",
     "output_type": "stream",
     "text": [
      "c:\\Users\\ralph\\Desktop\\Virtual Environments\\ML\\Lib\\site-packages\\umap\\umap_.py:1952: UserWarning: n_jobs value 1 overridden to 1 by setting random_state. Use no seed for parallelism.\n",
      "  warn(\n",
      "c:\\Users\\ralph\\Desktop\\Virtual Environments\\ML\\Lib\\site-packages\\umap\\umap_.py:1952: UserWarning: n_jobs value 1 overridden to 1 by setting random_state. Use no seed for parallelism.\n",
      "  warn(\n",
      "c:\\Users\\ralph\\Desktop\\Virtual Environments\\ML\\Lib\\site-packages\\umap\\umap_.py:1952: UserWarning: n_jobs value 1 overridden to 1 by setting random_state. Use no seed for parallelism.\n",
      "  warn(\n",
      "c:\\Users\\ralph\\Desktop\\Virtual Environments\\ML\\Lib\\site-packages\\umap\\umap_.py:1952: UserWarning: n_jobs value 1 overridden to 1 by setting random_state. Use no seed for parallelism.\n",
      "  warn(\n"
     ]
    },
    {
     "name": "stdout",
     "output_type": "stream",
     "text": [
      "Degree 1 Validation MAE: 24.06 ---- Degree 2 Validation MAE: 18.66 ---- "
     ]
    },
    {
     "name": "stderr",
     "output_type": "stream",
     "text": [
      "c:\\Users\\ralph\\Desktop\\Virtual Environments\\ML\\Lib\\site-packages\\umap\\umap_.py:1952: UserWarning: n_jobs value 1 overridden to 1 by setting random_state. Use no seed for parallelism.\n",
      "  warn(\n",
      "c:\\Users\\ralph\\Desktop\\Virtual Environments\\ML\\Lib\\site-packages\\umap\\umap_.py:1952: UserWarning: n_jobs value 1 overridden to 1 by setting random_state. Use no seed for parallelism.\n",
      "  warn(\n"
     ]
    },
    {
     "name": "stdout",
     "output_type": "stream",
     "text": [
      "Degree 3 Validation MAE: 22.51 ---- Degree 4 Validation MAE: 19.49 ---- "
     ]
    },
    {
     "name": "stderr",
     "output_type": "stream",
     "text": [
      "c:\\Users\\ralph\\Desktop\\Virtual Environments\\ML\\Lib\\site-packages\\umap\\umap_.py:1952: UserWarning: n_jobs value 1 overridden to 1 by setting random_state. Use no seed for parallelism.\n",
      "  warn(\n",
      "c:\\Users\\ralph\\Desktop\\Virtual Environments\\ML\\Lib\\site-packages\\umap\\umap_.py:1952: UserWarning: n_jobs value 1 overridden to 1 by setting random_state. Use no seed for parallelism.\n",
      "  warn(\n"
     ]
    },
    {
     "name": "stdout",
     "output_type": "stream",
     "text": [
      "Degree 5 Validation MAE: 20.27 ---- Degree 6 Validation MAE: 20.92 ---- Degree 7 Validation MAE: 19.8 ---- "
     ]
    },
    {
     "name": "stderr",
     "output_type": "stream",
     "text": [
      "c:\\Users\\ralph\\Desktop\\Virtual Environments\\ML\\Lib\\site-packages\\umap\\umap_.py:1952: UserWarning: n_jobs value 1 overridden to 1 by setting random_state. Use no seed for parallelism.\n",
      "  warn(\n",
      "c:\\Users\\ralph\\Desktop\\Virtual Environments\\ML\\Lib\\site-packages\\umap\\umap_.py:1952: UserWarning: n_jobs value 1 overridden to 1 by setting random_state. Use no seed for parallelism.\n",
      "  warn(\n"
     ]
    },
    {
     "name": "stdout",
     "output_type": "stream",
     "text": [
      "Degree 8 Validation MAE: 22.69 ---- "
     ]
    },
    {
     "name": "stderr",
     "output_type": "stream",
     "text": [
      "c:\\Users\\ralph\\Desktop\\Virtual Environments\\ML\\Lib\\site-packages\\umap\\umap_.py:1952: UserWarning: n_jobs value 1 overridden to 1 by setting random_state. Use no seed for parallelism.\n",
      "  warn(\n"
     ]
    },
    {
     "name": "stdout",
     "output_type": "stream",
     "text": [
      "Degree 9 Validation MAE: 27.65 ---- "
     ]
    },
    {
     "name": "stderr",
     "output_type": "stream",
     "text": [
      "c:\\Users\\ralph\\Desktop\\Virtual Environments\\ML\\Lib\\site-packages\\umap\\umap_.py:1952: UserWarning: n_jobs value 1 overridden to 1 by setting random_state. Use no seed for parallelism.\n",
      "  warn(\n"
     ]
    },
    {
     "name": "stdout",
     "output_type": "stream",
     "text": [
      "Degree 10 Validation MAE: 19.93 ---- "
     ]
    },
    {
     "name": "stderr",
     "output_type": "stream",
     "text": [
      "c:\\Users\\ralph\\Desktop\\Virtual Environments\\ML\\Lib\\site-packages\\umap\\umap_.py:1952: UserWarning: n_jobs value 1 overridden to 1 by setting random_state. Use no seed for parallelism.\n",
      "  warn(\n",
      "c:\\Users\\ralph\\Desktop\\Virtual Environments\\ML\\Lib\\site-packages\\umap\\umap_.py:1952: UserWarning: n_jobs value 1 overridden to 1 by setting random_state. Use no seed for parallelism.\n",
      "  warn(\n",
      "c:\\Users\\ralph\\Desktop\\Virtual Environments\\ML\\Lib\\site-packages\\umap\\umap_.py:1952: UserWarning: n_jobs value 1 overridden to 1 by setting random_state. Use no seed for parallelism.\n",
      "  warn(\n"
     ]
    },
    {
     "name": "stdout",
     "output_type": "stream",
     "text": [
      "Degree 1 Validation MAE: 27.47 ---- Degree 2 Validation MAE: 17.85 ---- "
     ]
    },
    {
     "name": "stderr",
     "output_type": "stream",
     "text": [
      "c:\\Users\\ralph\\Desktop\\Virtual Environments\\ML\\Lib\\site-packages\\umap\\umap_.py:1952: UserWarning: n_jobs value 1 overridden to 1 by setting random_state. Use no seed for parallelism.\n",
      "  warn(\n"
     ]
    },
    {
     "name": "stdout",
     "output_type": "stream",
     "text": [
      "Degree 3 Validation MAE: 21.2 ---- "
     ]
    },
    {
     "name": "stderr",
     "output_type": "stream",
     "text": [
      "c:\\Users\\ralph\\Desktop\\Virtual Environments\\ML\\Lib\\site-packages\\umap\\umap_.py:1952: UserWarning: n_jobs value 1 overridden to 1 by setting random_state. Use no seed for parallelism.\n",
      "  warn(\n"
     ]
    },
    {
     "name": "stdout",
     "output_type": "stream",
     "text": [
      "Degree 4 Validation MAE: 22.63 ---- "
     ]
    },
    {
     "name": "stderr",
     "output_type": "stream",
     "text": [
      "c:\\Users\\ralph\\Desktop\\Virtual Environments\\ML\\Lib\\site-packages\\umap\\umap_.py:1952: UserWarning: n_jobs value 1 overridden to 1 by setting random_state. Use no seed for parallelism.\n",
      "  warn(\n"
     ]
    },
    {
     "name": "stdout",
     "output_type": "stream",
     "text": [
      "Degree 5 Validation MAE: 21.83 ---- "
     ]
    },
    {
     "name": "stderr",
     "output_type": "stream",
     "text": [
      "c:\\Users\\ralph\\Desktop\\Virtual Environments\\ML\\Lib\\site-packages\\umap\\umap_.py:1952: UserWarning: n_jobs value 1 overridden to 1 by setting random_state. Use no seed for parallelism.\n",
      "  warn(\n"
     ]
    },
    {
     "name": "stdout",
     "output_type": "stream",
     "text": [
      "Degree 6 Validation MAE: 18.21 ---- "
     ]
    },
    {
     "name": "stderr",
     "output_type": "stream",
     "text": [
      "c:\\Users\\ralph\\Desktop\\Virtual Environments\\ML\\Lib\\site-packages\\umap\\umap_.py:1952: UserWarning: n_jobs value 1 overridden to 1 by setting random_state. Use no seed for parallelism.\n",
      "  warn(\n"
     ]
    },
    {
     "name": "stdout",
     "output_type": "stream",
     "text": [
      "Degree 7 Validation MAE: 27.33 ---- "
     ]
    },
    {
     "name": "stderr",
     "output_type": "stream",
     "text": [
      "c:\\Users\\ralph\\Desktop\\Virtual Environments\\ML\\Lib\\site-packages\\umap\\umap_.py:1952: UserWarning: n_jobs value 1 overridden to 1 by setting random_state. Use no seed for parallelism.\n",
      "  warn(\n"
     ]
    },
    {
     "name": "stdout",
     "output_type": "stream",
     "text": [
      "Degree 8 Validation MAE: 22.65 ---- "
     ]
    },
    {
     "name": "stderr",
     "output_type": "stream",
     "text": [
      "c:\\Users\\ralph\\Desktop\\Virtual Environments\\ML\\Lib\\site-packages\\umap\\umap_.py:1952: UserWarning: n_jobs value 1 overridden to 1 by setting random_state. Use no seed for parallelism.\n",
      "  warn(\n"
     ]
    },
    {
     "name": "stdout",
     "output_type": "stream",
     "text": [
      "Degree 9 Validation MAE: 24.46 ---- Degree 10 Validation MAE: 19.34 ---- "
     ]
    },
    {
     "name": "stderr",
     "output_type": "stream",
     "text": [
      "c:\\Users\\ralph\\Desktop\\Virtual Environments\\ML\\Lib\\site-packages\\umap\\umap_.py:1952: UserWarning: n_jobs value 1 overridden to 1 by setting random_state. Use no seed for parallelism.\n",
      "  warn(\n",
      "c:\\Users\\ralph\\Desktop\\Virtual Environments\\ML\\Lib\\site-packages\\umap\\umap_.py:1952: UserWarning: n_jobs value 1 overridden to 1 by setting random_state. Use no seed for parallelism.\n",
      "  warn(\n",
      "c:\\Users\\ralph\\Desktop\\Virtual Environments\\ML\\Lib\\site-packages\\umap\\umap_.py:1952: UserWarning: n_jobs value 1 overridden to 1 by setting random_state. Use no seed for parallelism.\n",
      "  warn(\n",
      "c:\\Users\\ralph\\Desktop\\Virtual Environments\\ML\\Lib\\site-packages\\umap\\umap_.py:1952: UserWarning: n_jobs value 1 overridden to 1 by setting random_state. Use no seed for parallelism.\n",
      "  warn(\n"
     ]
    },
    {
     "name": "stdout",
     "output_type": "stream",
     "text": [
      "Degree 1 Validation MAE: 23.21 ---- Degree 2 Validation MAE: 25.68 ---- "
     ]
    },
    {
     "name": "stderr",
     "output_type": "stream",
     "text": [
      "c:\\Users\\ralph\\Desktop\\Virtual Environments\\ML\\Lib\\site-packages\\umap\\umap_.py:1952: UserWarning: n_jobs value 1 overridden to 1 by setting random_state. Use no seed for parallelism.\n",
      "  warn(\n"
     ]
    },
    {
     "name": "stdout",
     "output_type": "stream",
     "text": [
      "Degree 3 Validation MAE: 21.57 ---- Degree 4 Validation MAE: 21.32 ---- "
     ]
    },
    {
     "name": "stderr",
     "output_type": "stream",
     "text": [
      "c:\\Users\\ralph\\Desktop\\Virtual Environments\\ML\\Lib\\site-packages\\umap\\umap_.py:1952: UserWarning: n_jobs value 1 overridden to 1 by setting random_state. Use no seed for parallelism.\n",
      "  warn(\n",
      "c:\\Users\\ralph\\Desktop\\Virtual Environments\\ML\\Lib\\site-packages\\umap\\umap_.py:1952: UserWarning: n_jobs value 1 overridden to 1 by setting random_state. Use no seed for parallelism.\n",
      "  warn(\n"
     ]
    },
    {
     "name": "stdout",
     "output_type": "stream",
     "text": [
      "Degree 5 Validation MAE: 17.23 ---- "
     ]
    },
    {
     "name": "stderr",
     "output_type": "stream",
     "text": [
      "c:\\Users\\ralph\\Desktop\\Virtual Environments\\ML\\Lib\\site-packages\\umap\\umap_.py:1952: UserWarning: n_jobs value 1 overridden to 1 by setting random_state. Use no seed for parallelism.\n",
      "  warn(\n"
     ]
    },
    {
     "name": "stdout",
     "output_type": "stream",
     "text": [
      "Degree 6 Validation MAE: 21.33 ---- "
     ]
    },
    {
     "name": "stderr",
     "output_type": "stream",
     "text": [
      "c:\\Users\\ralph\\Desktop\\Virtual Environments\\ML\\Lib\\site-packages\\umap\\umap_.py:1952: UserWarning: n_jobs value 1 overridden to 1 by setting random_state. Use no seed for parallelism.\n",
      "  warn(\n"
     ]
    },
    {
     "name": "stdout",
     "output_type": "stream",
     "text": [
      "Degree 7 Validation MAE: 20.29 ---- Degree 8 Validation MAE: 22.14 ---- "
     ]
    },
    {
     "name": "stderr",
     "output_type": "stream",
     "text": [
      "c:\\Users\\ralph\\Desktop\\Virtual Environments\\ML\\Lib\\site-packages\\umap\\umap_.py:1952: UserWarning: n_jobs value 1 overridden to 1 by setting random_state. Use no seed for parallelism.\n",
      "  warn(\n",
      "c:\\Users\\ralph\\Desktop\\Virtual Environments\\ML\\Lib\\site-packages\\umap\\umap_.py:1952: UserWarning: n_jobs value 1 overridden to 1 by setting random_state. Use no seed for parallelism.\n",
      "  warn(\n"
     ]
    },
    {
     "name": "stdout",
     "output_type": "stream",
     "text": [
      "Degree 9 Validation MAE: 23.07 ---- "
     ]
    },
    {
     "name": "stderr",
     "output_type": "stream",
     "text": [
      "c:\\Users\\ralph\\Desktop\\Virtual Environments\\ML\\Lib\\site-packages\\umap\\umap_.py:1952: UserWarning: n_jobs value 1 overridden to 1 by setting random_state. Use no seed for parallelism.\n",
      "  warn(\n"
     ]
    },
    {
     "name": "stdout",
     "output_type": "stream",
     "text": [
      "Degree 10 Validation MAE: 18.84 ---- "
     ]
    },
    {
     "name": "stderr",
     "output_type": "stream",
     "text": [
      "c:\\Users\\ralph\\Desktop\\Virtual Environments\\ML\\Lib\\site-packages\\umap\\umap_.py:1952: UserWarning: n_jobs value 1 overridden to 1 by setting random_state. Use no seed for parallelism.\n",
      "  warn(\n",
      "c:\\Users\\ralph\\Desktop\\Virtual Environments\\ML\\Lib\\site-packages\\umap\\umap_.py:1952: UserWarning: n_jobs value 1 overridden to 1 by setting random_state. Use no seed for parallelism.\n",
      "  warn(\n"
     ]
    },
    {
     "name": "stdout",
     "output_type": "stream",
     "text": [
      "Degree 1 Validation MAE: 27.71 ---- Degree 2 Validation MAE: 24.86 ---- "
     ]
    },
    {
     "name": "stderr",
     "output_type": "stream",
     "text": [
      "c:\\Users\\ralph\\Desktop\\Virtual Environments\\ML\\Lib\\site-packages\\umap\\umap_.py:1952: UserWarning: n_jobs value 1 overridden to 1 by setting random_state. Use no seed for parallelism.\n",
      "  warn(\n",
      "c:\\Users\\ralph\\Desktop\\Virtual Environments\\ML\\Lib\\site-packages\\umap\\umap_.py:1952: UserWarning: n_jobs value 1 overridden to 1 by setting random_state. Use no seed for parallelism.\n",
      "  warn(\n"
     ]
    },
    {
     "name": "stdout",
     "output_type": "stream",
     "text": [
      "Degree 3 Validation MAE: 17.71 ---- "
     ]
    },
    {
     "name": "stderr",
     "output_type": "stream",
     "text": [
      "c:\\Users\\ralph\\Desktop\\Virtual Environments\\ML\\Lib\\site-packages\\umap\\umap_.py:1952: UserWarning: n_jobs value 1 overridden to 1 by setting random_state. Use no seed for parallelism.\n",
      "  warn(\n"
     ]
    },
    {
     "name": "stdout",
     "output_type": "stream",
     "text": [
      "Degree 4 Validation MAE: 22.0 ---- "
     ]
    },
    {
     "name": "stderr",
     "output_type": "stream",
     "text": [
      "c:\\Users\\ralph\\Desktop\\Virtual Environments\\ML\\Lib\\site-packages\\umap\\umap_.py:1952: UserWarning: n_jobs value 1 overridden to 1 by setting random_state. Use no seed for parallelism.\n",
      "  warn(\n"
     ]
    },
    {
     "name": "stdout",
     "output_type": "stream",
     "text": [
      "Degree 5 Validation MAE: 17.46 ---- "
     ]
    },
    {
     "name": "stderr",
     "output_type": "stream",
     "text": [
      "c:\\Users\\ralph\\Desktop\\Virtual Environments\\ML\\Lib\\site-packages\\umap\\umap_.py:1952: UserWarning: n_jobs value 1 overridden to 1 by setting random_state. Use no seed for parallelism.\n",
      "  warn(\n"
     ]
    },
    {
     "name": "stdout",
     "output_type": "stream",
     "text": [
      "Degree 6 Validation MAE: 23.76 ---- "
     ]
    },
    {
     "name": "stderr",
     "output_type": "stream",
     "text": [
      "c:\\Users\\ralph\\Desktop\\Virtual Environments\\ML\\Lib\\site-packages\\umap\\umap_.py:1952: UserWarning: n_jobs value 1 overridden to 1 by setting random_state. Use no seed for parallelism.\n",
      "  warn(\n"
     ]
    },
    {
     "name": "stdout",
     "output_type": "stream",
     "text": [
      "Degree 7 Validation MAE: 18.14 ---- Degree 8 Validation MAE: 24.31 ---- "
     ]
    },
    {
     "name": "stderr",
     "output_type": "stream",
     "text": [
      "c:\\Users\\ralph\\Desktop\\Virtual Environments\\ML\\Lib\\site-packages\\umap\\umap_.py:1952: UserWarning: n_jobs value 1 overridden to 1 by setting random_state. Use no seed for parallelism.\n",
      "  warn(\n",
      "c:\\Users\\ralph\\Desktop\\Virtual Environments\\ML\\Lib\\site-packages\\umap\\umap_.py:1952: UserWarning: n_jobs value 1 overridden to 1 by setting random_state. Use no seed for parallelism.\n",
      "  warn(\n"
     ]
    },
    {
     "name": "stdout",
     "output_type": "stream",
     "text": [
      "Degree 9 Validation MAE: 24.23 ---- "
     ]
    },
    {
     "name": "stderr",
     "output_type": "stream",
     "text": [
      "c:\\Users\\ralph\\Desktop\\Virtual Environments\\ML\\Lib\\site-packages\\umap\\umap_.py:1952: UserWarning: n_jobs value 1 overridden to 1 by setting random_state. Use no seed for parallelism.\n",
      "  warn(\n"
     ]
    },
    {
     "name": "stdout",
     "output_type": "stream",
     "text": [
      "Degree 10 Validation MAE: 20.49 ---- "
     ]
    },
    {
     "name": "stderr",
     "output_type": "stream",
     "text": [
      "c:\\Users\\ralph\\Desktop\\Virtual Environments\\ML\\Lib\\site-packages\\umap\\umap_.py:1952: UserWarning: n_jobs value 1 overridden to 1 by setting random_state. Use no seed for parallelism.\n",
      "  warn(\n"
     ]
    },
    {
     "name": "stdout",
     "output_type": "stream",
     "text": [
      "\n",
      "Summary of outer folds:\n",
      "Fold 1: Best Degree of 10, Validation MAE = 18.3423, Test MAE = 19.8050\n",
      "Fold 2: Best Degree of 2, Validation MAE = 18.6625, Test MAE = 22.8543\n",
      "Fold 3: Best Degree of 2, Validation MAE = 17.8548, Test MAE = 20.0847\n",
      "Fold 4: Best Degree of 5, Validation MAE = 17.2349, Test MAE = 23.7966\n",
      "Fold 5: Best Degree of 5, Validation MAE = 17.4642, Test MAE = 21.9420\n",
      "\n",
      "Average Test MAE: 21.6965\n"
     ]
    }
   ],
   "source": [
    "num_splits = 5\n",
    "kf = KFold(n_splits=num_splits, shuffle=True, random_state=1)\n",
    "svr_outer = SVR(C=3, gamma=0.1, kernel='rbf')\n",
    "svr_inner = SVR(C=3, gamma=0.1, kernel='rbf')\n",
    "n_neighbours = 5\n",
    "n_dimensions_range = 10 # Set hyperparameter range of values\n",
    "kf_inner = KFold(n_splits=n_dimensions_range, shuffle=True, random_state=1) # Create kfold for inner loop\n",
    "\n",
    "best_n_dimensions_list = []   # Best degrees resulting from inner fold\n",
    "best_val_mae_list = []  # For inner fold\n",
    "test_mae_list = [] # For outer fold\n",
    "\n",
    "for train_index, test_index in kf.split(X_umap_mri):\n",
    "    X_train, X_test = X_umap_mri[train_index],X_umap_mri[test_index]\n",
    "    y_train, y_test = rgr_y.iloc[train_index], rgr_y.iloc[test_index]\n",
    "\n",
    "    best_n_dimensions = 1\n",
    "    best_val_mae = np.inf\n",
    "\n",
    "    degree = 1\n",
    "    for train_index_inner, val_index in kf_inner.split(X_train):\n",
    "        X_train_inner, X_val = X_train[train_index_inner],  X_train[val_index]\n",
    "        y_train_inner, y_val = y_train.iloc[train_index_inner],  y_train.iloc[val_index]\n",
    "\n",
    "        # train model with x_train_inner and y_train_inner with n dimensions\n",
    "        umap_inner = umap.UMAP(n_components=degree, random_state=42, n_neighbors = n_neighbours)\n",
    "\n",
    "        # Create the pure and interaction terms of degree n\n",
    "        X_umap_train_inner = umap_inner.fit_transform(X_train_inner[:,11:])\n",
    "        X_umap_train_inner = np.c_[X_train_inner[:,0:11], X_umap_train_inner]\n",
    "        X_umap_val = umap_inner.fit_transform(X_val[:,11:])\n",
    "        X_umap_val = np.c_[X_val[:,0:11], X_umap_val]\n",
    "\n",
    "        svr_inner.fit(X_umap_train_inner, y_train_inner)\n",
    "\n",
    "        # validate model on validation data and get MAE\n",
    "        y_pred_inner = svr_inner.predict(X_umap_val)\n",
    "        mae = mean_absolute_error(y_val, y_pred_inner)\n",
    "        print(f\"Degree {degree} Validation MAE: {mae:.4}\", end=\" ---- \")\n",
    "\n",
    "        # if MAE is best so far, save degree and MAE\n",
    "        if mae < best_val_mae:\n",
    "            best_val_mae = mae\n",
    "            best_degree = degree\n",
    "\n",
    "        degree += 1\n",
    "    \n",
    "    best_n_dimensions_list.append(best_degree)\n",
    "    best_val_mae_list.append(best_val_mae)\n",
    "\n",
    "    umap_outer = umap.UMAP(n_components=best_degree, random_state=42, n_neighbors = n_neighbours)\n",
    "    X_train_umap = umap_outer.fit_transform(X_train[:,11:])\n",
    "    X_train_umap = np.c_[X_train[:,0:11], X_train_umap]\n",
    "    X_test_umap = umap_outer.fit_transform(X_test[:,11:])\n",
    "    X_test_umap = np.c_[X_test[:,0:11], X_test_umap]\n",
    "    \n",
    "    svr_outer.fit(X_train_umap, y_train)\n",
    "\n",
    "    y_pred_test = svr_outer.predict(X_test_umap)\n",
    "    test_mae = mean_absolute_error(y_test, y_pred_test)\n",
    "    test_mae_list.append(test_mae)\n",
    "\n",
    "print(\"\\nSummary of outer folds:\")\n",
    "for i in range(num_splits):\n",
    "    print(f\"Fold {i+1}: Best Degree of {best_n_dimensions_list[i]}, Validation MAE = {best_val_mae_list[i]:.4f}, Test MAE = {test_mae_list[i]:.4f}\")\n",
    "\n",
    "print(f\"\\nAverage Test MAE: {np.mean(test_mae_list):.4f}\")\n"
   ]
  },
  {
   "cell_type": "markdown",
   "metadata": {},
   "source": [
    "## Nested K-Fold Validation: Number of Neighbours"
   ]
  },
  {
   "cell_type": "code",
   "execution_count": 32,
   "metadata": {},
   "outputs": [
    {
     "name": "stderr",
     "output_type": "stream",
     "text": [
      "c:\\Users\\ralph\\Desktop\\Virtual Environments\\ML\\Lib\\site-packages\\umap\\umap_.py:1952: UserWarning: n_jobs value 1 overridden to 1 by setting random_state. Use no seed for parallelism.\n",
      "  warn(\n"
     ]
    },
    {
     "name": "stdout",
     "output_type": "stream",
     "text": [
      "n_neighbours 5.0 Validation MAE: 23.07 ---- n_neighbours 5.0 Validation MAE: 20.79 ---- "
     ]
    },
    {
     "name": "stderr",
     "output_type": "stream",
     "text": [
      "c:\\Users\\ralph\\Desktop\\Virtual Environments\\ML\\Lib\\site-packages\\umap\\umap_.py:1952: UserWarning: n_jobs value 1 overridden to 1 by setting random_state. Use no seed for parallelism.\n",
      "  warn(\n",
      "c:\\Users\\ralph\\Desktop\\Virtual Environments\\ML\\Lib\\site-packages\\umap\\umap_.py:1952: UserWarning: n_jobs value 1 overridden to 1 by setting random_state. Use no seed for parallelism.\n",
      "  warn(\n"
     ]
    },
    {
     "name": "stdout",
     "output_type": "stream",
     "text": [
      "n_neighbours 5.0 Validation MAE: 22.56 ---- "
     ]
    },
    {
     "name": "stderr",
     "output_type": "stream",
     "text": [
      "c:\\Users\\ralph\\Desktop\\Virtual Environments\\ML\\Lib\\site-packages\\umap\\umap_.py:1952: UserWarning: n_jobs value 1 overridden to 1 by setting random_state. Use no seed for parallelism.\n",
      "  warn(\n"
     ]
    },
    {
     "name": "stdout",
     "output_type": "stream",
     "text": [
      "n_neighbours 5.0 Validation MAE: 25.78 ---- n_neighbours 5.0 Validation MAE: 22.35 ---- "
     ]
    },
    {
     "name": "stderr",
     "output_type": "stream",
     "text": [
      "c:\\Users\\ralph\\Desktop\\Virtual Environments\\ML\\Lib\\site-packages\\umap\\umap_.py:1952: UserWarning: n_jobs value 1 overridden to 1 by setting random_state. Use no seed for parallelism.\n",
      "  warn(\n",
      "c:\\Users\\ralph\\Desktop\\Virtual Environments\\ML\\Lib\\site-packages\\umap\\umap_.py:1952: UserWarning: n_jobs value 1 overridden to 1 by setting random_state. Use no seed for parallelism.\n",
      "  warn(\n"
     ]
    },
    {
     "name": "stdout",
     "output_type": "stream",
     "text": [
      "n_neighbours 5.0 Validation MAE: 21.68 ---- "
     ]
    },
    {
     "name": "stderr",
     "output_type": "stream",
     "text": [
      "c:\\Users\\ralph\\Desktop\\Virtual Environments\\ML\\Lib\\site-packages\\umap\\umap_.py:1952: UserWarning: n_jobs value 1 overridden to 1 by setting random_state. Use no seed for parallelism.\n",
      "  warn(\n",
      "c:\\Users\\ralph\\Desktop\\Virtual Environments\\ML\\Lib\\site-packages\\umap\\umap_.py:1952: UserWarning: n_jobs value 1 overridden to 1 by setting random_state. Use no seed for parallelism.\n",
      "  warn(\n",
      "c:\\Users\\ralph\\Desktop\\Virtual Environments\\ML\\Lib\\site-packages\\umap\\umap_.py:1952: UserWarning: n_jobs value 1 overridden to 1 by setting random_state. Use no seed for parallelism.\n",
      "  warn(\n"
     ]
    },
    {
     "name": "stdout",
     "output_type": "stream",
     "text": [
      "n_neighbours 5.0 Validation MAE: 24.02 ---- n_neighbours 5.0 Validation MAE: 19.86 ---- "
     ]
    },
    {
     "name": "stderr",
     "output_type": "stream",
     "text": [
      "c:\\Users\\ralph\\Desktop\\Virtual Environments\\ML\\Lib\\site-packages\\umap\\umap_.py:1952: UserWarning: n_jobs value 1 overridden to 1 by setting random_state. Use no seed for parallelism.\n",
      "  warn(\n"
     ]
    },
    {
     "name": "stdout",
     "output_type": "stream",
     "text": [
      "n_neighbours 5.0 Validation MAE: 22.42 ---- "
     ]
    },
    {
     "name": "stderr",
     "output_type": "stream",
     "text": [
      "c:\\Users\\ralph\\Desktop\\Virtual Environments\\ML\\Lib\\site-packages\\umap\\umap_.py:1952: UserWarning: n_jobs value 1 overridden to 1 by setting random_state. Use no seed for parallelism.\n",
      "  warn(\n"
     ]
    },
    {
     "name": "stdout",
     "output_type": "stream",
     "text": [
      "n_neighbours 5.0 Validation MAE: 20.98 ---- "
     ]
    },
    {
     "name": "stderr",
     "output_type": "stream",
     "text": [
      "c:\\Users\\ralph\\Desktop\\Virtual Environments\\ML\\Lib\\site-packages\\umap\\umap_.py:1952: UserWarning: n_jobs value 1 overridden to 1 by setting random_state. Use no seed for parallelism.\n",
      "  warn(\n"
     ]
    },
    {
     "name": "stdout",
     "output_type": "stream",
     "text": [
      "n_neighbours 5.0 Validation MAE: 20.95 ---- "
     ]
    },
    {
     "name": "stderr",
     "output_type": "stream",
     "text": [
      "c:\\Users\\ralph\\Desktop\\Virtual Environments\\ML\\Lib\\site-packages\\umap\\umap_.py:1952: UserWarning: n_jobs value 1 overridden to 1 by setting random_state. Use no seed for parallelism.\n",
      "  warn(\n"
     ]
    },
    {
     "name": "stdout",
     "output_type": "stream",
     "text": [
      "n_neighbours 5.0 Validation MAE: 25.26 ---- "
     ]
    },
    {
     "name": "stderr",
     "output_type": "stream",
     "text": [
      "c:\\Users\\ralph\\Desktop\\Virtual Environments\\ML\\Lib\\site-packages\\umap\\umap_.py:1952: UserWarning: n_jobs value 1 overridden to 1 by setting random_state. Use no seed for parallelism.\n",
      "  warn(\n",
      "c:\\Users\\ralph\\Desktop\\Virtual Environments\\ML\\Lib\\site-packages\\umap\\umap_.py:1952: UserWarning: n_jobs value 1 overridden to 1 by setting random_state. Use no seed for parallelism.\n",
      "  warn(\n",
      "c:\\Users\\ralph\\Desktop\\Virtual Environments\\ML\\Lib\\site-packages\\umap\\umap_.py:1952: UserWarning: n_jobs value 1 overridden to 1 by setting random_state. Use no seed for parallelism.\n",
      "  warn(\n"
     ]
    },
    {
     "name": "stdout",
     "output_type": "stream",
     "text": [
      "n_neighbours 5.0 Validation MAE: 24.96 ---- n_neighbours 5.0 Validation MAE: 19.9 ---- "
     ]
    },
    {
     "name": "stderr",
     "output_type": "stream",
     "text": [
      "c:\\Users\\ralph\\Desktop\\Virtual Environments\\ML\\Lib\\site-packages\\umap\\umap_.py:1952: UserWarning: n_jobs value 1 overridden to 1 by setting random_state. Use no seed for parallelism.\n",
      "  warn(\n",
      "c:\\Users\\ralph\\Desktop\\Virtual Environments\\ML\\Lib\\site-packages\\umap\\umap_.py:1952: UserWarning: n_jobs value 1 overridden to 1 by setting random_state. Use no seed for parallelism.\n",
      "  warn(\n"
     ]
    },
    {
     "name": "stdout",
     "output_type": "stream",
     "text": [
      "n_neighbours 5.0 Validation MAE: 24.27 ---- n_neighbours 5.0 Validation MAE: 21.12 ---- "
     ]
    },
    {
     "name": "stderr",
     "output_type": "stream",
     "text": [
      "c:\\Users\\ralph\\Desktop\\Virtual Environments\\ML\\Lib\\site-packages\\umap\\umap_.py:1952: UserWarning: n_jobs value 1 overridden to 1 by setting random_state. Use no seed for parallelism.\n",
      "  warn(\n",
      "c:\\Users\\ralph\\Desktop\\Virtual Environments\\ML\\Lib\\site-packages\\umap\\umap_.py:1952: UserWarning: n_jobs value 1 overridden to 1 by setting random_state. Use no seed for parallelism.\n",
      "  warn(\n"
     ]
    },
    {
     "name": "stdout",
     "output_type": "stream",
     "text": [
      "n_neighbours 5.0 Validation MAE: 24.31 ---- n_neighbours 5.0 Validation MAE: 19.54 ---- "
     ]
    },
    {
     "name": "stderr",
     "output_type": "stream",
     "text": [
      "c:\\Users\\ralph\\Desktop\\Virtual Environments\\ML\\Lib\\site-packages\\umap\\umap_.py:1952: UserWarning: n_jobs value 1 overridden to 1 by setting random_state. Use no seed for parallelism.\n",
      "  warn(\n",
      "c:\\Users\\ralph\\Desktop\\Virtual Environments\\ML\\Lib\\site-packages\\umap\\umap_.py:1952: UserWarning: n_jobs value 1 overridden to 1 by setting random_state. Use no seed for parallelism.\n",
      "  warn(\n",
      "c:\\Users\\ralph\\Desktop\\Virtual Environments\\ML\\Lib\\site-packages\\umap\\umap_.py:1952: UserWarning: n_jobs value 1 overridden to 1 by setting random_state. Use no seed for parallelism.\n",
      "  warn(\n"
     ]
    },
    {
     "name": "stdout",
     "output_type": "stream",
     "text": [
      "n_neighbours 5.0 Validation MAE: 23.76 ---- n_neighbours 5.0 Validation MAE: 21.79 ---- "
     ]
    },
    {
     "name": "stderr",
     "output_type": "stream",
     "text": [
      "c:\\Users\\ralph\\Desktop\\Virtual Environments\\ML\\Lib\\site-packages\\umap\\umap_.py:1952: UserWarning: n_jobs value 1 overridden to 1 by setting random_state. Use no seed for parallelism.\n",
      "  warn(\n",
      "c:\\Users\\ralph\\Desktop\\Virtual Environments\\ML\\Lib\\site-packages\\umap\\umap_.py:1952: UserWarning: n_jobs value 1 overridden to 1 by setting random_state. Use no seed for parallelism.\n",
      "  warn(\n"
     ]
    },
    {
     "name": "stdout",
     "output_type": "stream",
     "text": [
      "n_neighbours 5.0 Validation MAE: 18.61 ---- n_neighbours 5.0 Validation MAE: 20.81 ---- "
     ]
    },
    {
     "name": "stderr",
     "output_type": "stream",
     "text": [
      "c:\\Users\\ralph\\Desktop\\Virtual Environments\\ML\\Lib\\site-packages\\umap\\umap_.py:1952: UserWarning: n_jobs value 1 overridden to 1 by setting random_state. Use no seed for parallelism.\n",
      "  warn(\n",
      "c:\\Users\\ralph\\Desktop\\Virtual Environments\\ML\\Lib\\site-packages\\umap\\umap_.py:1952: UserWarning: n_jobs value 1 overridden to 1 by setting random_state. Use no seed for parallelism.\n",
      "  warn(\n"
     ]
    },
    {
     "name": "stdout",
     "output_type": "stream",
     "text": [
      "n_neighbours 5.0 Validation MAE: 21.47 ---- n_neighbours 5.0 Validation MAE: 20.04 ---- "
     ]
    },
    {
     "name": "stderr",
     "output_type": "stream",
     "text": [
      "c:\\Users\\ralph\\Desktop\\Virtual Environments\\ML\\Lib\\site-packages\\umap\\umap_.py:1952: UserWarning: n_jobs value 1 overridden to 1 by setting random_state. Use no seed for parallelism.\n",
      "  warn(\n",
      "c:\\Users\\ralph\\Desktop\\Virtual Environments\\ML\\Lib\\site-packages\\umap\\umap_.py:1952: UserWarning: n_jobs value 1 overridden to 1 by setting random_state. Use no seed for parallelism.\n",
      "  warn(\n",
      "c:\\Users\\ralph\\Desktop\\Virtual Environments\\ML\\Lib\\site-packages\\umap\\umap_.py:1952: UserWarning: n_jobs value 1 overridden to 1 by setting random_state. Use no seed for parallelism.\n",
      "  warn(\n"
     ]
    },
    {
     "name": "stdout",
     "output_type": "stream",
     "text": [
      "n_neighbours 5.0 Validation MAE: 29.96 ---- n_neighbours 5.0 Validation MAE: 20.64 ---- "
     ]
    },
    {
     "name": "stderr",
     "output_type": "stream",
     "text": [
      "c:\\Users\\ralph\\Desktop\\Virtual Environments\\ML\\Lib\\site-packages\\umap\\umap_.py:1952: UserWarning: n_jobs value 1 overridden to 1 by setting random_state. Use no seed for parallelism.\n",
      "  warn(\n"
     ]
    },
    {
     "name": "stdout",
     "output_type": "stream",
     "text": [
      "n_neighbours 5.0 Validation MAE: 19.62 ---- n_neighbours 5.0 Validation MAE: 20.56 ---- "
     ]
    },
    {
     "name": "stderr",
     "output_type": "stream",
     "text": [
      "c:\\Users\\ralph\\Desktop\\Virtual Environments\\ML\\Lib\\site-packages\\umap\\umap_.py:1952: UserWarning: n_jobs value 1 overridden to 1 by setting random_state. Use no seed for parallelism.\n",
      "  warn(\n",
      "c:\\Users\\ralph\\Desktop\\Virtual Environments\\ML\\Lib\\site-packages\\umap\\umap_.py:1952: UserWarning: n_jobs value 1 overridden to 1 by setting random_state. Use no seed for parallelism.\n",
      "  warn(\n"
     ]
    },
    {
     "name": "stdout",
     "output_type": "stream",
     "text": [
      "n_neighbours 5.0 Validation MAE: 22.71 ---- n_neighbours 5.0 Validation MAE: 21.58 ---- "
     ]
    },
    {
     "name": "stderr",
     "output_type": "stream",
     "text": [
      "c:\\Users\\ralph\\Desktop\\Virtual Environments\\ML\\Lib\\site-packages\\umap\\umap_.py:1952: UserWarning: n_jobs value 1 overridden to 1 by setting random_state. Use no seed for parallelism.\n",
      "  warn(\n",
      "c:\\Users\\ralph\\Desktop\\Virtual Environments\\ML\\Lib\\site-packages\\umap\\umap_.py:1952: UserWarning: n_jobs value 1 overridden to 1 by setting random_state. Use no seed for parallelism.\n",
      "  warn(\n"
     ]
    },
    {
     "name": "stdout",
     "output_type": "stream",
     "text": [
      "\n",
      "Summary of outer folds:\n",
      "Fold 1: Best n_neighbours of 5.0, Validation MAE = 20.7907, Test MAE = 20.1049\n",
      "Fold 2: Best n_neighbours of 5.0, Validation MAE = 19.8609, Test MAE = 23.2814\n",
      "Fold 3: Best n_neighbours of 5.0, Validation MAE = 19.5405, Test MAE = 19.5072\n",
      "Fold 4: Best n_neighbours of 5.0, Validation MAE = 18.6133, Test MAE = 22.9966\n",
      "Fold 5: Best n_neighbours of 5.0, Validation MAE = 19.6188, Test MAE = 22.4111\n",
      "\n",
      "Average Test MAE: 21.6602\n"
     ]
    }
   ],
   "source": [
    "num_splits = 5\n",
    "kf = KFold(n_splits=num_splits, shuffle=True, random_state=1)\n",
    "svr_outer = SVR(C=10, gamma=0.01, kernel='rbf')\n",
    "svr_inner = SVR(C=10, gamma=0.01, kernel='rbf')\n",
    "\n",
    "n_neighbours_range= np.linspace(5, 30, 6) # Set hyperparameter range of values\n",
    "kf_inner = KFold(n_splits=len(n_neighbours_range), shuffle=True, random_state=1) # Create kfold for inner loop\n",
    "\n",
    "best_n_neighbours_list = []   # Best n_neighbours resulting from inner fold\n",
    "best_val_mae_list = []  # For inner fold\n",
    "test_mae_list = [] # For outer fold\n",
    "\n",
    "dimension = 2\n",
    "for train_index, test_index in kf.split(X_umap_mri):\n",
    "    X_train, X_test = X_umap_mri[train_index],X_umap_mri[test_index]\n",
    "    y_train, y_test = rgr_y.iloc[train_index], rgr_y.iloc[test_index]\n",
    "\n",
    "    best_n_neighbours = 1\n",
    "    best_val_mae = np.inf\n",
    "\n",
    "    index = 0\n",
    "    for train_index_inner, val_index in kf_inner.split(X_train):\n",
    "        n_neighbours = n_neighbours_range[index]\n",
    "        X_train_inner, X_val = X_train[train_index_inner],  X_train[val_index]\n",
    "        y_train_inner, y_val = y_train.iloc[train_index_inner],  y_train.iloc[val_index]\n",
    "\n",
    "        # train model with x_train_inner and y_train_inner with n neighbours\n",
    "        umap_inner = umap.UMAP(n_components=dimension, random_state=42, n_neighbors=int(n_neighbours))\n",
    "\n",
    "        # Create the pure and interaction terms of n_neighbours n\n",
    "        X_umap_train_inner = umap_inner.fit_transform(X_train_inner[:,11:])\n",
    "        X_umap_train_inner = np.c_[X_train_inner[:,0:11], X_umap_train_inner]\n",
    "        X_umap_val = umap_inner.fit_transform(X_val[:,11:])\n",
    "        X_umap_val = np.c_[X_val[:,0:11], X_umap_val]\n",
    "\n",
    "        svr_inner.fit(X_umap_train_inner, y_train_inner)\n",
    "\n",
    "        # validate model on validation data and get MAE\n",
    "        y_pred_inner = svr_inner.predict(X_umap_val)\n",
    "        mae = mean_absolute_error(y_val, y_pred_inner)\n",
    "        print(f\"n_neighbours {n_neighbours} Validation MAE: {mae:.4}\", end=\" ---- \")\n",
    "\n",
    "        # if MAE is best so far, save n_neighbours and MAE\n",
    "        if mae < best_val_mae:\n",
    "            best_val_mae = mae\n",
    "            best_n_neighbours = n_neighbours\n",
    "\n",
    "        n_neighbours += 1\n",
    "    \n",
    "    best_n_neighbours_list.append(best_n_neighbours)\n",
    "    best_val_mae_list.append(best_val_mae)\n",
    "\n",
    "    umap_outer = umap.UMAP(n_components=dimension, random_state=42, n_neighbors=int(best_n_neighbours))\n",
    "    X_train_umap = umap_outer.fit_transform(X_train[:,11:])\n",
    "    X_train_umap = np.c_[X_train[:,0:11], X_train_umap]\n",
    "    X_test_umap = umap_outer.fit_transform(X_test[:,11:])\n",
    "    X_test_umap = np.c_[X_test[:,0:11], X_test_umap]\n",
    "    \n",
    "    svr_outer.fit(X_train_umap, y_train)\n",
    "\n",
    "    y_pred_test = svr_outer.predict(X_test_umap)\n",
    "    test_mae = mean_absolute_error(y_test, y_pred_test)\n",
    "    test_mae_list.append(test_mae)\n",
    "\n",
    "print(\"\\nSummary of outer folds:\")\n",
    "for i in range(num_splits):\n",
    "    print(f\"Fold {i+1}: Best n_neighbours of {best_n_neighbours_list[i]}, Validation MAE = {best_val_mae_list[i]:.4f}, Test MAE = {test_mae_list[i]:.4f}\")\n",
    "\n",
    "print(f\"\\nAverage Test MAE: {np.mean(test_mae_list):.4f}\")\n"
   ]
  }
 ],
 "metadata": {
  "kernelspec": {
   "display_name": "ML",
   "language": "python",
   "name": "python3"
  },
  "language_info": {
   "codemirror_mode": {
    "name": "ipython",
    "version": 3
   },
   "file_extension": ".py",
   "mimetype": "text/x-python",
   "name": "python",
   "nbconvert_exporter": "python",
   "pygments_lexer": "ipython3",
   "version": "3.12.7"
  }
 },
 "nbformat": 4,
 "nbformat_minor": 2
}
