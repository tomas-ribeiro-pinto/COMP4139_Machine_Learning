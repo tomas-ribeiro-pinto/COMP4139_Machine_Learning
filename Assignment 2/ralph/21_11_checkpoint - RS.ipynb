{
 "cells": [
  {
   "cell_type": "code",
   "execution_count": 1,
   "metadata": {},
   "outputs": [
    {
     "data": {
      "text/html": [
       "<div>\n",
       "<style scoped>\n",
       "    .dataframe tbody tr th:only-of-type {\n",
       "        vertical-align: middle;\n",
       "    }\n",
       "\n",
       "    .dataframe tbody tr th {\n",
       "        vertical-align: top;\n",
       "    }\n",
       "\n",
       "    .dataframe thead th {\n",
       "        text-align: right;\n",
       "    }\n",
       "</style>\n",
       "<table border=\"1\" class=\"dataframe\">\n",
       "  <thead>\n",
       "    <tr style=\"text-align: right;\">\n",
       "      <th></th>\n",
       "      <th>pCR (outcome)</th>\n",
       "      <th>RelapseFreeSurvival (outcome)</th>\n",
       "      <th>Age</th>\n",
       "      <th>ER</th>\n",
       "      <th>PgR</th>\n",
       "      <th>HER2</th>\n",
       "      <th>TrippleNegative</th>\n",
       "      <th>ChemoGrade</th>\n",
       "      <th>Proliferation</th>\n",
       "      <th>HistologyType</th>\n",
       "      <th>...</th>\n",
       "      <th>original_glszm_SmallAreaHighGrayLevelEmphasis</th>\n",
       "      <th>original_glszm_SmallAreaLowGrayLevelEmphasis</th>\n",
       "      <th>original_glszm_ZoneEntropy</th>\n",
       "      <th>original_glszm_ZonePercentage</th>\n",
       "      <th>original_glszm_ZoneVariance</th>\n",
       "      <th>original_ngtdm_Busyness</th>\n",
       "      <th>original_ngtdm_Coarseness</th>\n",
       "      <th>original_ngtdm_Complexity</th>\n",
       "      <th>original_ngtdm_Contrast</th>\n",
       "      <th>original_ngtdm_Strength</th>\n",
       "    </tr>\n",
       "  </thead>\n",
       "  <tbody>\n",
       "    <tr>\n",
       "      <th>0</th>\n",
       "      <td>1</td>\n",
       "      <td>144.0</td>\n",
       "      <td>41.0</td>\n",
       "      <td>0</td>\n",
       "      <td>0</td>\n",
       "      <td>0</td>\n",
       "      <td>1</td>\n",
       "      <td>3</td>\n",
       "      <td>3</td>\n",
       "      <td>1</td>\n",
       "      <td>...</td>\n",
       "      <td>0.517172</td>\n",
       "      <td>0.375126</td>\n",
       "      <td>3.325332</td>\n",
       "      <td>0.002314</td>\n",
       "      <td>3880771.500</td>\n",
       "      <td>473.464852</td>\n",
       "      <td>0.000768</td>\n",
       "      <td>0.182615</td>\n",
       "      <td>0.030508</td>\n",
       "      <td>0.000758</td>\n",
       "    </tr>\n",
       "    <tr>\n",
       "      <th>1</th>\n",
       "      <td>0</td>\n",
       "      <td>142.0</td>\n",
       "      <td>39.0</td>\n",
       "      <td>1</td>\n",
       "      <td>1</td>\n",
       "      <td>0</td>\n",
       "      <td>0</td>\n",
       "      <td>3</td>\n",
       "      <td>3</td>\n",
       "      <td>1</td>\n",
       "      <td>...</td>\n",
       "      <td>0.444391</td>\n",
       "      <td>0.444391</td>\n",
       "      <td>3.032144</td>\n",
       "      <td>0.005612</td>\n",
       "      <td>2372009.744</td>\n",
       "      <td>59.459710</td>\n",
       "      <td>0.004383</td>\n",
       "      <td>0.032012</td>\n",
       "      <td>0.001006</td>\n",
       "      <td>0.003685</td>\n",
       "    </tr>\n",
       "    <tr>\n",
       "      <th>2</th>\n",
       "      <td>1</td>\n",
       "      <td>135.0</td>\n",
       "      <td>31.0</td>\n",
       "      <td>0</td>\n",
       "      <td>0</td>\n",
       "      <td>0</td>\n",
       "      <td>1</td>\n",
       "      <td>2</td>\n",
       "      <td>1</td>\n",
       "      <td>1</td>\n",
       "      <td>...</td>\n",
       "      <td>0.534549</td>\n",
       "      <td>0.534549</td>\n",
       "      <td>2.485848</td>\n",
       "      <td>0.006752</td>\n",
       "      <td>1540027.421</td>\n",
       "      <td>33.935384</td>\n",
       "      <td>0.007584</td>\n",
       "      <td>0.024062</td>\n",
       "      <td>0.000529</td>\n",
       "      <td>0.006447</td>\n",
       "    </tr>\n",
       "    <tr>\n",
       "      <th>3</th>\n",
       "      <td>0</td>\n",
       "      <td>12.0</td>\n",
       "      <td>35.0</td>\n",
       "      <td>0</td>\n",
       "      <td>0</td>\n",
       "      <td>0</td>\n",
       "      <td>1</td>\n",
       "      <td>3</td>\n",
       "      <td>3</td>\n",
       "      <td>1</td>\n",
       "      <td>...</td>\n",
       "      <td>0.506185</td>\n",
       "      <td>0.506185</td>\n",
       "      <td>2.606255</td>\n",
       "      <td>0.003755</td>\n",
       "      <td>6936740.794</td>\n",
       "      <td>46.859265</td>\n",
       "      <td>0.005424</td>\n",
       "      <td>0.013707</td>\n",
       "      <td>0.000178</td>\n",
       "      <td>0.004543</td>\n",
       "    </tr>\n",
       "    <tr>\n",
       "      <th>4</th>\n",
       "      <td>0</td>\n",
       "      <td>109.0</td>\n",
       "      <td>61.0</td>\n",
       "      <td>1</td>\n",
       "      <td>0</td>\n",
       "      <td>0</td>\n",
       "      <td>0</td>\n",
       "      <td>2</td>\n",
       "      <td>1</td>\n",
       "      <td>1</td>\n",
       "      <td>...</td>\n",
       "      <td>0.462282</td>\n",
       "      <td>0.462282</td>\n",
       "      <td>2.809279</td>\n",
       "      <td>0.006521</td>\n",
       "      <td>1265399.054</td>\n",
       "      <td>39.621023</td>\n",
       "      <td>0.006585</td>\n",
       "      <td>0.034148</td>\n",
       "      <td>0.001083</td>\n",
       "      <td>0.005626</td>\n",
       "    </tr>\n",
       "  </tbody>\n",
       "</table>\n",
       "<p>5 rows × 120 columns</p>\n",
       "</div>"
      ],
      "text/plain": [
       "   pCR (outcome)  RelapseFreeSurvival (outcome)   Age  ER  PgR  HER2  \\\n",
       "0              1                          144.0  41.0   0    0     0   \n",
       "1              0                          142.0  39.0   1    1     0   \n",
       "2              1                          135.0  31.0   0    0     0   \n",
       "3              0                           12.0  35.0   0    0     0   \n",
       "4              0                          109.0  61.0   1    0     0   \n",
       "\n",
       "   TrippleNegative  ChemoGrade  Proliferation  HistologyType  ...  \\\n",
       "0                1           3              3              1  ...   \n",
       "1                0           3              3              1  ...   \n",
       "2                1           2              1              1  ...   \n",
       "3                1           3              3              1  ...   \n",
       "4                0           2              1              1  ...   \n",
       "\n",
       "   original_glszm_SmallAreaHighGrayLevelEmphasis  \\\n",
       "0                                       0.517172   \n",
       "1                                       0.444391   \n",
       "2                                       0.534549   \n",
       "3                                       0.506185   \n",
       "4                                       0.462282   \n",
       "\n",
       "   original_glszm_SmallAreaLowGrayLevelEmphasis  original_glszm_ZoneEntropy  \\\n",
       "0                                      0.375126                    3.325332   \n",
       "1                                      0.444391                    3.032144   \n",
       "2                                      0.534549                    2.485848   \n",
       "3                                      0.506185                    2.606255   \n",
       "4                                      0.462282                    2.809279   \n",
       "\n",
       "   original_glszm_ZonePercentage  original_glszm_ZoneVariance  \\\n",
       "0                       0.002314                  3880771.500   \n",
       "1                       0.005612                  2372009.744   \n",
       "2                       0.006752                  1540027.421   \n",
       "3                       0.003755                  6936740.794   \n",
       "4                       0.006521                  1265399.054   \n",
       "\n",
       "   original_ngtdm_Busyness  original_ngtdm_Coarseness  \\\n",
       "0               473.464852                   0.000768   \n",
       "1                59.459710                   0.004383   \n",
       "2                33.935384                   0.007584   \n",
       "3                46.859265                   0.005424   \n",
       "4                39.621023                   0.006585   \n",
       "\n",
       "   original_ngtdm_Complexity  original_ngtdm_Contrast  original_ngtdm_Strength  \n",
       "0                   0.182615                 0.030508                 0.000758  \n",
       "1                   0.032012                 0.001006                 0.003685  \n",
       "2                   0.024062                 0.000529                 0.006447  \n",
       "3                   0.013707                 0.000178                 0.004543  \n",
       "4                   0.034148                 0.001083                 0.005626  \n",
       "\n",
       "[5 rows x 120 columns]"
      ]
     },
     "execution_count": 1,
     "metadata": {},
     "output_type": "execute_result"
    }
   ],
   "source": [
    "import pandas as pd\n",
    "import seaborn as sns\n",
    "import numpy as np\n",
    "import matplotlib.pyplot as plt\n",
    "from sklearn.model_selection import KFold\n",
    "from sklearn.svm import SVR\n",
    "from sklearn.metrics import mean_absolute_error\n",
    "from sklearn.manifold import TSNE, Isomap\n",
    "\n",
    "\n",
    "all_df = pd.read_csv('TrainDataset2024.csv', index_col=False)\n",
    "all_df.drop('ID', axis=1, inplace=True)\n",
    "all_df.head()"
   ]
  },
  {
   "cell_type": "code",
   "execution_count": 2,
   "metadata": {},
   "outputs": [],
   "source": [
    "from sklearn.impute import SimpleImputer\n",
    "\n",
    "imputer = SimpleImputer(strategy=\"median\", missing_values=999)\n",
    "all_df[:] = imputer.fit_transform(all_df)\n",
    "\n",
    "# classification target\n",
    "clf_y = all_df['pCR (outcome)']\n",
    "# regression target\n",
    "rgr_y = all_df['RelapseFreeSurvival (outcome)']"
   ]
  },
  {
   "cell_type": "markdown",
   "metadata": {},
   "source": [
    "### Outlier Removal"
   ]
  },
  {
   "cell_type": "code",
   "execution_count": 3,
   "metadata": {},
   "outputs": [],
   "source": [
    "def percentile_based_outlier(data, threshold=95):\n",
    "    diff = (100 - threshold) / 2.0\n",
    "    minval, maxval = np.percentile(data, [diff, 100 - diff])\n",
    "    return (data < minval) | (data > maxval)\n",
    "\n",
    "def mad_based_outlier(points, threshold=3.5):\n",
    "    points = np.array(points)\n",
    "    if len(points.shape) == 1:\n",
    "        points = points[:, None]\n",
    "    median_y = np.median(points)\n",
    "    median_absolute_deviation_y = np.median([np.abs(y - median_y) for y in points])\n",
    "    # Small constant added to avoid division by zero\n",
    "    modified_z_scores = [0.6745 * (y - median_y) / (median_absolute_deviation_y + 1e-6) for y in points]\n",
    "\n",
    "    return np.abs(modified_z_scores) > threshold\n",
    "\n",
    "def std_div(data, threshold=3):\n",
    "    std = data.std()\n",
    "    mean = data.mean()\n",
    "    isOutlier = []\n",
    "    for val in data:\n",
    "        if abs(val - mean)/std > threshold:\n",
    "            isOutlier.append(True)\n",
    "        else:\n",
    "            isOutlier.append(False)\n",
    "    return isOutlier\n",
    "\n",
    "def outlierVote(data):\n",
    "    x = percentile_based_outlier(data)\n",
    "    y = mad_based_outlier(data)\n",
    "    z = std_div(data)\n",
    "    temp = list(zip(x, y, z))\n",
    "    final = []\n",
    "    for i in range(len(temp)):\n",
    "        if temp[i].count(False) >= 2:\n",
    "            final.append(False)\n",
    "        else:\n",
    "            final.append(True)\n",
    "    return final\n",
    "\n",
    "def plotOutliers(x):\n",
    "    fig, axes = plt.subplots(nrows=4)\n",
    "    for ax, func in zip(axes, [percentile_based_outlier, mad_based_outlier, std_div, outlierVote]):\n",
    "        sns.distplot(x, ax=ax, rug=True, hist=False)\n",
    "        outliers = func(x)\n",
    "        ax.plot(outliers, np.zeros_like(outliers), 'ro', clip_on=False)\n",
    "\n",
    "    kwargs = dict(y=0.95, x=0.05, ha='left', va='top', size=20)\n",
    "    axes[0].set_title('Percentile-based Outliers', **kwargs)\n",
    "    axes[1].set_title('MAD-based Outliers', **kwargs)\n",
    "    axes[2].set_title('STD-based Outliers', **kwargs)\n",
    "    axes[3].set_title('Majority vote', **kwargs)\n",
    "    fig.suptitle('Comparing Outlier Tests with n={}'.format(len(x)), size=20)\n",
    "    fig = plt.gcf()\n",
    "    fig.set_size_inches(20, 15)\n",
    "\n",
    "def removeOutliers(data):\n",
    "    # Remove outliers from the dataframe\n",
    "    for column in data.columns:\n",
    "        outliers = outlierVote(all_df[column])\n",
    "        # Calculate Non-Outlier Maximum using the outliers list\n",
    "        non_outlier_max = all_df.loc[~np.array(outliers), column].max()\n",
    "        # Replace outliers with the maximum non-outlier value\n",
    "        data.loc[outliers, column] = non_outlier_max\n",
    "\n",
    "removeOutliers(all_df)\n",
    "# Verify the changes\n",
    "all_df.head()\n",
    "\n",
    "# Assign features to X\n",
    "X = all_df.drop(['pCR (outcome)', 'RelapseFreeSurvival (outcome)'], axis=1)"
   ]
  },
  {
   "cell_type": "code",
   "execution_count": 4,
   "metadata": {},
   "outputs": [
    {
     "data": {
      "text/plain": [
       "0      0.813912\n",
       "1      0.666118\n",
       "2      0.645083\n",
       "3      0.770842\n",
       "4      0.861035\n",
       "         ...   \n",
       "395    0.389439\n",
       "396    0.915643\n",
       "397    0.657236\n",
       "398    0.890276\n",
       "399    0.464971\n",
       "Name: original_shape_Elongation, Length: 400, dtype: float64"
      ]
     },
     "execution_count": 4,
     "metadata": {},
     "output_type": "execute_result"
    }
   ],
   "source": [
    "X.head()\n",
    "X.iloc[:,11]"
   ]
  },
  {
   "cell_type": "markdown",
   "metadata": {},
   "source": [
    "### Feature Selection"
   ]
  },
  {
   "cell_type": "code",
   "execution_count": 24,
   "metadata": {},
   "outputs": [
    {
     "data": {
      "text/plain": [
       "(400, 13)"
      ]
     },
     "execution_count": 24,
     "metadata": {},
     "output_type": "execute_result"
    }
   ],
   "source": [
    "# Create manifold of MRI scan data (columns 11 onwards)\n",
    "\n",
    "tsne = TSNE(n_components=2, random_state=42)\n",
    "# isomap = Isomap(n_components=)\n",
    "X_tsne_mri = tsne.fit_transform(X.iloc[:,11:])\n",
    "\n",
    "# plot manifold\n",
    "# plt.scatter(X_tsne_mri[:, -2], X_tsne_mri[:, -1], c=clf_y, cmap=\"jet\")\n",
    "# plt.axis('off')\n",
    "# plt.colorbar()\n",
    "# plt.show()\n",
    "\n",
    "# combine columns 0-10 with the manifold\n",
    "X_tsne_mri = np.c_[X.iloc[:,0:11], X_tsne_mri]\n",
    "\n",
    "X_tsne_mri.shape\n",
    "\n"
   ]
  },
  {
   "cell_type": "code",
   "execution_count": null,
   "metadata": {},
   "outputs": [],
   "source": []
  },
  {
   "cell_type": "code",
   "execution_count": null,
   "metadata": {},
   "outputs": [],
   "source": [
    "svr = SVR(C=6, gamma=0.1, kernel='rbf')\n",
    "svr.fit(X_tsne_mri, rgr_y)\n",
    "\n",
    "y_pred = svr.predict(X_tsne_mri)\n",
    "mae = mean_absolute_error(rgr_y, y_pred)\n",
    "\n",
    "\n",
    "print(f'Test MAE: {mae}')\n",
    "\n"
   ]
  },
  {
   "cell_type": "markdown",
   "metadata": {},
   "source": [
    "### K_fold training with different n dimensions (tsne)\n"
   ]
  },
  {
   "cell_type": "code",
   "execution_count": null,
   "metadata": {},
   "outputs": [
    {
     "name": "stdout",
     "output_type": "stream",
     "text": [
      "Degree 1 Validation MSE: 20.47 ---- Degree 2 Validation MSE: 21.57 ---- Degree 1 Validation MSE: 21.26 ---- Degree 2 Validation MSE: 21.69 ---- Degree 1 Validation MSE: 20.46 ---- Degree 2 Validation MSE: 21.55 ---- Degree 1 Validation MSE: 21.46 ---- Degree 2 Validation MSE: 21.88 ---- Degree 1 Validation MSE: 20.89 ---- Degree 2 Validation MSE: 21.11 ---- \n",
      "Summary of outer folds:\n",
      "Fold 1: Best Degree of 1, Validation MSE = 20.4745, Test MSE = 21.6160\n",
      "Fold 2: Best Degree of 1, Validation MSE = 21.2573, Test MSE = 19.7552\n",
      "Fold 3: Best Degree of 1, Validation MSE = 20.4650, Test MSE = 21.7220\n",
      "Fold 4: Best Degree of 1, Validation MSE = 21.4590, Test MSE = 20.5679\n",
      "Fold 5: Best Degree of 1, Validation MSE = 20.8863, Test MSE = 22.0465\n",
      "\n",
      "Average Test MSE: 21.1415\n"
     ]
    }
   ],
   "source": [
    "num_splits = 5\n",
    "kf = KFold(n_splits=num_splits, shuffle=True, random_state=1)\n",
    "svr_outer = SVR(C=3, gamma=0.1, kernel='rbf')\n",
    "svr_inner = SVR(C=3, gamma=0.1, kernel='rbf')\n",
    "\n",
    "n_dimensions_range = 2 # Set hyperparameter range of values\n",
    "kf_inner = KFold(n_splits=n_dimensions_range, shuffle=True, random_state=1) # Create kfold for inner loop\n",
    "\n",
    "best_n_dimensions_list = []   # Best degrees resulting from inner fold\n",
    "best_val_mae_list = []  # For inner fold\n",
    "test_mae_list = [] # For outer fold\n",
    "\n",
    "for train_index, test_index in kf.split(X):\n",
    "    X_train, X_test = X.iloc[train_index],X.iloc[test_index]\n",
    "    y_train, y_test = rgr_y.iloc[train_index], rgr_y.iloc[test_index]\n",
    "\n",
    "    best_n_dimensions = 1\n",
    "    best_val_mae = np.inf\n",
    "\n",
    "    degree = 1\n",
    "    for train_index_inner, val_index in kf_inner.split(X_train):\n",
    "        X_train_inner, X_val = X_train.iloc[train_index_inner],  X_train.iloc[val_index]\n",
    "        y_train_inner, y_val = y_train.iloc[train_index_inner],  y_train.iloc[val_index]\n",
    "\n",
    "        # train model with x_train_inner and y_train_inner with n dimensions\n",
    "        tsne_inner = TSNE(n_components=degree, random_state=42)\n",
    "\n",
    "        # Create the pure and interaction terms of degree n\n",
    "        X_tsne_train_inner = tsne_inner.fit_transform(X_train_inner.iloc[:,11:])\n",
    "        X_tsne_train_inner = np.c_[X_train_inner.iloc[:,0:11], X_tsne_train_inner]\n",
    "        X_tsne_val = tsne_inner.fit_transform(X_val.iloc[:,11:])\n",
    "        X_tsne_val = np.c_[X_val.iloc[:,0:11], X_tsne_val]\n",
    "\n",
    "        svr_inner.fit(X_tsne_train_inner, y_train_inner)\n",
    "\n",
    "        # validate model on validation data and get MSE\n",
    "        y_pred_inner = svr_inner.predict(X_tsne_val)\n",
    "        mae = mean_absolute_error(y_val, y_pred_inner)\n",
    "        print(f\"Degree {degree} Validation MSE: {mae:.4}\", end=\" ---- \")\n",
    "\n",
    "        # if MSE is best so far, save degree and MSE\n",
    "        if mae < best_val_mae:\n",
    "            best_val_mae = mae\n",
    "            best_degree = degree\n",
    "\n",
    "        degree += 1\n",
    "    \n",
    "    best_n_dimensions_list.append(best_degree)\n",
    "    best_val_mae_list.append(best_val_mae)\n",
    "\n",
    "    tsne_outer = TSNE(n_components=best_degree, random_state=42)\n",
    "    X_train_tsne = tsne_outer.fit_transform(X_train.iloc[:,11:])\n",
    "    X_train_tsne = np.c_[X_train.iloc[:,0:11], X_train_tsne]\n",
    "    X_test_tsne = tsne_outer.fit_transform(X_test.iloc[:,11:])\n",
    "    X_test_tsne = np.c_[X_test.iloc[:,0:11], X_test_tsne]\n",
    "    \n",
    "    svr_outer.fit(X_train_tsne, y_train)\n",
    "\n",
    "    y_pred_test = svr_outer.predict(X_test_tsne)\n",
    "    test_mae = mean_absolute_error(y_test, y_pred_test)\n",
    "    test_mae_list.append(test_mae)\n",
    "\n",
    "print(\"\\nSummary of outer folds:\")\n",
    "for i in range(num_splits):\n",
    "    print(f\"Fold {i+1}: Best Degree of {best_n_dimensions_list[i]}, Validation MSE = {best_val_mae_list[i]:.4f}, Test MSE = {test_mae_list[i]:.4f}\")\n",
    "\n",
    "print(f\"\\nAverage Test MSE: {np.mean(test_mae_list):.4f}\")\n",
    "\n"
   ]
  },
  {
   "cell_type": "markdown",
   "metadata": {},
   "source": [
    "### K_fold training with different n dimensions (Isomap)\n"
   ]
  },
  {
   "cell_type": "code",
   "execution_count": null,
   "metadata": {},
   "outputs": [
    {
     "name": "stdout",
     "output_type": "stream",
     "text": [
      "Degree 1 Validation MSE: 19.79 ---- Degree 2 Validation MSE: 17.91 ---- Degree 3 Validation MSE: 24.39 ---- "
     ]
    },
    {
     "name": "stderr",
     "output_type": "stream",
     "text": [
      "c:\\Users\\ralph\\Desktop\\Virtual Environments\\ML\\Lib\\site-packages\\sklearn\\manifold\\_isomap.py:383: UserWarning: The number of connected components of the neighbors graph is 2 > 1. Completing the graph to fit Isomap might be slow. Increase the number of neighbors to avoid this issue.\n",
      "  self._fit_transform(X)\n",
      "c:\\Users\\ralph\\Desktop\\Virtual Environments\\ML\\Lib\\site-packages\\scipy\\sparse\\_index.py:108: SparseEfficiencyWarning: Changing the sparsity structure of a csr_matrix is expensive. lil and dok are more efficient.\n",
      "  self._set_intXint(row, col, x.flat[0])\n"
     ]
    },
    {
     "name": "stdout",
     "output_type": "stream",
     "text": [
      "Degree 4 Validation MSE: 17.6 ---- Degree 5 Validation MSE: 23.23 ---- "
     ]
    },
    {
     "name": "stderr",
     "output_type": "stream",
     "text": [
      "c:\\Users\\ralph\\Desktop\\Virtual Environments\\ML\\Lib\\site-packages\\sklearn\\manifold\\_isomap.py:383: UserWarning: The number of connected components of the neighbors graph is 2 > 1. Completing the graph to fit Isomap might be slow. Increase the number of neighbors to avoid this issue.\n",
      "  self._fit_transform(X)\n",
      "c:\\Users\\ralph\\Desktop\\Virtual Environments\\ML\\Lib\\site-packages\\scipy\\sparse\\_index.py:108: SparseEfficiencyWarning: Changing the sparsity structure of a csr_matrix is expensive. lil and dok are more efficient.\n",
      "  self._set_intXint(row, col, x.flat[0])\n",
      "c:\\Users\\ralph\\Desktop\\Virtual Environments\\ML\\Lib\\site-packages\\sklearn\\manifold\\_isomap.py:383: UserWarning: The number of connected components of the neighbors graph is 2 > 1. Completing the graph to fit Isomap might be slow. Increase the number of neighbors to avoid this issue.\n",
      "  self._fit_transform(X)\n",
      "c:\\Users\\ralph\\Desktop\\Virtual Environments\\ML\\Lib\\site-packages\\scipy\\sparse\\_index.py:108: SparseEfficiencyWarning: Changing the sparsity structure of a csr_matrix is expensive. lil and dok are more efficient.\n",
      "  self._set_intXint(row, col, x.flat[0])\n"
     ]
    },
    {
     "name": "stdout",
     "output_type": "stream",
     "text": [
      "Degree 6 Validation MSE: 19.02 ---- Degree 7 Validation MSE: 19.88 ---- "
     ]
    },
    {
     "name": "stderr",
     "output_type": "stream",
     "text": [
      "c:\\Users\\ralph\\Desktop\\Virtual Environments\\ML\\Lib\\site-packages\\sklearn\\manifold\\_isomap.py:383: UserWarning: The number of connected components of the neighbors graph is 2 > 1. Completing the graph to fit Isomap might be slow. Increase the number of neighbors to avoid this issue.\n",
      "  self._fit_transform(X)\n",
      "c:\\Users\\ralph\\Desktop\\Virtual Environments\\ML\\Lib\\site-packages\\scipy\\sparse\\_index.py:108: SparseEfficiencyWarning: Changing the sparsity structure of a csr_matrix is expensive. lil and dok are more efficient.\n",
      "  self._set_intXint(row, col, x.flat[0])\n",
      "c:\\Users\\ralph\\Desktop\\Virtual Environments\\ML\\Lib\\site-packages\\sklearn\\manifold\\_isomap.py:383: UserWarning: The number of connected components of the neighbors graph is 2 > 1. Completing the graph to fit Isomap might be slow. Increase the number of neighbors to avoid this issue.\n",
      "  self._fit_transform(X)\n",
      "c:\\Users\\ralph\\Desktop\\Virtual Environments\\ML\\Lib\\site-packages\\scipy\\sparse\\_index.py:108: SparseEfficiencyWarning: Changing the sparsity structure of a csr_matrix is expensive. lil and dok are more efficient.\n",
      "  self._set_intXint(row, col, x.flat[0])\n"
     ]
    },
    {
     "name": "stdout",
     "output_type": "stream",
     "text": [
      "Degree 8 Validation MSE: 25.82 ---- Degree 9 Validation MSE: 18.64 ---- "
     ]
    },
    {
     "name": "stderr",
     "output_type": "stream",
     "text": [
      "c:\\Users\\ralph\\Desktop\\Virtual Environments\\ML\\Lib\\site-packages\\sklearn\\manifold\\_isomap.py:383: UserWarning: The number of connected components of the neighbors graph is 2 > 1. Completing the graph to fit Isomap might be slow. Increase the number of neighbors to avoid this issue.\n",
      "  self._fit_transform(X)\n",
      "c:\\Users\\ralph\\Desktop\\Virtual Environments\\ML\\Lib\\site-packages\\scipy\\sparse\\_index.py:108: SparseEfficiencyWarning: Changing the sparsity structure of a csr_matrix is expensive. lil and dok are more efficient.\n",
      "  self._set_intXint(row, col, x.flat[0])\n"
     ]
    },
    {
     "name": "stdout",
     "output_type": "stream",
     "text": [
      "Degree 10 Validation MSE: 24.82 ---- Degree 1 Validation MSE: 19.0 ---- Degree 2 Validation MSE: 20.4 ---- Degree 3 Validation MSE: 22.08 ---- Degree 4 Validation MSE: 22.58 ---- Degree 5 Validation MSE: 22.47 ---- Degree 6 Validation MSE: 25.19 ---- Degree 7 Validation MSE: 19.11 ---- Degree 8 Validation MSE: 20.35 ---- Degree 9 Validation MSE: 20.57 ---- "
     ]
    },
    {
     "name": "stderr",
     "output_type": "stream",
     "text": [
      "c:\\Users\\ralph\\Desktop\\Virtual Environments\\ML\\Lib\\site-packages\\sklearn\\manifold\\_isomap.py:383: UserWarning: The number of connected components of the neighbors graph is 2 > 1. Completing the graph to fit Isomap might be slow. Increase the number of neighbors to avoid this issue.\n",
      "  self._fit_transform(X)\n",
      "c:\\Users\\ralph\\Desktop\\Virtual Environments\\ML\\Lib\\site-packages\\scipy\\sparse\\_index.py:108: SparseEfficiencyWarning: Changing the sparsity structure of a csr_matrix is expensive. lil and dok are more efficient.\n",
      "  self._set_intXint(row, col, x.flat[0])\n"
     ]
    },
    {
     "name": "stdout",
     "output_type": "stream",
     "text": [
      "Degree 10 Validation MSE: 23.29 ---- Degree 1 Validation MSE: 21.02 ---- "
     ]
    },
    {
     "name": "stderr",
     "output_type": "stream",
     "text": [
      "c:\\Users\\ralph\\Desktop\\Virtual Environments\\ML\\Lib\\site-packages\\sklearn\\manifold\\_isomap.py:383: UserWarning: The number of connected components of the neighbors graph is 2 > 1. Completing the graph to fit Isomap might be slow. Increase the number of neighbors to avoid this issue.\n",
      "  self._fit_transform(X)\n",
      "c:\\Users\\ralph\\Desktop\\Virtual Environments\\ML\\Lib\\site-packages\\scipy\\sparse\\_index.py:108: SparseEfficiencyWarning: Changing the sparsity structure of a csr_matrix is expensive. lil and dok are more efficient.\n",
      "  self._set_intXint(row, col, x.flat[0])\n",
      "c:\\Users\\ralph\\Desktop\\Virtual Environments\\ML\\Lib\\site-packages\\sklearn\\manifold\\_isomap.py:383: UserWarning: The number of connected components of the neighbors graph is 2 > 1. Completing the graph to fit Isomap might be slow. Increase the number of neighbors to avoid this issue.\n",
      "  self._fit_transform(X)\n",
      "c:\\Users\\ralph\\Desktop\\Virtual Environments\\ML\\Lib\\site-packages\\scipy\\sparse\\_index.py:108: SparseEfficiencyWarning: Changing the sparsity structure of a csr_matrix is expensive. lil and dok are more efficient.\n",
      "  self._set_intXint(row, col, x.flat[0])\n",
      "c:\\Users\\ralph\\Desktop\\Virtual Environments\\ML\\Lib\\site-packages\\sklearn\\manifold\\_isomap.py:383: UserWarning: The number of connected components of the neighbors graph is 2 > 1. Completing the graph to fit Isomap might be slow. Increase the number of neighbors to avoid this issue.\n",
      "  self._fit_transform(X)\n",
      "c:\\Users\\ralph\\Desktop\\Virtual Environments\\ML\\Lib\\site-packages\\scipy\\sparse\\_index.py:108: SparseEfficiencyWarning: Changing the sparsity structure of a csr_matrix is expensive. lil and dok are more efficient.\n",
      "  self._set_intXint(row, col, x.flat[0])\n"
     ]
    },
    {
     "name": "stdout",
     "output_type": "stream",
     "text": [
      "Degree 2 Validation MSE: 19.52 ---- Degree 3 Validation MSE: 21.1 ---- Degree 4 Validation MSE: 17.91 ---- "
     ]
    },
    {
     "name": "stderr",
     "output_type": "stream",
     "text": [
      "c:\\Users\\ralph\\Desktop\\Virtual Environments\\ML\\Lib\\site-packages\\sklearn\\manifold\\_isomap.py:383: UserWarning: The number of connected components of the neighbors graph is 3 > 1. Completing the graph to fit Isomap might be slow. Increase the number of neighbors to avoid this issue.\n",
      "  self._fit_transform(X)\n",
      "c:\\Users\\ralph\\Desktop\\Virtual Environments\\ML\\Lib\\site-packages\\scipy\\sparse\\_index.py:108: SparseEfficiencyWarning: Changing the sparsity structure of a csr_matrix is expensive. lil and dok are more efficient.\n",
      "  self._set_intXint(row, col, x.flat[0])\n",
      "c:\\Users\\ralph\\Desktop\\Virtual Environments\\ML\\Lib\\site-packages\\scipy\\sparse\\_index.py:108: SparseEfficiencyWarning: Changing the sparsity structure of a csr_matrix is expensive. lil and dok are more efficient.\n",
      "  self._set_intXint(row, col, x.flat[0])\n",
      "c:\\Users\\ralph\\Desktop\\Virtual Environments\\ML\\Lib\\site-packages\\scipy\\sparse\\_index.py:108: SparseEfficiencyWarning: Changing the sparsity structure of a csr_matrix is expensive. lil and dok are more efficient.\n",
      "  self._set_intXint(row, col, x.flat[0])\n",
      "c:\\Users\\ralph\\Desktop\\Virtual Environments\\ML\\Lib\\site-packages\\sklearn\\manifold\\_isomap.py:383: UserWarning: The number of connected components of the neighbors graph is 2 > 1. Completing the graph to fit Isomap might be slow. Increase the number of neighbors to avoid this issue.\n",
      "  self._fit_transform(X)\n",
      "c:\\Users\\ralph\\Desktop\\Virtual Environments\\ML\\Lib\\site-packages\\scipy\\sparse\\_index.py:108: SparseEfficiencyWarning: Changing the sparsity structure of a csr_matrix is expensive. lil and dok are more efficient.\n",
      "  self._set_intXint(row, col, x.flat[0])\n"
     ]
    },
    {
     "name": "stdout",
     "output_type": "stream",
     "text": [
      "Degree 5 Validation MSE: 22.75 ---- Degree 6 Validation MSE: 19.19 ---- Degree 7 Validation MSE: 19.14 ---- "
     ]
    },
    {
     "name": "stderr",
     "output_type": "stream",
     "text": [
      "c:\\Users\\ralph\\Desktop\\Virtual Environments\\ML\\Lib\\site-packages\\sklearn\\manifold\\_isomap.py:383: UserWarning: The number of connected components of the neighbors graph is 2 > 1. Completing the graph to fit Isomap might be slow. Increase the number of neighbors to avoid this issue.\n",
      "  self._fit_transform(X)\n",
      "c:\\Users\\ralph\\Desktop\\Virtual Environments\\ML\\Lib\\site-packages\\scipy\\sparse\\_index.py:108: SparseEfficiencyWarning: Changing the sparsity structure of a csr_matrix is expensive. lil and dok are more efficient.\n",
      "  self._set_intXint(row, col, x.flat[0])\n",
      "c:\\Users\\ralph\\Desktop\\Virtual Environments\\ML\\Lib\\site-packages\\sklearn\\manifold\\_isomap.py:383: UserWarning: The number of connected components of the neighbors graph is 2 > 1. Completing the graph to fit Isomap might be slow. Increase the number of neighbors to avoid this issue.\n",
      "  self._fit_transform(X)\n",
      "c:\\Users\\ralph\\Desktop\\Virtual Environments\\ML\\Lib\\site-packages\\scipy\\sparse\\_index.py:108: SparseEfficiencyWarning: Changing the sparsity structure of a csr_matrix is expensive. lil and dok are more efficient.\n",
      "  self._set_intXint(row, col, x.flat[0])\n",
      "c:\\Users\\ralph\\Desktop\\Virtual Environments\\ML\\Lib\\site-packages\\sklearn\\manifold\\_isomap.py:383: UserWarning: The number of connected components of the neighbors graph is 2 > 1. Completing the graph to fit Isomap might be slow. Increase the number of neighbors to avoid this issue.\n",
      "  self._fit_transform(X)\n",
      "c:\\Users\\ralph\\Desktop\\Virtual Environments\\ML\\Lib\\site-packages\\scipy\\sparse\\_index.py:108: SparseEfficiencyWarning: Changing the sparsity structure of a csr_matrix is expensive. lil and dok are more efficient.\n",
      "  self._set_intXint(row, col, x.flat[0])\n"
     ]
    },
    {
     "name": "stdout",
     "output_type": "stream",
     "text": [
      "Degree 8 Validation MSE: 24.5 ---- Degree 9 Validation MSE: 22.03 ---- "
     ]
    },
    {
     "name": "stderr",
     "output_type": "stream",
     "text": [
      "c:\\Users\\ralph\\Desktop\\Virtual Environments\\ML\\Lib\\site-packages\\sklearn\\manifold\\_isomap.py:383: UserWarning: The number of connected components of the neighbors graph is 2 > 1. Completing the graph to fit Isomap might be slow. Increase the number of neighbors to avoid this issue.\n",
      "  self._fit_transform(X)\n",
      "c:\\Users\\ralph\\Desktop\\Virtual Environments\\ML\\Lib\\site-packages\\scipy\\sparse\\_index.py:108: SparseEfficiencyWarning: Changing the sparsity structure of a csr_matrix is expensive. lil and dok are more efficient.\n",
      "  self._set_intXint(row, col, x.flat[0])\n"
     ]
    },
    {
     "name": "stdout",
     "output_type": "stream",
     "text": [
      "Degree 10 Validation MSE: 23.04 ---- "
     ]
    },
    {
     "name": "stderr",
     "output_type": "stream",
     "text": [
      "c:\\Users\\ralph\\Desktop\\Virtual Environments\\ML\\Lib\\site-packages\\sklearn\\manifold\\_isomap.py:383: UserWarning: The number of connected components of the neighbors graph is 2 > 1. Completing the graph to fit Isomap might be slow. Increase the number of neighbors to avoid this issue.\n",
      "  self._fit_transform(X)\n",
      "c:\\Users\\ralph\\Desktop\\Virtual Environments\\ML\\Lib\\site-packages\\scipy\\sparse\\_index.py:108: SparseEfficiencyWarning: Changing the sparsity structure of a csr_matrix is expensive. lil and dok are more efficient.\n",
      "  self._set_intXint(row, col, x.flat[0])\n",
      "c:\\Users\\ralph\\Desktop\\Virtual Environments\\ML\\Lib\\site-packages\\sklearn\\manifold\\_isomap.py:383: UserWarning: The number of connected components of the neighbors graph is 2 > 1. Completing the graph to fit Isomap might be slow. Increase the number of neighbors to avoid this issue.\n",
      "  self._fit_transform(X)\n",
      "c:\\Users\\ralph\\Desktop\\Virtual Environments\\ML\\Lib\\site-packages\\scipy\\sparse\\_index.py:108: SparseEfficiencyWarning: Changing the sparsity structure of a csr_matrix is expensive. lil and dok are more efficient.\n",
      "  self._set_intXint(row, col, x.flat[0])\n"
     ]
    },
    {
     "name": "stdout",
     "output_type": "stream",
     "text": [
      "Degree 1 Validation MSE: 19.51 ---- Degree 2 Validation MSE: 17.86 ---- Degree 3 Validation MSE: 26.96 ---- "
     ]
    },
    {
     "name": "stderr",
     "output_type": "stream",
     "text": [
      "c:\\Users\\ralph\\Desktop\\Virtual Environments\\ML\\Lib\\site-packages\\sklearn\\manifold\\_isomap.py:383: UserWarning: The number of connected components of the neighbors graph is 2 > 1. Completing the graph to fit Isomap might be slow. Increase the number of neighbors to avoid this issue.\n",
      "  self._fit_transform(X)\n",
      "c:\\Users\\ralph\\Desktop\\Virtual Environments\\ML\\Lib\\site-packages\\scipy\\sparse\\_index.py:108: SparseEfficiencyWarning: Changing the sparsity structure of a csr_matrix is expensive. lil and dok are more efficient.\n",
      "  self._set_intXint(row, col, x.flat[0])\n",
      "c:\\Users\\ralph\\Desktop\\Virtual Environments\\ML\\Lib\\site-packages\\sklearn\\manifold\\_isomap.py:383: UserWarning: The number of connected components of the neighbors graph is 2 > 1. Completing the graph to fit Isomap might be slow. Increase the number of neighbors to avoid this issue.\n",
      "  self._fit_transform(X)\n",
      "c:\\Users\\ralph\\Desktop\\Virtual Environments\\ML\\Lib\\site-packages\\scipy\\sparse\\_index.py:108: SparseEfficiencyWarning: Changing the sparsity structure of a csr_matrix is expensive. lil and dok are more efficient.\n",
      "  self._set_intXint(row, col, x.flat[0])\n"
     ]
    },
    {
     "name": "stdout",
     "output_type": "stream",
     "text": [
      "Degree 4 Validation MSE: 18.83 ---- Degree 5 Validation MSE: 21.36 ---- Degree 6 Validation MSE: 20.58 ---- Degree 7 Validation MSE: 20.81 ---- Degree 8 Validation MSE: 22.21 ---- Degree 9 Validation MSE: 21.84 ---- "
     ]
    },
    {
     "name": "stderr",
     "output_type": "stream",
     "text": [
      "c:\\Users\\ralph\\Desktop\\Virtual Environments\\ML\\Lib\\site-packages\\sklearn\\manifold\\_isomap.py:383: UserWarning: The number of connected components of the neighbors graph is 2 > 1. Completing the graph to fit Isomap might be slow. Increase the number of neighbors to avoid this issue.\n",
      "  self._fit_transform(X)\n",
      "c:\\Users\\ralph\\Desktop\\Virtual Environments\\ML\\Lib\\site-packages\\scipy\\sparse\\_index.py:108: SparseEfficiencyWarning: Changing the sparsity structure of a csr_matrix is expensive. lil and dok are more efficient.\n",
      "  self._set_intXint(row, col, x.flat[0])\n"
     ]
    },
    {
     "name": "stdout",
     "output_type": "stream",
     "text": [
      "Degree 10 Validation MSE: 23.51 ---- Degree 1 Validation MSE: 20.76 ---- "
     ]
    },
    {
     "name": "stderr",
     "output_type": "stream",
     "text": [
      "c:\\Users\\ralph\\Desktop\\Virtual Environments\\ML\\Lib\\site-packages\\sklearn\\manifold\\_isomap.py:383: UserWarning: The number of connected components of the neighbors graph is 2 > 1. Completing the graph to fit Isomap might be slow. Increase the number of neighbors to avoid this issue.\n",
      "  self._fit_transform(X)\n",
      "c:\\Users\\ralph\\Desktop\\Virtual Environments\\ML\\Lib\\site-packages\\scipy\\sparse\\_index.py:108: SparseEfficiencyWarning: Changing the sparsity structure of a csr_matrix is expensive. lil and dok are more efficient.\n",
      "  self._set_intXint(row, col, x.flat[0])\n",
      "c:\\Users\\ralph\\Desktop\\Virtual Environments\\ML\\Lib\\site-packages\\sklearn\\manifold\\_isomap.py:383: UserWarning: The number of connected components of the neighbors graph is 2 > 1. Completing the graph to fit Isomap might be slow. Increase the number of neighbors to avoid this issue.\n",
      "  self._fit_transform(X)\n",
      "c:\\Users\\ralph\\Desktop\\Virtual Environments\\ML\\Lib\\site-packages\\scipy\\sparse\\_index.py:108: SparseEfficiencyWarning: Changing the sparsity structure of a csr_matrix is expensive. lil and dok are more efficient.\n",
      "  self._set_intXint(row, col, x.flat[0])\n"
     ]
    },
    {
     "name": "stdout",
     "output_type": "stream",
     "text": [
      "Degree 2 Validation MSE: 20.3 ---- Degree 3 Validation MSE: 20.81 ---- Degree 4 Validation MSE: 18.96 ---- Degree 5 Validation MSE: 23.24 ---- Degree 6 Validation MSE: 15.63 ---- Degree 7 Validation MSE: 19.18 ---- "
     ]
    },
    {
     "name": "stderr",
     "output_type": "stream",
     "text": [
      "c:\\Users\\ralph\\Desktop\\Virtual Environments\\ML\\Lib\\site-packages\\sklearn\\manifold\\_isomap.py:383: UserWarning: The number of connected components of the neighbors graph is 2 > 1. Completing the graph to fit Isomap might be slow. Increase the number of neighbors to avoid this issue.\n",
      "  self._fit_transform(X)\n",
      "c:\\Users\\ralph\\Desktop\\Virtual Environments\\ML\\Lib\\site-packages\\scipy\\sparse\\_index.py:108: SparseEfficiencyWarning: Changing the sparsity structure of a csr_matrix is expensive. lil and dok are more efficient.\n",
      "  self._set_intXint(row, col, x.flat[0])\n"
     ]
    },
    {
     "name": "stdout",
     "output_type": "stream",
     "text": [
      "Degree 8 Validation MSE: 22.61 ---- Degree 9 Validation MSE: 23.73 ---- "
     ]
    },
    {
     "name": "stderr",
     "output_type": "stream",
     "text": [
      "c:\\Users\\ralph\\Desktop\\Virtual Environments\\ML\\Lib\\site-packages\\sklearn\\manifold\\_isomap.py:383: UserWarning: The number of connected components of the neighbors graph is 2 > 1. Completing the graph to fit Isomap might be slow. Increase the number of neighbors to avoid this issue.\n",
      "  self._fit_transform(X)\n",
      "c:\\Users\\ralph\\Desktop\\Virtual Environments\\ML\\Lib\\site-packages\\scipy\\sparse\\_index.py:108: SparseEfficiencyWarning: Changing the sparsity structure of a csr_matrix is expensive. lil and dok are more efficient.\n",
      "  self._set_intXint(row, col, x.flat[0])\n"
     ]
    },
    {
     "name": "stdout",
     "output_type": "stream",
     "text": [
      "Degree 10 Validation MSE: 24.38 ---- \n",
      "Summary of outer folds:\n",
      "Fold 1: Best Degree of 4, Validation MSE = 17.5967, Test MSE = 21.5878\n",
      "Fold 2: Best Degree of 1, Validation MSE = 18.9973, Test MSE = 19.7838\n",
      "Fold 3: Best Degree of 4, Validation MSE = 17.9088, Test MSE = 21.7321\n",
      "Fold 4: Best Degree of 2, Validation MSE = 17.8634, Test MSE = 20.6210\n",
      "Fold 5: Best Degree of 6, Validation MSE = 15.6297, Test MSE = 22.0553\n",
      "\n",
      "Average Test MSE: 21.1560\n"
     ]
    }
   ],
   "source": [
    "num_splits = 5\n",
    "kf = KFold(n_splits=num_splits, shuffle=True, random_state=1)\n",
    "svr_outer = SVR(C=6, gamma=0.1, kernel='rbf')\n",
    "svr_inner = SVR(C=6, gamma=0.1, kernel='rbf')\n",
    "\n",
    "n_dimensions_range = 10 # Set hyperparameter range of values\n",
    "kf_inner = KFold(n_splits=n_dimensions_range, shuffle=True, random_state=1) # Create kfold for inner loop\n",
    "\n",
    "best_n_dimensions_list = []   # Best degrees resulting from inner fold\n",
    "best_val_mae_list = []  # For inner fold\n",
    "test_mae_list = [] # For outer fold\n",
    "\n",
    "for train_index, test_index in kf.split(X):\n",
    "    X_train, X_test = X.iloc[train_index],X.iloc[test_index]\n",
    "    y_train, y_test = rgr_y.iloc[train_index], rgr_y.iloc[test_index]\n",
    "\n",
    "    best_n_dimensions = 1\n",
    "    best_val_mae = np.inf\n",
    "\n",
    "    degree = 1\n",
    "    for train_index_inner, val_index in kf_inner.split(X_train):\n",
    "        X_train_inner, X_val = X_train.iloc[train_index_inner],  X_train.iloc[val_index]\n",
    "        y_train_inner, y_val = y_train.iloc[train_index_inner],  y_train.iloc[val_index]\n",
    "\n",
    "        # train model with x_train_inner and y_train_inner with n dimensions\n",
    "        iso = Isomap(n_components=degree)\n",
    "\n",
    "        # Create the pure and interaction terms of degree n\n",
    "        X_iso_train_inner = iso.fit_transform(X_train_inner.iloc[:,11:])\n",
    "        X_iso_train_inner = np.c_[X_train_inner.iloc[:,0:11], X_iso_train_inner]\n",
    "        X_iso_val = iso.fit_transform(X_val.iloc[:,11:])\n",
    "        X_iso_val = np.c_[X_val.iloc[:,0:11], X_iso_val]\n",
    "\n",
    "        svr_inner.fit(X_iso_train_inner, y_train_inner)\n",
    "\n",
    "        # validate model on validation data and get MSE\n",
    "        y_pred_inner = svr_inner.predict(X_iso_val)\n",
    "        mae = mean_absolute_error(y_val, y_pred_inner)\n",
    "        print(f\"Degree {degree} Validation MSE: {mae:.4}\", end=\" ---- \")\n",
    "\n",
    "        # if MSE is best so far, save degree and MSE\n",
    "        if mae < best_val_mae:\n",
    "            best_val_mae = mae\n",
    "            best_degree = degree\n",
    "\n",
    "        degree += 1\n",
    "    \n",
    "    best_n_dimensions_list.append(best_degree)\n",
    "    best_val_mae_list.append(best_val_mae)\n",
    "\n",
    "    iso_outer = Isomap(n_components=best_degree)\n",
    "    X_train_iso = iso_outer.fit_transform(X_train.iloc[:,11:])\n",
    "    X_train_iso = np.c_[X_train.iloc[:,0:11], X_train_iso]\n",
    "    X_test_iso = iso_outer.fit_transform(X_test.iloc[:,11:])\n",
    "    X_test_iso = np.c_[X_test.iloc[:,0:11], X_test_iso]\n",
    "    \n",
    "    svr_outer.fit(X_train_iso, y_train)\n",
    "\n",
    "    y_pred_test = svr_outer.predict(X_test_iso)\n",
    "    test_mae = mean_absolute_error(y_test, y_pred_test)\n",
    "    test_mae_list.append(test_mae)\n",
    "\n",
    "print(\"\\nSummary of outer folds:\")\n",
    "for i in range(num_splits):\n",
    "    print(f\"Fold {i+1}: Best Number of Dimensions of {best_n_dimensions_list[i]}, Validation MSE = {best_val_mae_list[i]:.4f}, Test MSE = {test_mae_list[i]:.4f}\")\n",
    "\n",
    "print(f\"\\nAverage Test MSE: {np.mean(test_mae_list):.4f}\")"
   ]
  },
  {
   "cell_type": "markdown",
   "metadata": {},
   "source": [
    "Todo\n",
    "\n",
    "1. Try DR on subsets of MRI data columns\n",
    "2. Wrapper method feature selection on remaining features\n",
    "3. Explore alternative imputation methods (do no imputate values for cateogrical variables, delete observations instead) \n",
    "4. Try different DR methods"
   ]
  },
  {
   "cell_type": "markdown",
   "metadata": {},
   "source": [
    "### ATTEMPT 2: Using DR on each subset of MRI data columns\n"
   ]
  },
  {
   "cell_type": "markdown",
   "metadata": {},
   "source": [
    "#### 2a: as normal\n"
   ]
  },
  {
   "cell_type": "code",
   "execution_count": null,
   "metadata": {},
   "outputs": [],
   "source": []
  },
  {
   "cell_type": "markdown",
   "metadata": {},
   "source": [
    "#### 2b: w/ Wrapper style feature selection"
   ]
  },
  {
   "cell_type": "markdown",
   "metadata": {},
   "source": [
    "#### 2c: using alternative imputation methods"
   ]
  },
  {
   "cell_type": "markdown",
   "metadata": {},
   "source": [
    "#### 2d: combined"
   ]
  }
 ],
 "metadata": {
  "kernelspec": {
   "display_name": "ML",
   "language": "python",
   "name": "python3"
  },
  "language_info": {
   "codemirror_mode": {
    "name": "ipython",
    "version": 3
   },
   "file_extension": ".py",
   "mimetype": "text/x-python",
   "name": "python",
   "nbconvert_exporter": "python",
   "pygments_lexer": "ipython3",
   "version": "3.12.7"
  }
 },
 "nbformat": 4,
 "nbformat_minor": 2
}
