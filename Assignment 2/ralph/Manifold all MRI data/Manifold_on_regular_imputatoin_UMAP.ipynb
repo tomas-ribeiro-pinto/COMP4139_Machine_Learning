{
 "cells": [
  {
   "cell_type": "code",
   "execution_count": 13,
   "metadata": {},
   "outputs": [],
   "source": [
    "import pandas as pd\n",
    "import seaborn as sns\n",
    "import numpy as np\n",
    "import matplotlib.pyplot as plt\n",
    "from sklearn.model_selection import KFold\n",
    "from sklearn.svm import SVR\n",
    "from sklearn.metrics import mean_absolute_error\n",
    "from sklearn.manifold import TSNE, Isomap\n",
    "\n",
    "\n",
    "all_df = pd.read_csv(\"C:/Users/ralph/OneDrive - The University of Nottingham/COMPUTER SCIENCE MSC/Machine Learning/Coursework/Assignment 2/TrainDataset2024.csv\", index_col=False)\n",
    "all_df.drop('ID', axis=1, inplace=True)\n",
    "all_df.head()\n",
    "# classification target\n",
    "clf_y = all_df['pCR (outcome)']\n",
    "# regression target\n",
    "rgr_y = all_df['RelapseFreeSurvival (outcome)']"
   ]
  },
  {
   "cell_type": "code",
   "execution_count": 14,
   "metadata": {},
   "outputs": [
    {
     "data": {
      "text/html": [
       "<div>\n",
       "<style scoped>\n",
       "    .dataframe tbody tr th:only-of-type {\n",
       "        vertical-align: middle;\n",
       "    }\n",
       "\n",
       "    .dataframe tbody tr th {\n",
       "        vertical-align: top;\n",
       "    }\n",
       "\n",
       "    .dataframe thead th {\n",
       "        text-align: right;\n",
       "    }\n",
       "</style>\n",
       "<table border=\"1\" class=\"dataframe\">\n",
       "  <thead>\n",
       "    <tr style=\"text-align: right;\">\n",
       "      <th></th>\n",
       "      <th>ER</th>\n",
       "      <th>PgR</th>\n",
       "      <th>HER2</th>\n",
       "      <th>TrippleNegative</th>\n",
       "      <th>ChemoGrade</th>\n",
       "      <th>Proliferation</th>\n",
       "      <th>HistologyType</th>\n",
       "      <th>LNStatus</th>\n",
       "      <th>TumourStage</th>\n",
       "      <th>Gene</th>\n",
       "      <th>...</th>\n",
       "      <th>original_glszm_SmallAreaHighGrayLevelEmphasis</th>\n",
       "      <th>original_glszm_SmallAreaLowGrayLevelEmphasis</th>\n",
       "      <th>original_glszm_ZoneEntropy</th>\n",
       "      <th>original_glszm_ZonePercentage</th>\n",
       "      <th>original_glszm_ZoneVariance</th>\n",
       "      <th>original_ngtdm_Busyness</th>\n",
       "      <th>original_ngtdm_Coarseness</th>\n",
       "      <th>original_ngtdm_Complexity</th>\n",
       "      <th>original_ngtdm_Contrast</th>\n",
       "      <th>original_ngtdm_Strength</th>\n",
       "    </tr>\n",
       "  </thead>\n",
       "  <tbody>\n",
       "    <tr>\n",
       "      <th>0</th>\n",
       "      <td>0</td>\n",
       "      <td>0</td>\n",
       "      <td>0</td>\n",
       "      <td>1</td>\n",
       "      <td>3</td>\n",
       "      <td>3</td>\n",
       "      <td>1</td>\n",
       "      <td>1</td>\n",
       "      <td>2</td>\n",
       "      <td>1</td>\n",
       "      <td>...</td>\n",
       "      <td>0.517172</td>\n",
       "      <td>0.375126</td>\n",
       "      <td>3.325332</td>\n",
       "      <td>0.002314</td>\n",
       "      <td>3.880772e+06</td>\n",
       "      <td>473.464852</td>\n",
       "      <td>0.000768</td>\n",
       "      <td>0.182615</td>\n",
       "      <td>0.030508</td>\n",
       "      <td>0.000758</td>\n",
       "    </tr>\n",
       "    <tr>\n",
       "      <th>1</th>\n",
       "      <td>1</td>\n",
       "      <td>1</td>\n",
       "      <td>0</td>\n",
       "      <td>0</td>\n",
       "      <td>3</td>\n",
       "      <td>3</td>\n",
       "      <td>1</td>\n",
       "      <td>1</td>\n",
       "      <td>2</td>\n",
       "      <td>0</td>\n",
       "      <td>...</td>\n",
       "      <td>0.444391</td>\n",
       "      <td>0.444391</td>\n",
       "      <td>3.032144</td>\n",
       "      <td>0.005612</td>\n",
       "      <td>2.372010e+06</td>\n",
       "      <td>59.459710</td>\n",
       "      <td>0.004383</td>\n",
       "      <td>0.032012</td>\n",
       "      <td>0.001006</td>\n",
       "      <td>0.003685</td>\n",
       "    </tr>\n",
       "    <tr>\n",
       "      <th>2</th>\n",
       "      <td>0</td>\n",
       "      <td>0</td>\n",
       "      <td>0</td>\n",
       "      <td>1</td>\n",
       "      <td>2</td>\n",
       "      <td>1</td>\n",
       "      <td>1</td>\n",
       "      <td>0</td>\n",
       "      <td>2</td>\n",
       "      <td>1</td>\n",
       "      <td>...</td>\n",
       "      <td>0.534549</td>\n",
       "      <td>0.534549</td>\n",
       "      <td>2.485848</td>\n",
       "      <td>0.006752</td>\n",
       "      <td>1.540027e+06</td>\n",
       "      <td>33.935384</td>\n",
       "      <td>0.007584</td>\n",
       "      <td>0.024062</td>\n",
       "      <td>0.000529</td>\n",
       "      <td>0.006447</td>\n",
       "    </tr>\n",
       "    <tr>\n",
       "      <th>3</th>\n",
       "      <td>0</td>\n",
       "      <td>0</td>\n",
       "      <td>0</td>\n",
       "      <td>1</td>\n",
       "      <td>3</td>\n",
       "      <td>3</td>\n",
       "      <td>1</td>\n",
       "      <td>1</td>\n",
       "      <td>3</td>\n",
       "      <td>1</td>\n",
       "      <td>...</td>\n",
       "      <td>0.506185</td>\n",
       "      <td>0.506185</td>\n",
       "      <td>2.606255</td>\n",
       "      <td>0.003755</td>\n",
       "      <td>6.936741e+06</td>\n",
       "      <td>46.859265</td>\n",
       "      <td>0.005424</td>\n",
       "      <td>0.013707</td>\n",
       "      <td>0.000178</td>\n",
       "      <td>0.004543</td>\n",
       "    </tr>\n",
       "    <tr>\n",
       "      <th>4</th>\n",
       "      <td>1</td>\n",
       "      <td>0</td>\n",
       "      <td>0</td>\n",
       "      <td>0</td>\n",
       "      <td>2</td>\n",
       "      <td>1</td>\n",
       "      <td>1</td>\n",
       "      <td>0</td>\n",
       "      <td>2</td>\n",
       "      <td>1</td>\n",
       "      <td>...</td>\n",
       "      <td>0.462282</td>\n",
       "      <td>0.462282</td>\n",
       "      <td>2.809279</td>\n",
       "      <td>0.006521</td>\n",
       "      <td>1.265399e+06</td>\n",
       "      <td>39.621023</td>\n",
       "      <td>0.006585</td>\n",
       "      <td>0.034148</td>\n",
       "      <td>0.001083</td>\n",
       "      <td>0.005626</td>\n",
       "    </tr>\n",
       "    <tr>\n",
       "      <th>...</th>\n",
       "      <td>...</td>\n",
       "      <td>...</td>\n",
       "      <td>...</td>\n",
       "      <td>...</td>\n",
       "      <td>...</td>\n",
       "      <td>...</td>\n",
       "      <td>...</td>\n",
       "      <td>...</td>\n",
       "      <td>...</td>\n",
       "      <td>...</td>\n",
       "      <td>...</td>\n",
       "      <td>...</td>\n",
       "      <td>...</td>\n",
       "      <td>...</td>\n",
       "      <td>...</td>\n",
       "      <td>...</td>\n",
       "      <td>...</td>\n",
       "      <td>...</td>\n",
       "      <td>...</td>\n",
       "      <td>...</td>\n",
       "      <td>...</td>\n",
       "    </tr>\n",
       "    <tr>\n",
       "      <th>395</th>\n",
       "      <td>1</td>\n",
       "      <td>0</td>\n",
       "      <td>1</td>\n",
       "      <td>0</td>\n",
       "      <td>3</td>\n",
       "      <td>2</td>\n",
       "      <td>1</td>\n",
       "      <td>1</td>\n",
       "      <td>4</td>\n",
       "      <td>0</td>\n",
       "      <td>...</td>\n",
       "      <td>0.476493</td>\n",
       "      <td>0.476493</td>\n",
       "      <td>2.453583</td>\n",
       "      <td>0.003229</td>\n",
       "      <td>2.327038e+06</td>\n",
       "      <td>18.562377</td>\n",
       "      <td>0.013766</td>\n",
       "      <td>0.018042</td>\n",
       "      <td>0.000288</td>\n",
       "      <td>0.012257</td>\n",
       "    </tr>\n",
       "    <tr>\n",
       "      <th>396</th>\n",
       "      <td>0</td>\n",
       "      <td>0</td>\n",
       "      <td>0</td>\n",
       "      <td>1</td>\n",
       "      <td>3</td>\n",
       "      <td>3</td>\n",
       "      <td>1</td>\n",
       "      <td>0</td>\n",
       "      <td>2</td>\n",
       "      <td>0</td>\n",
       "      <td>...</td>\n",
       "      <td>0.418382</td>\n",
       "      <td>0.418382</td>\n",
       "      <td>2.995603</td>\n",
       "      <td>0.004243</td>\n",
       "      <td>1.005061e+06</td>\n",
       "      <td>156.627179</td>\n",
       "      <td>0.002228</td>\n",
       "      <td>0.136015</td>\n",
       "      <td>0.022148</td>\n",
       "      <td>0.002098</td>\n",
       "    </tr>\n",
       "    <tr>\n",
       "      <th>397</th>\n",
       "      <td>0</td>\n",
       "      <td>0</td>\n",
       "      <td>0</td>\n",
       "      <td>1</td>\n",
       "      <td>2</td>\n",
       "      <td>1</td>\n",
       "      <td>1</td>\n",
       "      <td>0</td>\n",
       "      <td>2</td>\n",
       "      <td>0</td>\n",
       "      <td>...</td>\n",
       "      <td>0.527779</td>\n",
       "      <td>0.527778</td>\n",
       "      <td>1.500000</td>\n",
       "      <td>0.003728</td>\n",
       "      <td>2.132007e+05</td>\n",
       "      <td>0.996746</td>\n",
       "      <td>0.252582</td>\n",
       "      <td>0.007380</td>\n",
       "      <td>0.000037</td>\n",
       "      <td>0.231059</td>\n",
       "    </tr>\n",
       "    <tr>\n",
       "      <th>398</th>\n",
       "      <td>1</td>\n",
       "      <td>0</td>\n",
       "      <td>0</td>\n",
       "      <td>0</td>\n",
       "      <td>3</td>\n",
       "      <td>3</td>\n",
       "      <td>1</td>\n",
       "      <td>1</td>\n",
       "      <td>3</td>\n",
       "      <td>0</td>\n",
       "      <td>...</td>\n",
       "      <td>0.313693</td>\n",
       "      <td>0.313693</td>\n",
       "      <td>3.573557</td>\n",
       "      <td>0.001112</td>\n",
       "      <td>2.008034e+07</td>\n",
       "      <td>204.864200</td>\n",
       "      <td>0.001372</td>\n",
       "      <td>0.054063</td>\n",
       "      <td>0.003697</td>\n",
       "      <td>0.001368</td>\n",
       "    </tr>\n",
       "    <tr>\n",
       "      <th>399</th>\n",
       "      <td>1</td>\n",
       "      <td>0</td>\n",
       "      <td>0</td>\n",
       "      <td>0</td>\n",
       "      <td>2</td>\n",
       "      <td>1</td>\n",
       "      <td>1</td>\n",
       "      <td>1</td>\n",
       "      <td>2</td>\n",
       "      <td>0</td>\n",
       "      <td>...</td>\n",
       "      <td>0.670229</td>\n",
       "      <td>0.670229</td>\n",
       "      <td>1.857045</td>\n",
       "      <td>0.006706</td>\n",
       "      <td>5.609262e+05</td>\n",
       "      <td>9.609163</td>\n",
       "      <td>0.026591</td>\n",
       "      <td>0.018682</td>\n",
       "      <td>0.000311</td>\n",
       "      <td>0.022676</td>\n",
       "    </tr>\n",
       "  </tbody>\n",
       "</table>\n",
       "<p>400 rows × 117 columns</p>\n",
       "</div>"
      ],
      "text/plain": [
       "     ER  PgR  HER2  TrippleNegative  ChemoGrade  Proliferation  HistologyType  \\\n",
       "0     0    0     0                1           3              3              1   \n",
       "1     1    1     0                0           3              3              1   \n",
       "2     0    0     0                1           2              1              1   \n",
       "3     0    0     0                1           3              3              1   \n",
       "4     1    0     0                0           2              1              1   \n",
       "..   ..  ...   ...              ...         ...            ...            ...   \n",
       "395   1    0     1                0           3              2              1   \n",
       "396   0    0     0                1           3              3              1   \n",
       "397   0    0     0                1           2              1              1   \n",
       "398   1    0     0                0           3              3              1   \n",
       "399   1    0     0                0           2              1              1   \n",
       "\n",
       "     LNStatus  TumourStage  Gene  ...  \\\n",
       "0           1            2     1  ...   \n",
       "1           1            2     0  ...   \n",
       "2           0            2     1  ...   \n",
       "3           1            3     1  ...   \n",
       "4           0            2     1  ...   \n",
       "..        ...          ...   ...  ...   \n",
       "395         1            4     0  ...   \n",
       "396         0            2     0  ...   \n",
       "397         0            2     0  ...   \n",
       "398         1            3     0  ...   \n",
       "399         1            2     0  ...   \n",
       "\n",
       "     original_glszm_SmallAreaHighGrayLevelEmphasis  \\\n",
       "0                                         0.517172   \n",
       "1                                         0.444391   \n",
       "2                                         0.534549   \n",
       "3                                         0.506185   \n",
       "4                                         0.462282   \n",
       "..                                             ...   \n",
       "395                                       0.476493   \n",
       "396                                       0.418382   \n",
       "397                                       0.527779   \n",
       "398                                       0.313693   \n",
       "399                                       0.670229   \n",
       "\n",
       "     original_glszm_SmallAreaLowGrayLevelEmphasis  original_glszm_ZoneEntropy  \\\n",
       "0                                        0.375126                    3.325332   \n",
       "1                                        0.444391                    3.032144   \n",
       "2                                        0.534549                    2.485848   \n",
       "3                                        0.506185                    2.606255   \n",
       "4                                        0.462282                    2.809279   \n",
       "..                                            ...                         ...   \n",
       "395                                      0.476493                    2.453583   \n",
       "396                                      0.418382                    2.995603   \n",
       "397                                      0.527778                    1.500000   \n",
       "398                                      0.313693                    3.573557   \n",
       "399                                      0.670229                    1.857045   \n",
       "\n",
       "     original_glszm_ZonePercentage  original_glszm_ZoneVariance  \\\n",
       "0                         0.002314                 3.880772e+06   \n",
       "1                         0.005612                 2.372010e+06   \n",
       "2                         0.006752                 1.540027e+06   \n",
       "3                         0.003755                 6.936741e+06   \n",
       "4                         0.006521                 1.265399e+06   \n",
       "..                             ...                          ...   \n",
       "395                       0.003229                 2.327038e+06   \n",
       "396                       0.004243                 1.005061e+06   \n",
       "397                       0.003728                 2.132007e+05   \n",
       "398                       0.001112                 2.008034e+07   \n",
       "399                       0.006706                 5.609262e+05   \n",
       "\n",
       "     original_ngtdm_Busyness  original_ngtdm_Coarseness  \\\n",
       "0                 473.464852                   0.000768   \n",
       "1                  59.459710                   0.004383   \n",
       "2                  33.935384                   0.007584   \n",
       "3                  46.859265                   0.005424   \n",
       "4                  39.621023                   0.006585   \n",
       "..                       ...                        ...   \n",
       "395                18.562377                   0.013766   \n",
       "396               156.627179                   0.002228   \n",
       "397                 0.996746                   0.252582   \n",
       "398               204.864200                   0.001372   \n",
       "399                 9.609163                   0.026591   \n",
       "\n",
       "     original_ngtdm_Complexity  original_ngtdm_Contrast  \\\n",
       "0                     0.182615                 0.030508   \n",
       "1                     0.032012                 0.001006   \n",
       "2                     0.024062                 0.000529   \n",
       "3                     0.013707                 0.000178   \n",
       "4                     0.034148                 0.001083   \n",
       "..                         ...                      ...   \n",
       "395                   0.018042                 0.000288   \n",
       "396                   0.136015                 0.022148   \n",
       "397                   0.007380                 0.000037   \n",
       "398                   0.054063                 0.003697   \n",
       "399                   0.018682                 0.000311   \n",
       "\n",
       "     original_ngtdm_Strength  \n",
       "0                   0.000758  \n",
       "1                   0.003685  \n",
       "2                   0.006447  \n",
       "3                   0.004543  \n",
       "4                   0.005626  \n",
       "..                       ...  \n",
       "395                 0.012257  \n",
       "396                 0.002098  \n",
       "397                 0.231059  \n",
       "398                 0.001368  \n",
       "399                 0.022676  \n",
       "\n",
       "[400 rows x 117 columns]"
      ]
     },
     "execution_count": 14,
     "metadata": {},
     "output_type": "execute_result"
    }
   ],
   "source": [
    "all_df.shape\n",
    "X_rgr = all_df.iloc[:, 3:]\n",
    "X_rgr"
   ]
  },
  {
   "cell_type": "code",
   "execution_count": 15,
   "metadata": {},
   "outputs": [
    {
     "name": "stdout",
     "output_type": "stream",
     "text": [
      "(310, 117)\n",
      "(310,)\n"
     ]
    }
   ],
   "source": [
    "indices_to_remove = set()\n",
    "\n",
    "for i in range(X_rgr.shape[1]):\n",
    "    if X_rgr.iloc[:, i].dtype == np.int64:\n",
    "        indices_to_remove.update(X_rgr[X_rgr.iloc[:, i] == 999].index)\n",
    "    else:\n",
    "        median = X_rgr.iloc[:, i].median()\n",
    "        X_rgr.iloc[:, i] = X_rgr.iloc[:, i].replace(999, median)\n",
    "\n",
    "# Remove duplicates from indices_to_remove\n",
    "indices_to_remove = list(indices_to_remove)\n",
    "\n",
    "# Remove the rows from X_rgr and rfs\n",
    "X_rgr = X_rgr.drop(indices_to_remove)\n",
    "rgr_y = rgr_y.drop(indices_to_remove)\n",
    "\n",
    "print(X_rgr.shape)\n",
    "print(rgr_y.shape)"
   ]
  },
  {
   "cell_type": "markdown",
   "metadata": {},
   "source": [
    "### OUTLIER OPTION A: Ralph's Implementation"
   ]
  },
  {
   "cell_type": "code",
   "execution_count": 16,
   "metadata": {},
   "outputs": [
    {
     "name": "stdout",
     "output_type": "stream",
     "text": [
      "ER: 0 outliers\n",
      "PgR: 0 outliers\n",
      "HER2: 0 outliers\n",
      "TrippleNegative: 0 outliers\n",
      "ChemoGrade: 0 outliers\n",
      "Proliferation: 0 outliers\n",
      "HistologyType: 49 outliers\n",
      "LNStatus: 0 outliers\n",
      "TumourStage: 0 outliers\n",
      "Gene: 0 outliers\n",
      "original_shape_Elongation: 0 outliers\n",
      "original_shape_Flatness: 0 outliers\n",
      "original_shape_LeastAxisLength: 0 outliers\n",
      "original_shape_MajorAxisLength: 1 outliers\n",
      "original_shape_Maximum2DDiameterColumn: 0 outliers\n",
      "original_shape_Maximum2DDiameterRow: 1 outliers\n",
      "original_shape_Maximum2DDiameterSlice: 0 outliers\n",
      "original_shape_Maximum3DDiameter: 0 outliers\n",
      "original_shape_MeshVolume: 2 outliers\n",
      "original_shape_MinorAxisLength: 0 outliers\n",
      "original_shape_Sphericity: 0 outliers\n",
      "original_shape_SurfaceArea: 3 outliers\n",
      "original_shape_SurfaceVolumeRatio: 0 outliers\n",
      "original_shape_VoxelVolume: 2 outliers\n",
      "original_firstorder_10Percentile: 0 outliers\n",
      "original_firstorder_90Percentile: 0 outliers\n",
      "original_firstorder_Energy: 3 outliers\n",
      "original_firstorder_Entropy: 0 outliers\n",
      "original_firstorder_InterquartileRange: 0 outliers\n",
      "original_firstorder_Kurtosis: 2 outliers\n",
      "original_firstorder_Maximum: 0 outliers\n",
      "original_firstorder_MeanAbsoluteDeviation: 0 outliers\n",
      "original_firstorder_Mean: 0 outliers\n",
      "original_firstorder_Median: 0 outliers\n",
      "original_firstorder_Minimum: 0 outliers\n",
      "original_firstorder_Range: 0 outliers\n",
      "original_firstorder_RobustMeanAbsoluteDeviation: 0 outliers\n",
      "original_firstorder_RootMeanSquared: 0 outliers\n",
      "original_firstorder_Skewness: 0 outliers\n",
      "original_firstorder_TotalEnergy: 3 outliers\n",
      "original_firstorder_Uniformity: 0 outliers\n",
      "original_firstorder_Variance: 0 outliers\n",
      "original_glcm_Autocorrelation: 13 outliers\n",
      "original_glcm_ClusterProminence: 0 outliers\n",
      "original_glcm_ClusterShade: 0 outliers\n",
      "original_glcm_ClusterTendency: 0 outliers\n",
      "original_glcm_Contrast: 0 outliers\n",
      "original_glcm_Correlation: 0 outliers\n",
      "original_glcm_DifferenceAverage: 0 outliers\n",
      "original_glcm_DifferenceEntropy: 0 outliers\n",
      "original_glcm_DifferenceVariance: 0 outliers\n",
      "original_glcm_Id: 0 outliers\n",
      "original_glcm_Idm: 0 outliers\n",
      "original_glcm_Idmn: 0 outliers\n",
      "original_glcm_Idn: 0 outliers\n",
      "original_glcm_Imc1: 0 outliers\n",
      "original_glcm_Imc2: 0 outliers\n",
      "original_glcm_InverseVariance: 0 outliers\n",
      "original_glcm_JointAverage: 13 outliers\n",
      "original_glcm_JointEnergy: 0 outliers\n",
      "original_glcm_JointEntropy: 0 outliers\n",
      "original_glcm_MCC: 0 outliers\n",
      "original_glcm_MaximumProbability: 0 outliers\n",
      "original_glcm_SumAverage: 13 outliers\n",
      "original_glcm_SumEntropy: 0 outliers\n",
      "original_glcm_SumSquares: 0 outliers\n",
      "original_gldm_DependenceEntropy: 0 outliers\n",
      "original_gldm_DependenceNonUniformity: 4 outliers\n",
      "original_gldm_DependenceNonUniformityNormalized: 0 outliers\n",
      "original_gldm_DependenceVariance: 0 outliers\n",
      "original_gldm_GrayLevelNonUniformity: 2 outliers\n",
      "original_gldm_GrayLevelVariance: 0 outliers\n",
      "original_gldm_HighGrayLevelEmphasis: 12 outliers\n",
      "original_gldm_LargeDependenceEmphasis: 0 outliers\n",
      "original_gldm_LargeDependenceHighGrayLevelEmphasis: 0 outliers\n",
      "original_gldm_LargeDependenceLowGrayLevelEmphasis: 12 outliers\n",
      "original_gldm_LowGrayLevelEmphasis: 12 outliers\n",
      "original_gldm_SmallDependenceEmphasis: 0 outliers\n",
      "original_gldm_SmallDependenceHighGrayLevelEmphasis: 0 outliers\n",
      "original_gldm_SmallDependenceLowGrayLevelEmphasis: 0 outliers\n",
      "original_glrlm_GrayLevelNonUniformity: 3 outliers\n",
      "original_glrlm_GrayLevelNonUniformityNormalized: 0 outliers\n",
      "original_glrlm_GrayLevelVariance: 0 outliers\n",
      "original_glrlm_HighGrayLevelRunEmphasis: 0 outliers\n",
      "original_glrlm_LongRunEmphasis: 0 outliers\n",
      "original_glrlm_LongRunHighGrayLevelEmphasis: 0 outliers\n",
      "original_glrlm_LongRunLowGrayLevelEmphasis: 1 outliers\n",
      "original_glrlm_LowGrayLevelRunEmphasis: 0 outliers\n",
      "original_glrlm_RunEntropy: 0 outliers\n",
      "original_glrlm_RunLengthNonUniformity: 2 outliers\n",
      "original_glrlm_RunLengthNonUniformityNormalized: 0 outliers\n",
      "original_glrlm_RunPercentage: 0 outliers\n",
      "original_glrlm_RunVariance: 0 outliers\n",
      "original_glrlm_ShortRunEmphasis: 0 outliers\n",
      "original_glrlm_ShortRunHighGrayLevelEmphasis: 0 outliers\n",
      "original_glrlm_ShortRunLowGrayLevelEmphasis: 0 outliers\n",
      "original_glszm_GrayLevelNonUniformity: 1 outliers\n",
      "original_glszm_GrayLevelNonUniformityNormalized: 0 outliers\n",
      "original_glszm_GrayLevelVariance: 0 outliers\n",
      "original_glszm_HighGrayLevelZoneEmphasis: 8 outliers\n",
      "original_glszm_LargeAreaEmphasis: 18 outliers\n",
      "original_glszm_LargeAreaHighGrayLevelEmphasis: 17 outliers\n",
      "original_glszm_LargeAreaLowGrayLevelEmphasis: 21 outliers\n",
      "original_glszm_LowGrayLevelZoneEmphasis: 8 outliers\n",
      "original_glszm_SizeZoneNonUniformity: 0 outliers\n",
      "original_glszm_SizeZoneNonUniformityNormalized: 0 outliers\n",
      "original_glszm_SmallAreaEmphasis: 0 outliers\n",
      "original_glszm_SmallAreaHighGrayLevelEmphasis: 0 outliers\n",
      "original_glszm_SmallAreaLowGrayLevelEmphasis: 0 outliers\n",
      "original_glszm_ZoneEntropy: 0 outliers\n",
      "original_glszm_ZonePercentage: 0 outliers\n",
      "original_glszm_ZoneVariance: 16 outliers\n",
      "original_ngtdm_Busyness: 1 outliers\n",
      "original_ngtdm_Coarseness: 30 outliers\n",
      "original_ngtdm_Complexity: 0 outliers\n",
      "original_ngtdm_Contrast: 1 outliers\n",
      "original_ngtdm_Strength: 21 outliers\n"
     ]
    }
   ],
   "source": [
    "outlier_indices = set()\n",
    "for column in X_rgr.columns:\n",
    "    Q1 = X_rgr[column].quantile(0.25)\n",
    "    Q3 = X_rgr[column].quantile(0.75)\n",
    "    IQR = Q3 - Q1\n",
    "\n",
    "    lower_bound = Q1 - 7 * IQR\n",
    "    upper_bound = Q3 + 7 * IQR\n",
    "\n",
    "    outliers = X_rgr[(X_rgr[column] < lower_bound) | (X_rgr[column] > upper_bound)].index\n",
    "    outlier_indices.update(outliers)\n",
    "\n",
    "    outliers_sum = ((X_rgr[column] < lower_bound) | (X_rgr[column] > upper_bound)).sum()\n",
    "    print(f'{column}: {outliers_sum} outliers')\n",
    "\n",
    "outlier_indices = list(outlier_indices)\n",
    "\n",
    "X_rgr = X_rgr.drop(index=outlier_indices)\n",
    "rgr_y = rgr_y.drop(index=outlier_indices)\n",
    "clf_y = clf_y.drop(index=outlier_indices)"
   ]
  },
  {
   "cell_type": "markdown",
   "metadata": {},
   "source": [
    "## OUTLIER OPTION B: Tomas' Implementation"
   ]
  },
  {
   "cell_type": "code",
   "execution_count": null,
   "metadata": {},
   "outputs": [],
   "source": [
    "def percentile_based_outlier(data, threshold=95):\n",
    "    diff = (100 - threshold) / 2.0\n",
    "    minval, maxval = np.percentile(data, [diff, 100 - diff])\n",
    "    return (data < minval) | (data > maxval)\n",
    "\n",
    "def mad_based_outlier(points, threshold=3.5):\n",
    "    points = np.array(points)\n",
    "    if len(points.shape) == 1:\n",
    "        points = points[:, None]\n",
    "    median_y = np.median(points)\n",
    "    median_absolute_deviation_y = np.median([np.abs(y - median_y) for y in points])\n",
    "    # Small constant added to avoid division by zero\n",
    "    modified_z_scores = [0.6745 * (y - median_y) / (median_absolute_deviation_y + 1e-6) for y in points]\n",
    "\n",
    "    return np.abs(modified_z_scores) > threshold\n",
    "\n",
    "def std_div(data, threshold=3):\n",
    "    std = data.std()\n",
    "    mean = data.mean()\n",
    "    isOutlier = []\n",
    "    for val in data:\n",
    "        if abs(val - mean)/std > threshold:\n",
    "            isOutlier.append(True)\n",
    "        else:\n",
    "            isOutlier.append(False)\n",
    "    return isOutlier\n",
    "\n",
    "def outlierVote(data):\n",
    "    x = percentile_based_outlier(data)\n",
    "    y = mad_based_outlier(data)\n",
    "    z = std_div(data)\n",
    "    temp = list(zip(x, y, z))\n",
    "    final = []\n",
    "    for i in range(len(temp)):\n",
    "        if temp[i].count(False) >= 2:\n",
    "            final.append(False)\n",
    "        else:\n",
    "            final.append(True)\n",
    "    return final\n",
    "\n",
    "def plotOutliers(x):\n",
    "    fig, axes = plt.subplots(nrows=4)\n",
    "    for ax, func in zip(axes, [percentile_based_outlier, mad_based_outlier, std_div, outlierVote]):\n",
    "        sns.distplot(x, ax=ax, rug=True, hist=False)\n",
    "        outliers = func(x)\n",
    "        ax.plot(outliers, np.zeros_like(outliers), 'ro', clip_on=False)\n",
    "\n",
    "    kwargs = dict(y=0.95, x=0.05, ha='left', va='top', size=20)\n",
    "    axes[0].set_title('Percentile-based Outliers', **kwargs)\n",
    "    axes[1].set_title('MAD-based Outliers', **kwargs)\n",
    "    axes[2].set_title('STD-based Outliers', **kwargs)\n",
    "    axes[3].set_title('Majority vote', **kwargs)\n",
    "    fig.suptitle('Comparing Outlier Tests with n={}'.format(len(x)), size=20)\n",
    "    fig = plt.gcf()\n",
    "    fig.set_size_inches(20, 15)\n",
    "\n",
    "def removeOutliers(data):\n",
    "    # Remove outliers from the dataframe\n",
    "    for column in data.columns:\n",
    "        outliers = outlierVote(all_df[column])\n",
    "        # Calculate Non-Outlier Maximum using the outliers list\n",
    "        non_outlier_max = all_df.loc[~np.array(outliers), column].max()\n",
    "        # Replace outliers with the maximum non-outlier value\n",
    "        data.loc[outliers, column] = non_outlier_max\n",
    "\n",
    "removeOutliers(all_df)\n",
    "# Verify the changes\n",
    "all_df.head()\n",
    "\n",
    "# Assign features to X\n",
    "X = all_df.drop(['pCR (outcome)', 'RelapseFreeSurvival (outcome)'], axis=1)"
   ]
  },
  {
   "cell_type": "code",
   "execution_count": 17,
   "metadata": {},
   "outputs": [
    {
     "data": {
      "text/plain": [
       "(218, 117)"
      ]
     },
     "execution_count": 17,
     "metadata": {},
     "output_type": "execute_result"
    }
   ],
   "source": [
    "X_rgr.shape"
   ]
  },
  {
   "cell_type": "code",
   "execution_count": null,
   "metadata": {},
   "outputs": [],
   "source": [
    "# Create manifold of MRI scan data (columns 11 onwards)\n",
    "\n",
    "tsne = TSNE(n_components=2, random_state=42)\n",
    "# isomap = Isomap(n_components=)\n",
    "X_tsne_mri = tsne.fit_transform(X_rgr.iloc[:,11:])\n",
    "\n",
    "# plot manifold\n",
    "plt.scatter(X_tsne_mri[:, -2], X_tsne_mri[:, -1], c=clf_y, cmap=\"jet\")\n",
    "plt.axis('off')\n",
    "plt.colorbar()\n",
    "plt.show()\n",
    "\n",
    "# combine columns 0-10 with the manifold\n",
    "X_tsne_mri = np.c_[X_rgr.iloc[:,0:11], X_tsne_mri]"
   ]
  },
  {
   "cell_type": "code",
   "execution_count": 19,
   "metadata": {},
   "outputs": [
    {
     "name": "stderr",
     "output_type": "stream",
     "text": [
      "c:\\Users\\ralph\\Desktop\\Virtual Environments\\ML\\Lib\\site-packages\\umap\\umap_.py:1952: UserWarning: n_jobs value 1 overridden to 1 by setting random_state. Use no seed for parallelism.\n",
      "  warn(\n"
     ]
    },
    {
     "data": {
      "image/png": "[encoded data removed]",
      "text/plain": [
       "<Figure size 640x480 with 2 Axes>"
      ]
     },
     "metadata": {},
     "output_type": "display_data"
    }
   ],
   "source": [
    "import umap.umap_ as umap\n",
    "\n",
    "# Create manifold of MRI scan data (columns 11 onwards)\n",
    "\n",
    "# Create UMAP manifold of MRI scan data (columns 11 onwards)\n",
    "umap_model = umap.UMAP(n_components=2, random_state=42)\n",
    "X_umap_mri = umap_model.fit_transform(X_rgr.iloc[:, 11:])\n",
    "\n",
    "# plot manifold\n",
    "plt.scatter(X_umap_mri[:, 0], X_umap_mri[:, 1], c=rgr_y, cmap=\"jet\")\n",
    "plt.axis('off')\n",
    "plt.colorbar()\n",
    "plt.show()\n",
    "\n",
    "# combine columns 0-10 with the manifold\n",
    "X_umap_mri = np.c_[X_rgr.iloc[:, 0:11], X_umap_mri]"
   ]
  },
  {
   "cell_type": "markdown",
   "metadata": {},
   "source": [
    "## Nested K-Fold Validation: Number of Dimensions\n",
    "#### Not much better"
   ]
  },
  {
   "cell_type": "code",
   "execution_count": 20,
   "metadata": {},
   "outputs": [
    {
     "name": "stderr",
     "output_type": "stream",
     "text": [
      "c:\\Users\\ralph\\Desktop\\Virtual Environments\\ML\\Lib\\site-packages\\umap\\umap_.py:1952: UserWarning: n_jobs value 1 overridden to 1 by setting random_state. Use no seed for parallelism.\n",
      "  warn(\n"
     ]
    },
    {
     "name": "stdout",
     "output_type": "stream",
     "text": [
      "Degree 1 Validation MAE: 25.78 ---- "
     ]
    },
    {
     "name": "stderr",
     "output_type": "stream",
     "text": [
      "c:\\Users\\ralph\\Desktop\\Virtual Environments\\ML\\Lib\\site-packages\\umap\\umap_.py:1952: UserWarning: n_jobs value 1 overridden to 1 by setting random_state. Use no seed for parallelism.\n",
      "  warn(\n"
     ]
    },
    {
     "name": "stdout",
     "output_type": "stream",
     "text": [
      "Degree 2 Validation MAE: 29.5 ---- "
     ]
    },
    {
     "name": "stderr",
     "output_type": "stream",
     "text": [
      "c:\\Users\\ralph\\Desktop\\Virtual Environments\\ML\\Lib\\site-packages\\umap\\umap_.py:1952: UserWarning: n_jobs value 1 overridden to 1 by setting random_state. Use no seed for parallelism.\n",
      "  warn(\n"
     ]
    },
    {
     "name": "stdout",
     "output_type": "stream",
     "text": [
      "Degree 3 Validation MAE: 23.19 ---- "
     ]
    },
    {
     "name": "stderr",
     "output_type": "stream",
     "text": [
      "c:\\Users\\ralph\\Desktop\\Virtual Environments\\ML\\Lib\\site-packages\\umap\\umap_.py:1952: UserWarning: n_jobs value 1 overridden to 1 by setting random_state. Use no seed for parallelism.\n",
      "  warn(\n"
     ]
    },
    {
     "name": "stdout",
     "output_type": "stream",
     "text": [
      "Degree 4 Validation MAE: 18.03 ---- "
     ]
    },
    {
     "name": "stderr",
     "output_type": "stream",
     "text": [
      "c:\\Users\\ralph\\Desktop\\Virtual Environments\\ML\\Lib\\site-packages\\umap\\umap_.py:1952: UserWarning: n_jobs value 1 overridden to 1 by setting random_state. Use no seed for parallelism.\n",
      "  warn(\n"
     ]
    },
    {
     "name": "stdout",
     "output_type": "stream",
     "text": [
      "Degree 5 Validation MAE: 25.07 ---- "
     ]
    },
    {
     "name": "stderr",
     "output_type": "stream",
     "text": [
      "c:\\Users\\ralph\\Desktop\\Virtual Environments\\ML\\Lib\\site-packages\\umap\\umap_.py:1952: UserWarning: n_jobs value 1 overridden to 1 by setting random_state. Use no seed for parallelism.\n",
      "  warn(\n"
     ]
    },
    {
     "name": "stdout",
     "output_type": "stream",
     "text": [
      "Degree 6 Validation MAE: 17.13 ---- "
     ]
    },
    {
     "name": "stderr",
     "output_type": "stream",
     "text": [
      "c:\\Users\\ralph\\Desktop\\Virtual Environments\\ML\\Lib\\site-packages\\umap\\umap_.py:1952: UserWarning: n_jobs value 1 overridden to 1 by setting random_state. Use no seed for parallelism.\n",
      "  warn(\n"
     ]
    },
    {
     "name": "stdout",
     "output_type": "stream",
     "text": [
      "Degree 7 Validation MAE: 16.2 ---- "
     ]
    },
    {
     "name": "stderr",
     "output_type": "stream",
     "text": [
      "c:\\Users\\ralph\\Desktop\\Virtual Environments\\ML\\Lib\\site-packages\\umap\\umap_.py:1952: UserWarning: n_jobs value 1 overridden to 1 by setting random_state. Use no seed for parallelism.\n",
      "  warn(\n"
     ]
    },
    {
     "name": "stdout",
     "output_type": "stream",
     "text": [
      "Degree 8 Validation MAE: 23.55 ---- "
     ]
    },
    {
     "name": "stderr",
     "output_type": "stream",
     "text": [
      "c:\\Users\\ralph\\Desktop\\Virtual Environments\\ML\\Lib\\site-packages\\umap\\umap_.py:1952: UserWarning: n_jobs value 1 overridden to 1 by setting random_state. Use no seed for parallelism.\n",
      "  warn(\n"
     ]
    },
    {
     "name": "stdout",
     "output_type": "stream",
     "text": [
      "Degree 9 Validation MAE: 23.35 ---- "
     ]
    },
    {
     "name": "stderr",
     "output_type": "stream",
     "text": [
      "c:\\Users\\ralph\\Desktop\\Virtual Environments\\ML\\Lib\\site-packages\\umap\\umap_.py:1952: UserWarning: n_jobs value 1 overridden to 1 by setting random_state. Use no seed for parallelism.\n",
      "  warn(\n"
     ]
    },
    {
     "name": "stdout",
     "output_type": "stream",
     "text": [
      "Degree 10 Validation MAE: 16.56 ---- "
     ]
    },
    {
     "name": "stderr",
     "output_type": "stream",
     "text": [
      "c:\\Users\\ralph\\Desktop\\Virtual Environments\\ML\\Lib\\site-packages\\umap\\umap_.py:1952: UserWarning: n_jobs value 1 overridden to 1 by setting random_state. Use no seed for parallelism.\n",
      "  warn(\n",
      "c:\\Users\\ralph\\Desktop\\Virtual Environments\\ML\\Lib\\site-packages\\umap\\umap_.py:1952: UserWarning: n_jobs value 1 overridden to 1 by setting random_state. Use no seed for parallelism.\n",
      "  warn(\n"
     ]
    },
    {
     "name": "stdout",
     "output_type": "stream",
     "text": [
      "Degree 1 Validation MAE: 28.93 ---- "
     ]
    },
    {
     "name": "stderr",
     "output_type": "stream",
     "text": [
      "c:\\Users\\ralph\\Desktop\\Virtual Environments\\ML\\Lib\\site-packages\\umap\\umap_.py:1952: UserWarning: n_jobs value 1 overridden to 1 by setting random_state. Use no seed for parallelism.\n",
      "  warn(\n"
     ]
    },
    {
     "name": "stdout",
     "output_type": "stream",
     "text": [
      "Degree 2 Validation MAE: 23.51 ---- "
     ]
    },
    {
     "name": "stderr",
     "output_type": "stream",
     "text": [
      "c:\\Users\\ralph\\Desktop\\Virtual Environments\\ML\\Lib\\site-packages\\umap\\umap_.py:1952: UserWarning: n_jobs value 1 overridden to 1 by setting random_state. Use no seed for parallelism.\n",
      "  warn(\n"
     ]
    },
    {
     "name": "stdout",
     "output_type": "stream",
     "text": [
      "Degree 3 Validation MAE: 19.68 ---- "
     ]
    },
    {
     "name": "stderr",
     "output_type": "stream",
     "text": [
      "c:\\Users\\ralph\\Desktop\\Virtual Environments\\ML\\Lib\\site-packages\\umap\\umap_.py:1952: UserWarning: n_jobs value 1 overridden to 1 by setting random_state. Use no seed for parallelism.\n",
      "  warn(\n"
     ]
    },
    {
     "name": "stdout",
     "output_type": "stream",
     "text": [
      "Degree 4 Validation MAE: 20.01 ---- "
     ]
    },
    {
     "name": "stderr",
     "output_type": "stream",
     "text": [
      "c:\\Users\\ralph\\Desktop\\Virtual Environments\\ML\\Lib\\site-packages\\umap\\umap_.py:1952: UserWarning: n_jobs value 1 overridden to 1 by setting random_state. Use no seed for parallelism.\n",
      "  warn(\n"
     ]
    },
    {
     "name": "stdout",
     "output_type": "stream",
     "text": [
      "Degree 5 Validation MAE: 33.06 ---- "
     ]
    },
    {
     "name": "stderr",
     "output_type": "stream",
     "text": [
      "c:\\Users\\ralph\\Desktop\\Virtual Environments\\ML\\Lib\\site-packages\\umap\\umap_.py:1952: UserWarning: n_jobs value 1 overridden to 1 by setting random_state. Use no seed for parallelism.\n",
      "  warn(\n"
     ]
    },
    {
     "name": "stdout",
     "output_type": "stream",
     "text": [
      "Degree 6 Validation MAE: 17.34 ---- "
     ]
    },
    {
     "name": "stderr",
     "output_type": "stream",
     "text": [
      "c:\\Users\\ralph\\Desktop\\Virtual Environments\\ML\\Lib\\site-packages\\umap\\umap_.py:1952: UserWarning: n_jobs value 1 overridden to 1 by setting random_state. Use no seed for parallelism.\n",
      "  warn(\n"
     ]
    },
    {
     "name": "stdout",
     "output_type": "stream",
     "text": [
      "Degree 7 Validation MAE: 20.39 ---- "
     ]
    },
    {
     "name": "stderr",
     "output_type": "stream",
     "text": [
      "c:\\Users\\ralph\\Desktop\\Virtual Environments\\ML\\Lib\\site-packages\\umap\\umap_.py:1952: UserWarning: n_jobs value 1 overridden to 1 by setting random_state. Use no seed for parallelism.\n",
      "  warn(\n"
     ]
    },
    {
     "name": "stdout",
     "output_type": "stream",
     "text": [
      "Degree 8 Validation MAE: 22.19 ---- "
     ]
    },
    {
     "name": "stderr",
     "output_type": "stream",
     "text": [
      "c:\\Users\\ralph\\Desktop\\Virtual Environments\\ML\\Lib\\site-packages\\umap\\umap_.py:1952: UserWarning: n_jobs value 1 overridden to 1 by setting random_state. Use no seed for parallelism.\n",
      "  warn(\n"
     ]
    },
    {
     "name": "stdout",
     "output_type": "stream",
     "text": [
      "Degree 9 Validation MAE: 28.33 ---- "
     ]
    },
    {
     "name": "stderr",
     "output_type": "stream",
     "text": [
      "c:\\Users\\ralph\\Desktop\\Virtual Environments\\ML\\Lib\\site-packages\\umap\\umap_.py:1952: UserWarning: n_jobs value 1 overridden to 1 by setting random_state. Use no seed for parallelism.\n",
      "  warn(\n"
     ]
    },
    {
     "name": "stdout",
     "output_type": "stream",
     "text": [
      "Degree 10 Validation MAE: 20.97 ---- "
     ]
    },
    {
     "name": "stderr",
     "output_type": "stream",
     "text": [
      "c:\\Users\\ralph\\Desktop\\Virtual Environments\\ML\\Lib\\site-packages\\umap\\umap_.py:1952: UserWarning: n_jobs value 1 overridden to 1 by setting random_state. Use no seed for parallelism.\n",
      "  warn(\n",
      "c:\\Users\\ralph\\Desktop\\Virtual Environments\\ML\\Lib\\site-packages\\umap\\umap_.py:1952: UserWarning: n_jobs value 1 overridden to 1 by setting random_state. Use no seed for parallelism.\n",
      "  warn(\n"
     ]
    },
    {
     "name": "stdout",
     "output_type": "stream",
     "text": [
      "Degree 1 Validation MAE: 29.66 ---- "
     ]
    },
    {
     "name": "stderr",
     "output_type": "stream",
     "text": [
      "c:\\Users\\ralph\\Desktop\\Virtual Environments\\ML\\Lib\\site-packages\\umap\\umap_.py:1952: UserWarning: n_jobs value 1 overridden to 1 by setting random_state. Use no seed for parallelism.\n",
      "  warn(\n"
     ]
    },
    {
     "name": "stdout",
     "output_type": "stream",
     "text": [
      "Degree 2 Validation MAE: 22.88 ---- "
     ]
    },
    {
     "name": "stderr",
     "output_type": "stream",
     "text": [
      "c:\\Users\\ralph\\Desktop\\Virtual Environments\\ML\\Lib\\site-packages\\umap\\umap_.py:1952: UserWarning: n_jobs value 1 overridden to 1 by setting random_state. Use no seed for parallelism.\n",
      "  warn(\n"
     ]
    },
    {
     "name": "stdout",
     "output_type": "stream",
     "text": [
      "Degree 3 Validation MAE: 20.02 ---- "
     ]
    },
    {
     "name": "stderr",
     "output_type": "stream",
     "text": [
      "c:\\Users\\ralph\\Desktop\\Virtual Environments\\ML\\Lib\\site-packages\\umap\\umap_.py:1952: UserWarning: n_jobs value 1 overridden to 1 by setting random_state. Use no seed for parallelism.\n",
      "  warn(\n"
     ]
    },
    {
     "name": "stdout",
     "output_type": "stream",
     "text": [
      "Degree 4 Validation MAE: 18.81 ---- "
     ]
    },
    {
     "name": "stderr",
     "output_type": "stream",
     "text": [
      "c:\\Users\\ralph\\Desktop\\Virtual Environments\\ML\\Lib\\site-packages\\umap\\umap_.py:1952: UserWarning: n_jobs value 1 overridden to 1 by setting random_state. Use no seed for parallelism.\n",
      "  warn(\n"
     ]
    },
    {
     "name": "stdout",
     "output_type": "stream",
     "text": [
      "Degree 5 Validation MAE: 27.42 ---- "
     ]
    },
    {
     "name": "stderr",
     "output_type": "stream",
     "text": [
      "c:\\Users\\ralph\\Desktop\\Virtual Environments\\ML\\Lib\\site-packages\\umap\\umap_.py:1952: UserWarning: n_jobs value 1 overridden to 1 by setting random_state. Use no seed for parallelism.\n",
      "  warn(\n"
     ]
    },
    {
     "name": "stdout",
     "output_type": "stream",
     "text": [
      "Degree 6 Validation MAE: 21.27 ---- "
     ]
    },
    {
     "name": "stderr",
     "output_type": "stream",
     "text": [
      "c:\\Users\\ralph\\Desktop\\Virtual Environments\\ML\\Lib\\site-packages\\umap\\umap_.py:1952: UserWarning: n_jobs value 1 overridden to 1 by setting random_state. Use no seed for parallelism.\n",
      "  warn(\n"
     ]
    },
    {
     "name": "stdout",
     "output_type": "stream",
     "text": [
      "Degree 7 Validation MAE: 24.33 ---- "
     ]
    },
    {
     "name": "stderr",
     "output_type": "stream",
     "text": [
      "c:\\Users\\ralph\\Desktop\\Virtual Environments\\ML\\Lib\\site-packages\\umap\\umap_.py:1952: UserWarning: n_jobs value 1 overridden to 1 by setting random_state. Use no seed for parallelism.\n",
      "  warn(\n"
     ]
    },
    {
     "name": "stdout",
     "output_type": "stream",
     "text": [
      "Degree 8 Validation MAE: 22.11 ---- "
     ]
    },
    {
     "name": "stderr",
     "output_type": "stream",
     "text": [
      "c:\\Users\\ralph\\Desktop\\Virtual Environments\\ML\\Lib\\site-packages\\umap\\umap_.py:1952: UserWarning: n_jobs value 1 overridden to 1 by setting random_state. Use no seed for parallelism.\n",
      "  warn(\n"
     ]
    },
    {
     "name": "stdout",
     "output_type": "stream",
     "text": [
      "Degree 9 Validation MAE: 28.99 ---- "
     ]
    },
    {
     "name": "stderr",
     "output_type": "stream",
     "text": [
      "c:\\Users\\ralph\\Desktop\\Virtual Environments\\ML\\Lib\\site-packages\\umap\\umap_.py:1952: UserWarning: n_jobs value 1 overridden to 1 by setting random_state. Use no seed for parallelism.\n",
      "  warn(\n"
     ]
    },
    {
     "name": "stdout",
     "output_type": "stream",
     "text": [
      "Degree 10 Validation MAE: 20.12 ---- "
     ]
    },
    {
     "name": "stderr",
     "output_type": "stream",
     "text": [
      "c:\\Users\\ralph\\Desktop\\Virtual Environments\\ML\\Lib\\site-packages\\umap\\umap_.py:1952: UserWarning: n_jobs value 1 overridden to 1 by setting random_state. Use no seed for parallelism.\n",
      "  warn(\n",
      "c:\\Users\\ralph\\Desktop\\Virtual Environments\\ML\\Lib\\site-packages\\umap\\umap_.py:1952: UserWarning: n_jobs value 1 overridden to 1 by setting random_state. Use no seed for parallelism.\n",
      "  warn(\n"
     ]
    },
    {
     "name": "stdout",
     "output_type": "stream",
     "text": [
      "Degree 1 Validation MAE: 27.33 ---- "
     ]
    },
    {
     "name": "stderr",
     "output_type": "stream",
     "text": [
      "c:\\Users\\ralph\\Desktop\\Virtual Environments\\ML\\Lib\\site-packages\\umap\\umap_.py:1952: UserWarning: n_jobs value 1 overridden to 1 by setting random_state. Use no seed for parallelism.\n",
      "  warn(\n"
     ]
    },
    {
     "name": "stdout",
     "output_type": "stream",
     "text": [
      "Degree 2 Validation MAE: 24.77 ---- "
     ]
    },
    {
     "name": "stderr",
     "output_type": "stream",
     "text": [
      "c:\\Users\\ralph\\Desktop\\Virtual Environments\\ML\\Lib\\site-packages\\umap\\umap_.py:1952: UserWarning: n_jobs value 1 overridden to 1 by setting random_state. Use no seed for parallelism.\n",
      "  warn(\n"
     ]
    },
    {
     "name": "stdout",
     "output_type": "stream",
     "text": [
      "Degree 3 Validation MAE: 24.49 ---- "
     ]
    },
    {
     "name": "stderr",
     "output_type": "stream",
     "text": [
      "c:\\Users\\ralph\\Desktop\\Virtual Environments\\ML\\Lib\\site-packages\\umap\\umap_.py:1952: UserWarning: n_jobs value 1 overridden to 1 by setting random_state. Use no seed for parallelism.\n",
      "  warn(\n"
     ]
    },
    {
     "name": "stdout",
     "output_type": "stream",
     "text": [
      "Degree 4 Validation MAE: 21.29 ---- "
     ]
    },
    {
     "name": "stderr",
     "output_type": "stream",
     "text": [
      "c:\\Users\\ralph\\Desktop\\Virtual Environments\\ML\\Lib\\site-packages\\umap\\umap_.py:1952: UserWarning: n_jobs value 1 overridden to 1 by setting random_state. Use no seed for parallelism.\n",
      "  warn(\n"
     ]
    },
    {
     "name": "stdout",
     "output_type": "stream",
     "text": [
      "Degree 5 Validation MAE: 28.2 ---- "
     ]
    },
    {
     "name": "stderr",
     "output_type": "stream",
     "text": [
      "c:\\Users\\ralph\\Desktop\\Virtual Environments\\ML\\Lib\\site-packages\\umap\\umap_.py:1952: UserWarning: n_jobs value 1 overridden to 1 by setting random_state. Use no seed for parallelism.\n",
      "  warn(\n"
     ]
    },
    {
     "name": "stdout",
     "output_type": "stream",
     "text": [
      "Degree 6 Validation MAE: 18.11 ---- "
     ]
    },
    {
     "name": "stderr",
     "output_type": "stream",
     "text": [
      "c:\\Users\\ralph\\Desktop\\Virtual Environments\\ML\\Lib\\site-packages\\umap\\umap_.py:1952: UserWarning: n_jobs value 1 overridden to 1 by setting random_state. Use no seed for parallelism.\n",
      "  warn(\n"
     ]
    },
    {
     "name": "stdout",
     "output_type": "stream",
     "text": [
      "Degree 7 Validation MAE: 14.05 ---- "
     ]
    },
    {
     "name": "stderr",
     "output_type": "stream",
     "text": [
      "c:\\Users\\ralph\\Desktop\\Virtual Environments\\ML\\Lib\\site-packages\\umap\\umap_.py:1952: UserWarning: n_jobs value 1 overridden to 1 by setting random_state. Use no seed for parallelism.\n",
      "  warn(\n"
     ]
    },
    {
     "name": "stdout",
     "output_type": "stream",
     "text": [
      "Degree 8 Validation MAE: 18.59 ---- "
     ]
    },
    {
     "name": "stderr",
     "output_type": "stream",
     "text": [
      "c:\\Users\\ralph\\Desktop\\Virtual Environments\\ML\\Lib\\site-packages\\umap\\umap_.py:1952: UserWarning: n_jobs value 1 overridden to 1 by setting random_state. Use no seed for parallelism.\n",
      "  warn(\n"
     ]
    },
    {
     "name": "stdout",
     "output_type": "stream",
     "text": [
      "Degree 9 Validation MAE: 28.29 ---- "
     ]
    },
    {
     "name": "stderr",
     "output_type": "stream",
     "text": [
      "c:\\Users\\ralph\\Desktop\\Virtual Environments\\ML\\Lib\\site-packages\\umap\\umap_.py:1952: UserWarning: n_jobs value 1 overridden to 1 by setting random_state. Use no seed for parallelism.\n",
      "  warn(\n"
     ]
    },
    {
     "name": "stdout",
     "output_type": "stream",
     "text": [
      "Degree 10 Validation MAE: 19.05 ---- "
     ]
    },
    {
     "name": "stderr",
     "output_type": "stream",
     "text": [
      "c:\\Users\\ralph\\Desktop\\Virtual Environments\\ML\\Lib\\site-packages\\umap\\umap_.py:1952: UserWarning: n_jobs value 1 overridden to 1 by setting random_state. Use no seed for parallelism.\n",
      "  warn(\n",
      "c:\\Users\\ralph\\Desktop\\Virtual Environments\\ML\\Lib\\site-packages\\umap\\umap_.py:1952: UserWarning: n_jobs value 1 overridden to 1 by setting random_state. Use no seed for parallelism.\n",
      "  warn(\n"
     ]
    },
    {
     "name": "stdout",
     "output_type": "stream",
     "text": [
      "Degree 1 Validation MAE: 25.77 ---- Degree 2 Validation MAE: 17.17 ---- "
     ]
    },
    {
     "name": "stderr",
     "output_type": "stream",
     "text": [
      "c:\\Users\\ralph\\Desktop\\Virtual Environments\\ML\\Lib\\site-packages\\umap\\umap_.py:1952: UserWarning: n_jobs value 1 overridden to 1 by setting random_state. Use no seed for parallelism.\n",
      "  warn(\n",
      "c:\\Users\\ralph\\Desktop\\Virtual Environments\\ML\\Lib\\site-packages\\umap\\umap_.py:1952: UserWarning: n_jobs value 1 overridden to 1 by setting random_state. Use no seed for parallelism.\n",
      "  warn(\n"
     ]
    },
    {
     "name": "stdout",
     "output_type": "stream",
     "text": [
      "Degree 3 Validation MAE: 31.19 ---- "
     ]
    },
    {
     "name": "stderr",
     "output_type": "stream",
     "text": [
      "c:\\Users\\ralph\\Desktop\\Virtual Environments\\ML\\Lib\\site-packages\\umap\\umap_.py:1952: UserWarning: n_jobs value 1 overridden to 1 by setting random_state. Use no seed for parallelism.\n",
      "  warn(\n"
     ]
    },
    {
     "name": "stdout",
     "output_type": "stream",
     "text": [
      "Degree 4 Validation MAE: 18.7 ---- "
     ]
    },
    {
     "name": "stderr",
     "output_type": "stream",
     "text": [
      "c:\\Users\\ralph\\Desktop\\Virtual Environments\\ML\\Lib\\site-packages\\umap\\umap_.py:1952: UserWarning: n_jobs value 1 overridden to 1 by setting random_state. Use no seed for parallelism.\n",
      "  warn(\n"
     ]
    },
    {
     "name": "stdout",
     "output_type": "stream",
     "text": [
      "Degree 5 Validation MAE: 21.39 ---- "
     ]
    },
    {
     "name": "stderr",
     "output_type": "stream",
     "text": [
      "c:\\Users\\ralph\\Desktop\\Virtual Environments\\ML\\Lib\\site-packages\\umap\\umap_.py:1952: UserWarning: n_jobs value 1 overridden to 1 by setting random_state. Use no seed for parallelism.\n",
      "  warn(\n"
     ]
    },
    {
     "name": "stdout",
     "output_type": "stream",
     "text": [
      "Degree 6 Validation MAE: 20.77 ---- "
     ]
    },
    {
     "name": "stderr",
     "output_type": "stream",
     "text": [
      "c:\\Users\\ralph\\Desktop\\Virtual Environments\\ML\\Lib\\site-packages\\umap\\umap_.py:1952: UserWarning: n_jobs value 1 overridden to 1 by setting random_state. Use no seed for parallelism.\n",
      "  warn(\n"
     ]
    },
    {
     "name": "stdout",
     "output_type": "stream",
     "text": [
      "Degree 7 Validation MAE: 18.3 ---- "
     ]
    },
    {
     "name": "stderr",
     "output_type": "stream",
     "text": [
      "c:\\Users\\ralph\\Desktop\\Virtual Environments\\ML\\Lib\\site-packages\\umap\\umap_.py:1952: UserWarning: n_jobs value 1 overridden to 1 by setting random_state. Use no seed for parallelism.\n",
      "  warn(\n"
     ]
    },
    {
     "name": "stdout",
     "output_type": "stream",
     "text": [
      "Degree 8 Validation MAE: 21.89 ---- "
     ]
    },
    {
     "name": "stderr",
     "output_type": "stream",
     "text": [
      "c:\\Users\\ralph\\Desktop\\Virtual Environments\\ML\\Lib\\site-packages\\umap\\umap_.py:1952: UserWarning: n_jobs value 1 overridden to 1 by setting random_state. Use no seed for parallelism.\n",
      "  warn(\n"
     ]
    },
    {
     "name": "stdout",
     "output_type": "stream",
     "text": [
      "Degree 9 Validation MAE: 26.37 ---- "
     ]
    },
    {
     "name": "stderr",
     "output_type": "stream",
     "text": [
      "c:\\Users\\ralph\\Desktop\\Virtual Environments\\ML\\Lib\\site-packages\\umap\\umap_.py:1952: UserWarning: n_jobs value 1 overridden to 1 by setting random_state. Use no seed for parallelism.\n",
      "  warn(\n"
     ]
    },
    {
     "name": "stdout",
     "output_type": "stream",
     "text": [
      "Degree 10 Validation MAE: 17.82 ---- "
     ]
    },
    {
     "name": "stderr",
     "output_type": "stream",
     "text": [
      "c:\\Users\\ralph\\Desktop\\Virtual Environments\\ML\\Lib\\site-packages\\umap\\umap_.py:1952: UserWarning: n_jobs value 1 overridden to 1 by setting random_state. Use no seed for parallelism.\n",
      "  warn(\n"
     ]
    },
    {
     "name": "stdout",
     "output_type": "stream",
     "text": [
      "\n",
      "Summary of outer folds:\n",
      "Fold 1: Best Degree of 7, Validation MAE = 16.1972, Test MAE = 26.0962\n",
      "Fold 2: Best Degree of 6, Validation MAE = 17.3428, Test MAE = 19.9876\n",
      "Fold 3: Best Degree of 4, Validation MAE = 18.8075, Test MAE = 18.8305\n",
      "Fold 4: Best Degree of 7, Validation MAE = 14.0483, Test MAE = 23.5086\n",
      "Fold 5: Best Degree of 2, Validation MAE = 17.1704, Test MAE = 24.8661\n",
      "\n",
      "Average Test MAE: 22.6578\n"
     ]
    }
   ],
   "source": [
    "num_splits = 5\n",
    "kf = KFold(n_splits=num_splits, shuffle=True, random_state=1)\n",
    "svr_outer = SVR(C=3, gamma=0.1, kernel='rbf')\n",
    "svr_inner = SVR(C=3, gamma=0.1, kernel='rbf')\n",
    "\n",
    "n_dimensions_range = 10 # Set hyperparameter range of values\n",
    "kf_inner = KFold(n_splits=n_dimensions_range, shuffle=True, random_state=1) # Create kfold for inner loop\n",
    "\n",
    "best_n_dimensions_list = []   # Best degrees resulting from inner fold\n",
    "best_val_mae_list = []  # For inner fold\n",
    "test_mae_list = [] # For outer fold\n",
    "\n",
    "for train_index, test_index in kf.split(X_umap_mri):\n",
    "    X_train, X_test = X_umap_mri[train_index],X_umap_mri[test_index]\n",
    "    y_train, y_test = rgr_y.iloc[train_index], rgr_y.iloc[test_index]\n",
    "\n",
    "    best_n_dimensions = 1\n",
    "    best_val_mae = np.inf\n",
    "\n",
    "    degree = 1\n",
    "    for train_index_inner, val_index in kf_inner.split(X_train):\n",
    "        X_train_inner, X_val = X_train[train_index_inner],  X_train[val_index]\n",
    "        y_train_inner, y_val = y_train.iloc[train_index_inner],  y_train.iloc[val_index]\n",
    "\n",
    "        # train model with x_train_inner and y_train_inner with n dimensions\n",
    "        umap_inner = umap.UMAP(n_components=degree, random_state=42)\n",
    "\n",
    "        # Create the pure and interaction terms of degree n\n",
    "        X_umap_train_inner = umap_inner.fit_transform(X_train_inner[:,11:])\n",
    "        X_umap_train_inner = np.c_[X_train_inner[:,0:11], X_umap_train_inner]\n",
    "        X_umap_val = umap_inner.fit_transform(X_val[:,11:])\n",
    "        X_umap_val = np.c_[X_val[:,0:11], X_umap_val]\n",
    "\n",
    "        svr_inner.fit(X_umap_train_inner, y_train_inner)\n",
    "\n",
    "        # validate model on validation data and get MAE\n",
    "        y_pred_inner = svr_inner.predict(X_umap_val)\n",
    "        mae = mean_absolute_error(y_val, y_pred_inner)\n",
    "        print(f\"Degree {degree} Validation MAE: {mae:.4}\", end=\" ---- \")\n",
    "\n",
    "        # if MAE is best so far, save degree and MAE\n",
    "        if mae < best_val_mae:\n",
    "            best_val_mae = mae\n",
    "            best_degree = degree\n",
    "\n",
    "        degree += 1\n",
    "    \n",
    "    best_n_dimensions_list.append(best_degree)\n",
    "    best_val_mae_list.append(best_val_mae)\n",
    "\n",
    "    umap_outer = umap.UMAP(n_components=best_degree, random_state=42)\n",
    "    X_train_umap = umap_outer.fit_transform(X_train[:,11:])\n",
    "    X_train_umap = np.c_[X_train[:,0:11], X_train_umap]\n",
    "    X_test_umap = umap_outer.fit_transform(X_test[:,11:])\n",
    "    X_test_umap = np.c_[X_test[:,0:11], X_test_umap]\n",
    "    \n",
    "    svr_outer.fit(X_train_umap, y_train)\n",
    "\n",
    "    y_pred_test = svr_outer.predict(X_test_umap)\n",
    "    test_mae = mean_absolute_error(y_test, y_pred_test)\n",
    "    test_mae_list.append(test_mae)\n",
    "\n",
    "print(\"\\nSummary of outer folds:\")\n",
    "for i in range(num_splits):\n",
    "    print(f\"Fold {i+1}: Best Degree of {best_n_dimensions_list[i]}, Validation MAE = {best_val_mae_list[i]:.4f}, Test MAE = {test_mae_list[i]:.4f}\")\n",
    "\n",
    "print(f\"\\nAverage Test MAE: {np.mean(test_mae_list):.4f}\")\n"
   ]
  },
  {
   "cell_type": "markdown",
   "metadata": {},
   "source": [
    "## Nested K-Fold Validation: Number of Neighbours"
   ]
  },
  {
   "cell_type": "code",
   "execution_count": 21,
   "metadata": {},
   "outputs": [
    {
     "name": "stderr",
     "output_type": "stream",
     "text": [
      "c:\\Users\\ralph\\Desktop\\Virtual Environments\\ML\\Lib\\site-packages\\umap\\umap_.py:1952: UserWarning: n_jobs value 1 overridden to 1 by setting random_state. Use no seed for parallelism.\n",
      "  warn(\n"
     ]
    },
    {
     "name": "stdout",
     "output_type": "stream",
     "text": [
      "n_neighbours 5.0 Validation MAE: 28.09 ---- n_neighbours 5.0 Validation MAE: 24.84 ---- "
     ]
    },
    {
     "name": "stderr",
     "output_type": "stream",
     "text": [
      "c:\\Users\\ralph\\Desktop\\Virtual Environments\\ML\\Lib\\site-packages\\umap\\umap_.py:1952: UserWarning: n_jobs value 1 overridden to 1 by setting random_state. Use no seed for parallelism.\n",
      "  warn(\n",
      "c:\\Users\\ralph\\Desktop\\Virtual Environments\\ML\\Lib\\site-packages\\umap\\umap_.py:1952: UserWarning: n_jobs value 1 overridden to 1 by setting random_state. Use no seed for parallelism.\n",
      "  warn(\n"
     ]
    },
    {
     "name": "stdout",
     "output_type": "stream",
     "text": [
      "n_neighbours 5.0 Validation MAE: 24.09 ---- n_neighbours 5.0 Validation MAE: 18.32 ---- "
     ]
    },
    {
     "name": "stderr",
     "output_type": "stream",
     "text": [
      "c:\\Users\\ralph\\Desktop\\Virtual Environments\\ML\\Lib\\site-packages\\umap\\umap_.py:1952: UserWarning: n_jobs value 1 overridden to 1 by setting random_state. Use no seed for parallelism.\n",
      "  warn(\n",
      "c:\\Users\\ralph\\Desktop\\Virtual Environments\\ML\\Lib\\site-packages\\umap\\umap_.py:1952: UserWarning: n_jobs value 1 overridden to 1 by setting random_state. Use no seed for parallelism.\n",
      "  warn(\n"
     ]
    },
    {
     "name": "stdout",
     "output_type": "stream",
     "text": [
      "n_neighbours 5.0 Validation MAE: 24.08 ---- n_neighbours 5.0 Validation MAE: 17.01 ---- "
     ]
    },
    {
     "name": "stderr",
     "output_type": "stream",
     "text": [
      "c:\\Users\\ralph\\Desktop\\Virtual Environments\\ML\\Lib\\site-packages\\umap\\umap_.py:1952: UserWarning: n_jobs value 1 overridden to 1 by setting random_state. Use no seed for parallelism.\n",
      "  warn(\n",
      "c:\\Users\\ralph\\Desktop\\Virtual Environments\\ML\\Lib\\site-packages\\umap\\umap_.py:1952: UserWarning: n_jobs value 1 overridden to 1 by setting random_state. Use no seed for parallelism.\n",
      "  warn(\n",
      "c:\\Users\\ralph\\Desktop\\Virtual Environments\\ML\\Lib\\site-packages\\umap\\umap_.py:1952: UserWarning: n_jobs value 1 overridden to 1 by setting random_state. Use no seed for parallelism.\n",
      "  warn(\n",
      "c:\\Users\\ralph\\Desktop\\Virtual Environments\\ML\\Lib\\site-packages\\umap\\umap_.py:1952: UserWarning: n_jobs value 1 overridden to 1 by setting random_state. Use no seed for parallelism.\n",
      "  warn(\n"
     ]
    },
    {
     "name": "stdout",
     "output_type": "stream",
     "text": [
      "n_neighbours 5.0 Validation MAE: 28.21 ---- n_neighbours 5.0 Validation MAE: 18.6 ---- "
     ]
    },
    {
     "name": "stderr",
     "output_type": "stream",
     "text": [
      "c:\\Users\\ralph\\Desktop\\Virtual Environments\\ML\\Lib\\site-packages\\umap\\umap_.py:1952: UserWarning: n_jobs value 1 overridden to 1 by setting random_state. Use no seed for parallelism.\n",
      "  warn(\n",
      "c:\\Users\\ralph\\Desktop\\Virtual Environments\\ML\\Lib\\site-packages\\umap\\umap_.py:1952: UserWarning: n_jobs value 1 overridden to 1 by setting random_state. Use no seed for parallelism.\n",
      "  warn(\n"
     ]
    },
    {
     "name": "stdout",
     "output_type": "stream",
     "text": [
      "n_neighbours 5.0 Validation MAE: 30.47 ---- n_neighbours 5.0 Validation MAE: 19.03 ---- "
     ]
    },
    {
     "name": "stderr",
     "output_type": "stream",
     "text": [
      "c:\\Users\\ralph\\Desktop\\Virtual Environments\\ML\\Lib\\site-packages\\umap\\umap_.py:1952: UserWarning: n_jobs value 1 overridden to 1 by setting random_state. Use no seed for parallelism.\n",
      "  warn(\n",
      "c:\\Users\\ralph\\Desktop\\Virtual Environments\\ML\\Lib\\site-packages\\umap\\umap_.py:1952: UserWarning: n_jobs value 1 overridden to 1 by setting random_state. Use no seed for parallelism.\n",
      "  warn(\n"
     ]
    },
    {
     "name": "stdout",
     "output_type": "stream",
     "text": [
      "n_neighbours 5.0 Validation MAE: 24.64 ---- n_neighbours 5.0 Validation MAE: 23.94 ---- "
     ]
    },
    {
     "name": "stderr",
     "output_type": "stream",
     "text": [
      "c:\\Users\\ralph\\Desktop\\Virtual Environments\\ML\\Lib\\site-packages\\umap\\umap_.py:1952: UserWarning: n_jobs value 1 overridden to 1 by setting random_state. Use no seed for parallelism.\n",
      "  warn(\n",
      "c:\\Users\\ralph\\Desktop\\Virtual Environments\\ML\\Lib\\site-packages\\umap\\umap_.py:1952: UserWarning: n_jobs value 1 overridden to 1 by setting random_state. Use no seed for parallelism.\n",
      "  warn(\n"
     ]
    },
    {
     "name": "stdout",
     "output_type": "stream",
     "text": [
      "n_neighbours 5.0 Validation MAE: 27.59 ---- n_neighbours 5.0 Validation MAE: 21.03 ---- "
     ]
    },
    {
     "name": "stderr",
     "output_type": "stream",
     "text": [
      "c:\\Users\\ralph\\Desktop\\Virtual Environments\\ML\\Lib\\site-packages\\umap\\umap_.py:1952: UserWarning: n_jobs value 1 overridden to 1 by setting random_state. Use no seed for parallelism.\n",
      "  warn(\n",
      "c:\\Users\\ralph\\Desktop\\Virtual Environments\\ML\\Lib\\site-packages\\umap\\umap_.py:1952: UserWarning: n_jobs value 1 overridden to 1 by setting random_state. Use no seed for parallelism.\n",
      "  warn(\n"
     ]
    },
    {
     "name": "stdout",
     "output_type": "stream",
     "text": [
      "n_neighbours 5.0 Validation MAE: 23.97 ---- n_neighbours 5.0 Validation MAE: 18.6 ---- "
     ]
    },
    {
     "name": "stderr",
     "output_type": "stream",
     "text": [
      "c:\\Users\\ralph\\Desktop\\Virtual Environments\\ML\\Lib\\site-packages\\umap\\umap_.py:1952: UserWarning: n_jobs value 1 overridden to 1 by setting random_state. Use no seed for parallelism.\n",
      "  warn(\n",
      "c:\\Users\\ralph\\Desktop\\Virtual Environments\\ML\\Lib\\site-packages\\umap\\umap_.py:1952: UserWarning: n_jobs value 1 overridden to 1 by setting random_state. Use no seed for parallelism.\n",
      "  warn(\n"
     ]
    },
    {
     "name": "stdout",
     "output_type": "stream",
     "text": [
      "n_neighbours 5.0 Validation MAE: 27.68 ---- n_neighbours 5.0 Validation MAE: 22.43 ---- "
     ]
    },
    {
     "name": "stderr",
     "output_type": "stream",
     "text": [
      "c:\\Users\\ralph\\Desktop\\Virtual Environments\\ML\\Lib\\site-packages\\umap\\umap_.py:1952: UserWarning: n_jobs value 1 overridden to 1 by setting random_state. Use no seed for parallelism.\n",
      "  warn(\n",
      "c:\\Users\\ralph\\Desktop\\Virtual Environments\\ML\\Lib\\site-packages\\umap\\umap_.py:1952: UserWarning: n_jobs value 1 overridden to 1 by setting random_state. Use no seed for parallelism.\n",
      "  warn(\n",
      "c:\\Users\\ralph\\Desktop\\Virtual Environments\\ML\\Lib\\site-packages\\umap\\umap_.py:1952: UserWarning: n_jobs value 1 overridden to 1 by setting random_state. Use no seed for parallelism.\n",
      "  warn(\n",
      "c:\\Users\\ralph\\Desktop\\Virtual Environments\\ML\\Lib\\site-packages\\umap\\umap_.py:1952: UserWarning: n_jobs value 1 overridden to 1 by setting random_state. Use no seed for parallelism.\n",
      "  warn(\n"
     ]
    },
    {
     "name": "stdout",
     "output_type": "stream",
     "text": [
      "n_neighbours 5.0 Validation MAE: 27.54 ---- n_neighbours 5.0 Validation MAE: 21.57 ---- "
     ]
    },
    {
     "name": "stderr",
     "output_type": "stream",
     "text": [
      "c:\\Users\\ralph\\Desktop\\Virtual Environments\\ML\\Lib\\site-packages\\umap\\umap_.py:1952: UserWarning: n_jobs value 1 overridden to 1 by setting random_state. Use no seed for parallelism.\n",
      "  warn(\n",
      "c:\\Users\\ralph\\Desktop\\Virtual Environments\\ML\\Lib\\site-packages\\umap\\umap_.py:1952: UserWarning: n_jobs value 1 overridden to 1 by setting random_state. Use no seed for parallelism.\n",
      "  warn(\n"
     ]
    },
    {
     "name": "stdout",
     "output_type": "stream",
     "text": [
      "n_neighbours 5.0 Validation MAE: 24.64 ---- n_neighbours 5.0 Validation MAE: 17.39 ---- "
     ]
    },
    {
     "name": "stderr",
     "output_type": "stream",
     "text": [
      "c:\\Users\\ralph\\Desktop\\Virtual Environments\\ML\\Lib\\site-packages\\umap\\umap_.py:1952: UserWarning: n_jobs value 1 overridden to 1 by setting random_state. Use no seed for parallelism.\n",
      "  warn(\n",
      "c:\\Users\\ralph\\Desktop\\Virtual Environments\\ML\\Lib\\site-packages\\umap\\umap_.py:1952: UserWarning: n_jobs value 1 overridden to 1 by setting random_state. Use no seed for parallelism.\n",
      "  warn(\n"
     ]
    },
    {
     "name": "stdout",
     "output_type": "stream",
     "text": [
      "n_neighbours 5.0 Validation MAE: 21.5 ---- n_neighbours 5.0 Validation MAE: 22.23 ---- "
     ]
    },
    {
     "name": "stderr",
     "output_type": "stream",
     "text": [
      "c:\\Users\\ralph\\Desktop\\Virtual Environments\\ML\\Lib\\site-packages\\umap\\umap_.py:1952: UserWarning: n_jobs value 1 overridden to 1 by setting random_state. Use no seed for parallelism.\n",
      "  warn(\n",
      "c:\\Users\\ralph\\Desktop\\Virtual Environments\\ML\\Lib\\site-packages\\umap\\umap_.py:1952: UserWarning: n_jobs value 1 overridden to 1 by setting random_state. Use no seed for parallelism.\n",
      "  warn(\n",
      "c:\\Users\\ralph\\Desktop\\Virtual Environments\\ML\\Lib\\site-packages\\umap\\umap_.py:1952: UserWarning: n_jobs value 1 overridden to 1 by setting random_state. Use no seed for parallelism.\n",
      "  warn(\n"
     ]
    },
    {
     "name": "stdout",
     "output_type": "stream",
     "text": [
      "n_neighbours 5.0 Validation MAE: 22.47 ---- n_neighbours 5.0 Validation MAE: 24.73 ---- "
     ]
    },
    {
     "name": "stderr",
     "output_type": "stream",
     "text": [
      "c:\\Users\\ralph\\Desktop\\Virtual Environments\\ML\\Lib\\site-packages\\umap\\umap_.py:1952: UserWarning: n_jobs value 1 overridden to 1 by setting random_state. Use no seed for parallelism.\n",
      "  warn(\n",
      "c:\\Users\\ralph\\Desktop\\Virtual Environments\\ML\\Lib\\site-packages\\umap\\umap_.py:1952: UserWarning: n_jobs value 1 overridden to 1 by setting random_state. Use no seed for parallelism.\n",
      "  warn(\n"
     ]
    },
    {
     "name": "stdout",
     "output_type": "stream",
     "text": [
      "n_neighbours 5.0 Validation MAE: 20.02 ---- n_neighbours 5.0 Validation MAE: 19.72 ---- "
     ]
    },
    {
     "name": "stderr",
     "output_type": "stream",
     "text": [
      "c:\\Users\\ralph\\Desktop\\Virtual Environments\\ML\\Lib\\site-packages\\umap\\umap_.py:1952: UserWarning: n_jobs value 1 overridden to 1 by setting random_state. Use no seed for parallelism.\n",
      "  warn(\n"
     ]
    },
    {
     "name": "stdout",
     "output_type": "stream",
     "text": [
      "n_neighbours 5.0 Validation MAE: 24.98 ---- n_neighbours 5.0 Validation MAE: 19.09 ---- "
     ]
    },
    {
     "name": "stderr",
     "output_type": "stream",
     "text": [
      "c:\\Users\\ralph\\Desktop\\Virtual Environments\\ML\\Lib\\site-packages\\umap\\umap_.py:1952: UserWarning: n_jobs value 1 overridden to 1 by setting random_state. Use no seed for parallelism.\n",
      "  warn(\n",
      "c:\\Users\\ralph\\Desktop\\Virtual Environments\\ML\\Lib\\site-packages\\umap\\umap_.py:1952: UserWarning: n_jobs value 1 overridden to 1 by setting random_state. Use no seed for parallelism.\n",
      "  warn(\n"
     ]
    },
    {
     "name": "stdout",
     "output_type": "stream",
     "text": [
      "\n",
      "Summary of outer folds:\n",
      "Fold 1: Best n_neighbours of 5.0, Validation MAE = 17.0137, Test MAE = 25.6173\n",
      "Fold 2: Best n_neighbours of 5.0, Validation MAE = 18.6017, Test MAE = 20.2662\n",
      "Fold 3: Best n_neighbours of 5.0, Validation MAE = 18.5991, Test MAE = 18.3727\n",
      "Fold 4: Best n_neighbours of 5.0, Validation MAE = 17.3878, Test MAE = 23.6030\n",
      "Fold 5: Best n_neighbours of 5.0, Validation MAE = 19.0910, Test MAE = 25.2664\n",
      "\n",
      "Average Test MAE: 22.6251\n"
     ]
    }
   ],
   "source": [
    "num_splits = 5\n",
    "kf = KFold(n_splits=num_splits, shuffle=True, random_state=1)\n",
    "svr_outer = SVR(C=10, gamma=0.01, kernel='rbf')\n",
    "svr_inner = SVR(C=10, gamma=0.01, kernel='rbf')\n",
    "\n",
    "n_neighbours_range= np.linspace(5, 30, 6) # Set hyperparameter range of values\n",
    "kf_inner = KFold(n_splits=len(n_neighbours_range), shuffle=True, random_state=1) # Create kfold for inner loop\n",
    "\n",
    "best_n_neighbours_list = []   # Best n_neighbours resulting from inner fold\n",
    "best_val_mae_list = []  # For inner fold\n",
    "test_mae_list = [] # For outer fold\n",
    "\n",
    "dimension = 2\n",
    "for train_index, test_index in kf.split(X_umap_mri):\n",
    "    X_train, X_test = X_umap_mri[train_index],X_umap_mri[test_index]\n",
    "    y_train, y_test = rgr_y.iloc[train_index], rgr_y.iloc[test_index]\n",
    "\n",
    "    best_n_neighbours = 1\n",
    "    best_val_mae = np.inf\n",
    "\n",
    "    index = 0\n",
    "    for train_index_inner, val_index in kf_inner.split(X_train):\n",
    "        n_neighbours = n_neighbours_range[index]\n",
    "        X_train_inner, X_val = X_train[train_index_inner],  X_train[val_index]\n",
    "        y_train_inner, y_val = y_train.iloc[train_index_inner],  y_train.iloc[val_index]\n",
    "\n",
    "        # train model with x_train_inner and y_train_inner with n neighbours\n",
    "        umap_inner = umap.UMAP(n_components=dimension, random_state=42, n_neighbors=int(n_neighbours))\n",
    "\n",
    "        # Create the pure and interaction terms of n_neighbours n\n",
    "        X_umap_train_inner = umap_inner.fit_transform(X_train_inner[:,11:])\n",
    "        X_umap_train_inner = np.c_[X_train_inner[:,0:11], X_umap_train_inner]\n",
    "        X_umap_val = umap_inner.fit_transform(X_val[:,11:])\n",
    "        X_umap_val = np.c_[X_val[:,0:11], X_umap_val]\n",
    "\n",
    "        svr_inner.fit(X_umap_train_inner, y_train_inner)\n",
    "\n",
    "        # validate model on validation data and get MAE\n",
    "        y_pred_inner = svr_inner.predict(X_umap_val)\n",
    "        mae = mean_absolute_error(y_val, y_pred_inner)\n",
    "        print(f\"n_neighbours {n_neighbours} Validation MAE: {mae:.4}\", end=\" ---- \")\n",
    "\n",
    "        # if MAE is best so far, save n_neighbours and MAE\n",
    "        if mae < best_val_mae:\n",
    "            best_val_mae = mae\n",
    "            best_n_neighbours = n_neighbours\n",
    "\n",
    "        n_neighbours += 1\n",
    "    \n",
    "    best_n_neighbours_list.append(best_n_neighbours)\n",
    "    best_val_mae_list.append(best_val_mae)\n",
    "\n",
    "    umap_outer = umap.UMAP(n_components=dimension, random_state=42, n_neighbors=int(best_n_neighbours))\n",
    "    X_train_umap = umap_outer.fit_transform(X_train[:,11:])\n",
    "    X_train_umap = np.c_[X_train[:,0:11], X_train_umap]\n",
    "    X_test_umap = umap_outer.fit_transform(X_test[:,11:])\n",
    "    X_test_umap = np.c_[X_test[:,0:11], X_test_umap]\n",
    "    \n",
    "    svr_outer.fit(X_train_umap, y_train)\n",
    "\n",
    "    y_pred_test = svr_outer.predict(X_test_umap)\n",
    "    test_mae = mean_absolute_error(y_test, y_pred_test)\n",
    "    test_mae_list.append(test_mae)\n",
    "\n",
    "print(\"\\nSummary of outer folds:\")\n",
    "for i in range(num_splits):\n",
    "    print(f\"Fold {i+1}: Best n_neighbours of {best_n_neighbours_list[i]}, Validation MAE = {best_val_mae_list[i]:.4f}, Test MAE = {test_mae_list[i]:.4f}\")\n",
    "\n",
    "print(f\"\\nAverage Test MAE: {np.mean(test_mae_list):.4f}\")\n"
   ]
  }
 ],
 "metadata": {
  "kernelspec": {
   "display_name": "ML",
   "language": "python",
   "name": "python3"
  },
  "language_info": {
   "codemirror_mode": {
    "name": "ipython",
    "version": 3
   },
   "file_extension": ".py",
   "mimetype": "text/x-python",
   "name": "python",
   "nbconvert_exporter": "python",
   "pygments_lexer": "ipython3",
   "version": "3.12.7"
  }
 },
 "nbformat": 4,
 "nbformat_minor": 2
}
