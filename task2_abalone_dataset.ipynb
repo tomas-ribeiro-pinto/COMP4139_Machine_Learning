{
 "cells": [
  {
   "cell_type": "code",
   "execution_count": 102,
   "metadata": {},
   "outputs": [],
   "source": [
    "from ucimlrepo import fetch_ucirepo \n",
    "import matplotlib.pyplot as plt\n",
    "import numpy as np\n",
    "import pandas as pd\n",
    "import seaborn as sns\n",
    "from scipy.stats import pearsonr\n",
    "from sklearn.model_selection import train_test_split\n",
    "from sklearn.decomposition import PCA\n",
    "from sklearn.compose import ColumnTransformer\n",
    "\n",
    "from sklearn.preprocessing import StandardScaler, OneHotEncoder, LabelEncoder\n",
    "from sklearn.compose import ColumnTransformer\n",
    "from sklearn.pipeline import Pipeline\n",
    "from sklearn.svm import SVR\n",
    "from sklearn.metrics import mean_squared_error, r2_score\n",
    "\n",
    "from itertools import combinations\n",
    "\n",
    "# fetch dataset \n",
    "abalone_dataset = fetch_ucirepo(id=1) \n",
    "\n",
    "X = abalone_dataset.data.features\n",
    "y = abalone_dataset.data.targets "
   ]
  },
  {
   "cell_type": "code",
   "execution_count": 103,
   "metadata": {},
   "outputs": [
    {
     "data": {
      "text/plain": [
       "((4177, 8), (4177, 1))"
      ]
     },
     "execution_count": 103,
     "metadata": {},
     "output_type": "execute_result"
    }
   ],
   "source": [
    "X.shape, y.shape"
   ]
  },
  {
   "cell_type": "code",
   "execution_count": 104,
   "metadata": {},
   "outputs": [
    {
     "data": {
      "text/html": [
       "<div>\n",
       "<style scoped>\n",
       "    .dataframe tbody tr th:only-of-type {\n",
       "        vertical-align: middle;\n",
       "    }\n",
       "\n",
       "    .dataframe tbody tr th {\n",
       "        vertical-align: top;\n",
       "    }\n",
       "\n",
       "    .dataframe thead th {\n",
       "        text-align: right;\n",
       "    }\n",
       "</style>\n",
       "<table border=\"1\" class=\"dataframe\">\n",
       "  <thead>\n",
       "    <tr style=\"text-align: right;\">\n",
       "      <th></th>\n",
       "      <th>Sex</th>\n",
       "      <th>Length</th>\n",
       "      <th>Diameter</th>\n",
       "      <th>Height</th>\n",
       "      <th>Whole_weight</th>\n",
       "      <th>Shucked_weight</th>\n",
       "      <th>Viscera_weight</th>\n",
       "      <th>Shell_weight</th>\n",
       "    </tr>\n",
       "  </thead>\n",
       "  <tbody>\n",
       "    <tr>\n",
       "      <th>0</th>\n",
       "      <td>M</td>\n",
       "      <td>0.455</td>\n",
       "      <td>0.365</td>\n",
       "      <td>0.095</td>\n",
       "      <td>0.5140</td>\n",
       "      <td>0.2245</td>\n",
       "      <td>0.1010</td>\n",
       "      <td>0.150</td>\n",
       "    </tr>\n",
       "    <tr>\n",
       "      <th>1</th>\n",
       "      <td>M</td>\n",
       "      <td>0.350</td>\n",
       "      <td>0.265</td>\n",
       "      <td>0.090</td>\n",
       "      <td>0.2255</td>\n",
       "      <td>0.0995</td>\n",
       "      <td>0.0485</td>\n",
       "      <td>0.070</td>\n",
       "    </tr>\n",
       "    <tr>\n",
       "      <th>2</th>\n",
       "      <td>F</td>\n",
       "      <td>0.530</td>\n",
       "      <td>0.420</td>\n",
       "      <td>0.135</td>\n",
       "      <td>0.6770</td>\n",
       "      <td>0.2565</td>\n",
       "      <td>0.1415</td>\n",
       "      <td>0.210</td>\n",
       "    </tr>\n",
       "    <tr>\n",
       "      <th>3</th>\n",
       "      <td>M</td>\n",
       "      <td>0.440</td>\n",
       "      <td>0.365</td>\n",
       "      <td>0.125</td>\n",
       "      <td>0.5160</td>\n",
       "      <td>0.2155</td>\n",
       "      <td>0.1140</td>\n",
       "      <td>0.155</td>\n",
       "    </tr>\n",
       "    <tr>\n",
       "      <th>4</th>\n",
       "      <td>I</td>\n",
       "      <td>0.330</td>\n",
       "      <td>0.255</td>\n",
       "      <td>0.080</td>\n",
       "      <td>0.2050</td>\n",
       "      <td>0.0895</td>\n",
       "      <td>0.0395</td>\n",
       "      <td>0.055</td>\n",
       "    </tr>\n",
       "  </tbody>\n",
       "</table>\n",
       "</div>"
      ],
      "text/plain": [
       "  Sex  Length  Diameter  Height  Whole_weight  Shucked_weight  Viscera_weight  \\\n",
       "0   M   0.455     0.365   0.095        0.5140          0.2245          0.1010   \n",
       "1   M   0.350     0.265   0.090        0.2255          0.0995          0.0485   \n",
       "2   F   0.530     0.420   0.135        0.6770          0.2565          0.1415   \n",
       "3   M   0.440     0.365   0.125        0.5160          0.2155          0.1140   \n",
       "4   I   0.330     0.255   0.080        0.2050          0.0895          0.0395   \n",
       "\n",
       "   Shell_weight  \n",
       "0         0.150  \n",
       "1         0.070  \n",
       "2         0.210  \n",
       "3         0.155  \n",
       "4         0.055  "
      ]
     },
     "execution_count": 104,
     "metadata": {},
     "output_type": "execute_result"
    }
   ],
   "source": [
    "X.head()"
   ]
  },
  {
   "cell_type": "code",
   "execution_count": 105,
   "metadata": {},
   "outputs": [
    {
     "data": {
      "text/plain": [
       "Length               Axes(0.125,0.798085;0.168478x0.0819149)\n",
       "Diameter          Axes(0.327174,0.798085;0.168478x0.0819149)\n",
       "Height            Axes(0.529348,0.798085;0.168478x0.0819149)\n",
       "Whole_weight      Axes(0.731522,0.798085;0.168478x0.0819149)\n",
       "Shucked_weight       Axes(0.125,0.699787;0.168478x0.0819149)\n",
       "Viscera_weight    Axes(0.327174,0.699787;0.168478x0.0819149)\n",
       "Shell_weight      Axes(0.529348,0.699787;0.168478x0.0819149)\n",
       "dtype: object"
      ]
     },
     "execution_count": 105,
     "metadata": {},
     "output_type": "execute_result"
    },
    {
     "data": {
      "image/png": "[encoded data removed]",
      "text/plain": [
       "<Figure size 1500x2000 with 32 Axes>"
      ]
     },
     "metadata": {},
     "output_type": "display_data"
    }
   ],
   "source": [
    "data_mean = X.iloc[:, :]\n",
    "data_mean.plot(kind='box', subplots=True, layout=(8,4), sharex=False,\n",
    "sharey=False, fontsize=12, figsize=(15,20))"
   ]
  },
  {
   "cell_type": "markdown",
   "metadata": {},
   "source": [
    "### Encode 'sex' column"
   ]
  },
  {
   "cell_type": "code",
   "execution_count": 106,
   "metadata": {},
   "outputs": [],
   "source": [
    "le = LabelEncoder()\n",
    "data_mean['Sex'] = le.fit_transform(data_mean['Sex'])"
   ]
  },
  {
   "cell_type": "markdown",
   "metadata": {},
   "source": [
    "### Outlier Removal"
   ]
  },
  {
   "cell_type": "code",
   "execution_count": 107,
   "metadata": {},
   "outputs": [
    {
     "name": "stdout",
     "output_type": "stream",
     "text": [
      "Sex: 0 outliers\n",
      "Length: 49 outliers\n",
      "Diameter: 59 outliers\n",
      "Height: 29 outliers\n",
      "Whole_weight: 30 outliers\n",
      "Shucked_weight: 48 outliers\n",
      "Viscera_weight: 26 outliers\n",
      "Shell_weight: 35 outliers\n"
     ]
    }
   ],
   "source": [
    "outlier_indices = set()\n",
    "for column in data_mean.columns:\n",
    "  Q1 = data_mean[column].quantile(0.25)\n",
    "  Q3 = data_mean[column].quantile(0.75)\n",
    "  IQR = Q3 - Q1\n",
    "  \n",
    "  lower_bound = Q1 - 1.5 * IQR\n",
    "  upper_bound = Q3 + 1.5 * IQR\n",
    "  \n",
    "  outliers = data_mean[(data_mean[column] < lower_bound) | (data_mean[column] > upper_bound)].index\n",
    "  outlier_indices.update(outliers)\n",
    "  \n",
    "  outliers_sum = ((data_mean[column] < lower_bound) | (data_mean[column] > upper_bound)).sum()\n",
    "  print(f'{column}: {outliers_sum} outliers')\n",
    "\n",
    "outlier_indices = list(outlier_indices)\n",
    "\n",
    "outlier_rm_x = data_mean.drop(index=outlier_indices)\n",
    "outlier_rm_y = y.drop(index=outlier_indices)"
   ]
  },
  {
   "cell_type": "code",
   "execution_count": 108,
   "metadata": {},
   "outputs": [
    {
     "data": {
      "text/plain": [
       "<Axes: >"
      ]
     },
     "execution_count": 108,
     "metadata": {},
     "output_type": "execute_result"
    },
    {
     "data": {
      "image/png": "[encoded data removed]",
      "text/plain": [
       "<Figure size 2000x800 with 1 Axes>"
      ]
     },
     "metadata": {},
     "output_type": "display_data"
    }
   ],
   "source": [
    "scaler = StandardScaler()\n",
    "Xs = scaler.fit_transform(data_mean)\n",
    "\n",
    "# Print features normalised (Xs)\n",
    "fig,ax=plt.subplots(1,figsize=(20,8))\n",
    "sns.boxplot(data=Xs,ax=ax)"
   ]
  },
  {
   "cell_type": "code",
   "execution_count": 109,
   "metadata": {},
   "outputs": [],
   "source": [
    "# use outlier removed data\n",
    "# Xs_train, Xs_test, y_train, y_test = train_test_split(outlier_rm_x, outlier_rm_y.values.ravel(), test_size=0.2, random_state=1)\n",
    "\n",
    "# use original data\n",
    "Xs_train, Xs_test, y_train, y_test = train_test_split(Xs, y.values.ravel(), test_size=0.1, random_state=1)"
   ]
  },
  {
   "cell_type": "markdown",
   "metadata": {},
   "source": [
    "### Base SVM regression with arbitrary hyper-params"
   ]
  },
  {
   "cell_type": "code",
   "execution_count": 110,
   "metadata": {},
   "outputs": [
    {
     "name": "stdout",
     "output_type": "stream",
     "text": [
      "Test MSE:  4.5360961266836\n",
      "R-squared: 0.5364534958262792\n"
     ]
    }
   ],
   "source": [
    "from sklearn.svm import SVR\n",
    "\n",
    "svr_model = SVR(C=1.0, kernel='rbf', degree=3, gamma='auto')\n",
    "svr_model.fit(Xs_train, y_train.ravel())\n",
    "\n",
    "# Step 5: Make predictions and evaluate the model\n",
    "y_pred = svr_model.predict(Xs_test)\n",
    "r2 = r2_score(y_test, y_pred)\n",
    "print('Test MSE: ', mean_squared_error(y_test, y_pred))\n",
    "print(f\"R-squared: {r2}\")"
   ]
  },
  {
   "cell_type": "markdown",
   "metadata": {},
   "source": [
    "### K-fold cross validation"
   ]
  },
  {
   "cell_type": "code",
   "execution_count": 111,
   "metadata": {},
   "outputs": [
    {
     "name": "stdout",
     "output_type": "stream",
     "text": [
      "[4.75654429 5.68001554 4.2921821  4.97440073 4.41711498]\n",
      "Average score and standard deviation: (482.41 +- 21.985)%\n",
      "-----------------------------\n",
      "RMSE scores: [2.18095032 2.38327832 2.07175821 2.23033646 2.10169336]\n",
      "RMSE: 2.193603334640974\n"
     ]
    }
   ],
   "source": [
    "### K-Fold Cross Validation\n",
    "from sklearn.model_selection import KFold, cross_val_score\n",
    "\n",
    "n_splits = 5\n",
    "scores = cross_val_score(svr_model, Xs_train, y_train, cv=n_splits, scoring='neg_mean_squared_error')\n",
    "mse_scores = -scores\n",
    "rmse_scores = np.sqrt(mse_scores)\n",
    "\n",
    "print(mse_scores) \n",
    "avg = (100 * np.mean(mse_scores), 100 * np.std(mse_scores)/np.sqrt(mse_scores.shape[0])) \n",
    "print(\"Average score and standard deviation: (%.2f +- %.3f)%%\"  %avg) \n",
    "print(\"-----------------------------\")\n",
    "print(f\"RMSE scores: {rmse_scores}\")\n",
    "print(f\"RMSE: {rmse_scores.mean()}\")"
   ]
  },
  {
   "cell_type": "code",
   "execution_count": 112,
   "metadata": {},
   "outputs": [
    {
     "name": "stdout",
     "output_type": "stream",
     "text": [
      "The MSE value is 4.61\n",
      "The R2 score is 0.54\n",
      "---------------------------------\n",
      "The MSE value is 5.91\n",
      "The R2 score is 0.49\n",
      "---------------------------------\n",
      "The MSE value is 4.27\n",
      "The R2 score is 0.58\n",
      "---------------------------------\n",
      "The MSE value is 5.28\n",
      "The R2 score is 0.50\n",
      "---------------------------------\n",
      "The MSE value is 4.31\n",
      "The R2 score is 0.56\n",
      "---------------------------------\n"
     ]
    }
   ],
   "source": [
    "kf = KFold(n_splits=5) \n",
    "for train_indicies, test_indicies in kf.split(Xs_train, y_train): \n",
    "    svr = SVR(kernel='rbf', C=100, gamma='auto', epsilon=.1) \n",
    "\n",
    "    ## NOTE: in this case, outlier removed data and original data have similar performance\n",
    "    \n",
    "    # use outlier removed\n",
    "    # svr.fit(Xs_train.iloc[train_indicies], y_train[train_indicies]) \n",
    "    # y_pred = svr.predict(Xs_train.iloc[test_indicies])\n",
    "    # score = mean_squared_error(y_train[test_indicies], y_pred)\n",
    "    # r2 = r2_score(y_train[test_indicies], y_pred)\n",
    "\n",
    "    ## use original\n",
    "    svr.fit(Xs_train[train_indicies], y_train[train_indicies]) \n",
    "    y_pred = svr.predict(Xs_train[test_indicies])\n",
    "    score = mean_squared_error(y_train[test_indicies], y_pred)\n",
    "    r2 = r2_score(y_train[test_indicies], y_pred)\n",
    "    \n",
    "    print('The MSE value is {:03.2f}'.format(score))\n",
    "    print('The R2 score is {:03.2f}'.format(r2))\n",
    "    print('---------------------------------')"
   ]
  },
  {
   "cell_type": "markdown",
   "metadata": {},
   "source": [
    "### (Extended) Use GridSearch to find best hyper-parameters"
   ]
  },
  {
   "cell_type": "code",
   "execution_count": 113,
   "metadata": {},
   "outputs": [
    {
     "name": "stdout",
     "output_type": "stream",
     "text": [
      "Best C: 10\n",
      "Best gamma: 0.1\n",
      "Best kernel: rbf\n",
      "Best epsilon: 0.1\n",
      "Best MSE: 4.601326694535873\n"
     ]
    }
   ],
   "source": [
    "from sklearn.model_selection import GridSearchCV\n",
    "\n",
    "model = SVR()\n",
    "\n",
    "param_grid = {\n",
    "  'C': [0.1, 1, 10, 100],\n",
    "  # 'gamma': [1, 0.1, 0.01, 0.001],\n",
    "  'gamma': [1, 0.1, 0.01],\n",
    "  # 'kernel': ['rbf', 'poly', 'sigmoid'],\n",
    "  # 'kernel': ['rbf', 'poly'],\n",
    "  'kernel': ['rbf', ],\n",
    "  # 'epsilon': [0.1, 0.01, 0.001]\n",
    "  'epsilon': [0.1, 0.01]\n",
    "}\n",
    "\n",
    "grid_search = GridSearchCV(model, param_grid, cv=n_splits, scoring='neg_mean_squared_error')\n",
    "\n",
    "grid_search.fit(Xs_train, y_train)\n",
    "\n",
    "# Get the best parameters and the best score\n",
    "best_C = grid_search.best_params_['C']\n",
    "best_gamma = grid_search.best_params_['gamma']\n",
    "best_kernel = grid_search.best_params_['kernel']\n",
    "best_epsilon = grid_search.best_params_['epsilon']\n",
    "\n",
    "best_score = -grid_search.best_score_  # Convert from negative MSE to positive MSE\n",
    "\n",
    "print(f\"Best C: {best_C}\")\n",
    "print(f\"Best gamma: {best_gamma}\")\n",
    "print(f\"Best kernel: {best_kernel}\")\n",
    "print(f\"Best epsilon: {best_epsilon}\")\n",
    "print(f\"Best MSE: {best_score}\")"
   ]
  },
  {
   "cell_type": "markdown",
   "metadata": {},
   "source": [
    "### MLP Neural Network"
   ]
  },
  {
   "cell_type": "code",
   "execution_count": 114,
   "metadata": {},
   "outputs": [
    {
     "name": "stderr",
     "output_type": "stream",
     "text": [
      "/opt/anaconda3/envs/MLE/lib/python3.10/site-packages/sklearn/neural_network/_multilayer_perceptron.py:1631: DataConversionWarning: A column-vector y was passed when a 1d array was expected. Please change the shape of y to (n_samples, ), for example using ravel().\n",
      "  y = column_or_1d(y, warn=True)\n",
      "/opt/anaconda3/envs/MLE/lib/python3.10/site-packages/sklearn/neural_network/_multilayer_perceptron.py:690: ConvergenceWarning: Stochastic Optimizer: Maximum iterations (300) reached and the optimization hasn't converged yet.\n",
      "  warnings.warn(\n",
      "/opt/anaconda3/envs/MLE/lib/python3.10/site-packages/sklearn/neural_network/_multilayer_perceptron.py:1631: DataConversionWarning: A column-vector y was passed when a 1d array was expected. Please change the shape of y to (n_samples, ), for example using ravel().\n",
      "  y = column_or_1d(y, warn=True)\n",
      "/opt/anaconda3/envs/MLE/lib/python3.10/site-packages/sklearn/neural_network/_multilayer_perceptron.py:690: ConvergenceWarning: Stochastic Optimizer: Maximum iterations (300) reached and the optimization hasn't converged yet.\n",
      "  warnings.warn(\n",
      "/opt/anaconda3/envs/MLE/lib/python3.10/site-packages/sklearn/neural_network/_multilayer_perceptron.py:1631: DataConversionWarning: A column-vector y was passed when a 1d array was expected. Please change the shape of y to (n_samples, ), for example using ravel().\n",
      "  y = column_or_1d(y, warn=True)\n",
      "/opt/anaconda3/envs/MLE/lib/python3.10/site-packages/sklearn/neural_network/_multilayer_perceptron.py:690: ConvergenceWarning: Stochastic Optimizer: Maximum iterations (300) reached and the optimization hasn't converged yet.\n",
      "  warnings.warn(\n",
      "/opt/anaconda3/envs/MLE/lib/python3.10/site-packages/sklearn/neural_network/_multilayer_perceptron.py:1631: DataConversionWarning: A column-vector y was passed when a 1d array was expected. Please change the shape of y to (n_samples, ), for example using ravel().\n",
      "  y = column_or_1d(y, warn=True)\n",
      "/opt/anaconda3/envs/MLE/lib/python3.10/site-packages/sklearn/neural_network/_multilayer_perceptron.py:690: ConvergenceWarning: Stochastic Optimizer: Maximum iterations (300) reached and the optimization hasn't converged yet.\n",
      "  warnings.warn(\n",
      "/opt/anaconda3/envs/MLE/lib/python3.10/site-packages/sklearn/neural_network/_multilayer_perceptron.py:1631: DataConversionWarning: A column-vector y was passed when a 1d array was expected. Please change the shape of y to (n_samples, ), for example using ravel().\n",
      "  y = column_or_1d(y, warn=True)\n"
     ]
    },
    {
     "name": "stdout",
     "output_type": "stream",
     "text": [
      "Mean Squared Error (MSE): 4.77\n"
     ]
    },
    {
     "name": "stderr",
     "output_type": "stream",
     "text": [
      "/opt/anaconda3/envs/MLE/lib/python3.10/site-packages/sklearn/neural_network/_multilayer_perceptron.py:690: ConvergenceWarning: Stochastic Optimizer: Maximum iterations (300) reached and the optimization hasn't converged yet.\n",
      "  warnings.warn(\n"
     ]
    }
   ],
   "source": [
    "# MLP Neural Network\n",
    "\n",
    "from sklearn.neural_network import MLPRegressor\n",
    "from sklearn.model_selection import cross_val_predict\n",
    "from sklearn.metrics import mean_squared_error\n",
    "import numpy as np\n",
    "\n",
    "# Assuming Xs and y are already defined as the feature matrix and target vector\n",
    "# Example: Xs = <your_feature_matrix>, y = <your_target_values>\n",
    "\n",
    "# Define the MLP Regressor model\n",
    "mlp_reg = MLPRegressor(random_state=1, max_iter=300)\n",
    "\n",
    "# Number of folds for cross-validation\n",
    "n_folds = 5\n",
    "\n",
    "# Generate cross-validated predictions across all folds\n",
    "y_pred = cross_val_predict(mlp_reg, Xs, y, cv=n_folds)\n",
    "\n",
    "# Calculate the Mean Squared Error (MSE) for the combined predictions\n",
    "mse = mean_squared_error(y, y_pred)\n",
    "\n",
    "# Print the overall MSE of the model\n",
    "print(\"Mean Squared Error (MSE): {:.2f}\".format(mse))\n"
   ]
  },
  {
   "cell_type": "markdown",
   "metadata": {},
   "source": [
    "### Base Decision Tree Regression with Arbitrary max_depth"
   ]
  },
  {
   "cell_type": "code",
   "execution_count": null,
   "metadata": {},
   "outputs": [
    {
     "name": "stdout",
     "output_type": "stream",
     "text": [
      "Test MSE:  5.89109767796173\n",
      "Test R^2:  0.39798503865445944\n"
     ]
    }
   ],
   "source": [
    "from sklearn.tree import DecisionTreeRegressor\n",
    "tree_reg = DecisionTreeRegressor(max_depth=4)\n",
    "tree_reg.fit(Xs_train, y_train)\n",
    "\n",
    "y_test_pred = tree_reg.predict(Xs_test)\n",
    "\n",
    "print('Test MSE: ', mean_squared_error(y_test, y_test_pred))\n",
    "print('Test R^2: ', r2_score(y_test, y_test_pred))"
   ]
  },
  {
   "cell_type": "markdown",
   "metadata": {},
   "source": [
    "### K-Fold Validation"
   ]
  },
  {
   "cell_type": "code",
   "execution_count": 116,
   "metadata": {},
   "outputs": [
    {
     "name": "stdout",
     "output_type": "stream",
     "text": [
      "RMSE scores: [5.46357838 6.8746133  5.57967516 6.06035691 5.41673835]\n",
      "RMSE: 2.4221359615472613\n"
     ]
    }
   ],
   "source": [
    "### K-Fold Cross Validation\n",
    "from sklearn.model_selection import KFold, cross_val_score\n",
    "\n",
    "n_splits = 5\n",
    "tree_reg = DecisionTreeRegressor(max_depth=4)\n",
    "\n",
    "scores = cross_val_score(tree_reg, Xs_train, y_train, cv=n_splits, scoring='neg_mean_squared_error')\n",
    "mse_scores = -scores\n",
    "rmse_scores = np.sqrt(mse_scores)\n",
    "\n",
    "print(\"RMSE scores:\", mse_scores)\n",
    "print(f\"RMSE: {rmse_scores.mean()}\")\n"
   ]
  },
  {
   "cell_type": "code",
   "execution_count": 117,
   "metadata": {},
   "outputs": [
    {
     "name": "stdout",
     "output_type": "stream",
     "text": [
      "The MSE value is 5.48\n",
      "The R2 score is 0.45\n",
      "---------------------------------\n",
      "The MSE value is 6.87\n",
      "The R2 score is 0.41\n",
      "---------------------------------\n",
      "The MSE value is 5.58\n",
      "The R2 score is 0.45\n",
      "---------------------------------\n",
      "The MSE value is 6.06\n",
      "The R2 score is 0.42\n",
      "---------------------------------\n",
      "The MSE value is 5.42\n",
      "The R2 score is 0.45\n",
      "---------------------------------\n"
     ]
    }
   ],
   "source": [
    "kf = KFold(n_splits=5) \n",
    "for train_indicies, test_indicies in kf.split(Xs_train, y_train): \n",
    "    model = DecisionTreeRegressor(max_depth=4)\n",
    "\n",
    "    ## NOTE: removing the outliers from the training data makes the model perform much worse\n",
    "    \n",
    "    # use outlier removed\n",
    "    # model.fit(Xs_train.iloc[train_indicies], y_train[train_indicies]) \n",
    "    # y_pred = model.predict(Xs_train.iloc[test_indicies])\n",
    "    # score = mean_squared_error(y_train[test_indicies], y_pred)\n",
    "    # r2 = r2_score(y_train[test_indicies], y_pred)\n",
    "\n",
    "    ## use original\n",
    "    model.fit(Xs_train[train_indicies], y_train[train_indicies]) \n",
    "    y_pred = model.predict(Xs_train[test_indicies])\n",
    "    score = mean_squared_error(y_train[test_indicies], y_pred)\n",
    "    r2 = r2_score(y_train[test_indicies], y_pred)\n",
    "    \n",
    "    print('The MSE value is {:03.2f}'.format(score))\n",
    "    print('The R2 score is {:03.2f}'.format(r2))\n",
    "    print('---------------------------------')"
   ]
  },
  {
   "cell_type": "markdown",
   "metadata": {},
   "source": [
    "### (Extended) Use GridSearch to find optimal max_depth"
   ]
  },
  {
   "cell_type": "code",
   "execution_count": 118,
   "metadata": {},
   "outputs": [
    {
     "name": "stdout",
     "output_type": "stream",
     "text": [
      "Best max_depth: 5\n",
      "Best MSE: 5.603968407826052\n"
     ]
    }
   ],
   "source": [
    "### Grid Search\n",
    "from sklearn.model_selection import GridSearchCV\n",
    "\n",
    "model = DecisionTreeRegressor()\n",
    "\n",
    "param_grid = {'max_depth': range(1, 21)}\n",
    "\n",
    "# Initialize GridSearchCV with the model, parameter grid, and scoring metric\n",
    "grid_search = GridSearchCV(\n",
    "    estimator=model, \n",
    "    param_grid=param_grid, \n",
    "    scoring='neg_mean_squared_error', \n",
    "    cv=n_splits,     \n",
    "    n_jobs=-1\n",
    ")\n",
    "\n",
    "# Fit the grid search to the data\n",
    "grid_search.fit(Xs_train, y_train)\n",
    "\n",
    "# Get the best parameters and the best score\n",
    "best_max_depth = grid_search.best_params_['max_depth']\n",
    "best_score = -grid_search.best_score_  # Convert from negative MSE to positive MSE\n",
    "\n",
    "print(f\"Best max_depth: {best_max_depth}\")\n",
    "print(f\"Best MSE: {best_score}\")\n"
   ]
  },
  {
   "cell_type": "markdown",
   "metadata": {},
   "source": [
    "### Use optimal max_depth"
   ]
  },
  {
   "cell_type": "code",
   "execution_count": 119,
   "metadata": {},
   "outputs": [
    {
     "name": "stdout",
     "output_type": "stream",
     "text": [
      "Test MSE:  5.354494748195769\n",
      "Test R^2:  0.45282082812531543\n"
     ]
    }
   ],
   "source": [
    "tree_reg = DecisionTreeRegressor(max_depth=best_max_depth)\n",
    "tree_reg.fit(Xs_train, y_train)\n",
    "\n",
    "y_test_pred = tree_reg.predict(Xs_test)\n",
    "\n",
    "print('Test MSE: ', mean_squared_error(y_test, y_test_pred))\n",
    "print('Test R^2: ', r2_score(y_test, y_test_pred))"
   ]
  },
  {
   "cell_type": "markdown",
   "metadata": {},
   "source": [
    "### Linear Regression: No Kfold"
   ]
  },
  {
   "cell_type": "code",
   "execution_count": 120,
   "metadata": {},
   "outputs": [
    {
     "name": "stdout",
     "output_type": "stream",
     "text": [
      "Coefficients: [[  0.06368262  -1.57721493  13.42050382  11.8643924    9.25049011\n",
      "  -20.28094179  -9.76109706   8.5805683 ]]\n",
      "Intercept: [2.89935859]\n",
      "Mean Squared Error: 4.906524345190112\n",
      "R^2 Score: 0.5278909357356787\n"
     ]
    }
   ],
   "source": [
    "from sklearn.linear_model import LinearRegression\n",
    "\n",
    "## Linear regression\n",
    "\n",
    "# Create linear regression object\n",
    "lr = LinearRegression()\n",
    "\n",
    "# Fit the model\n",
    "lr.fit(data_mean, y)\n",
    "\n",
    "# Print the coefficients\n",
    "print(\"Coefficients:\", lr.coef_)\n",
    "print(\"Intercept:\", lr.intercept_)\n",
    "\n",
    "# Predict the target values\n",
    "y_pred = lr.predict(data_mean)\n",
    "\n",
    "# Evaluate the model\n",
    "mse = mean_squared_error(y, y_pred)\n",
    "r2 = r2_score(y, y_pred)\n",
    "print(\"Mean Squared Error:\", mse)\n",
    "print(\"R^2 Score:\", r2)"
   ]
  },
  {
   "cell_type": "markdown",
   "metadata": {},
   "source": [
    "### Linear Regression: With K-Fold Cross Validation (No hyperparameter tuning)"
   ]
  },
  {
   "cell_type": "code",
   "execution_count": 121,
   "metadata": {},
   "outputs": [
    {
     "name": "stdout",
     "output_type": "stream",
     "text": [
      "Cross-validation MSE scores: [4.90324016 5.67146225 4.96773481 5.24396043 4.48616295]\n",
      "Mean MSE: 5.054512117387685\n",
      "Standard Deviation of MSE: 0.39241621038130525\n"
     ]
    }
   ],
   "source": [
    "from sklearn.model_selection import KFold, cross_val_score\n",
    "\n",
    "lr = LinearRegression()\n",
    "\n",
    "# Define the k-fold cross-validation\n",
    "kf = KFold(n_splits=5, shuffle=True, random_state=1)\n",
    "\n",
    "scores = cross_val_score(lr, data_mean, y, scoring=\"neg_mean_squared_error\", cv=kf)\n",
    "\n",
    "scores*-1 # Turn MSEs to thei true positive values\n",
    "\n",
    "# Print the cross-validation scores\n",
    "print(\"Cross-validation MSE scores:\", -scores)\n",
    "print(\"Mean MSE:\", -scores.mean())\n",
    "print(\"Standard Deviation of MSE:\", scores.std())"
   ]
  },
  {
   "cell_type": "markdown",
   "metadata": {},
   "source": [
    "### Linear Regression: K-Fold Cross Validation with HyperParameter Tuning\n",
    "#### Hyperparameter = Feature Selection"
   ]
  },
  {
   "cell_type": "code",
   "execution_count": 122,
   "metadata": {},
   "outputs": [
    {
     "name": "stdout",
     "output_type": "stream",
     "text": [
      "Completed fold with best features: (2, 4, 5, 6, 7)\n",
      "Completed fold with best features: (0, 2, 3, 4, 5, 6, 7)\n",
      "Completed fold with best features: (2, 4, 5, 6, 7)\n",
      "Completed fold with best features: (2, 4, 5, 6, 7)\n",
      "Completed fold with best features: (2, 4, 5, 6, 7)\n",
      "MSE for each fold:\n",
      "Fold 1: 4.995438038300506\n",
      "Fold 2: 5.653149684534369\n",
      "Fold 3: 5.08694288881669\n",
      "Fold 4: 5.335430480025448\n",
      "Fold 5: 4.5634513752877\n",
      "Mean MSE: 5.126882493392943\n"
     ]
    }
   ],
   "source": [
    "kf = KFold(n_splits=5, shuffle=True, random_state=1)\n",
    "\n",
    "# Function to perform forward feature selection\n",
    "def forward_feature_selection(X, y, kf):\n",
    "    n_features = X.shape[1]\n",
    "    best_features = []\n",
    "    best_score = float('inf')\n",
    "\n",
    "    for i in range(1, n_features + 1): # i = length of each possible combination\n",
    "        feature_combinations = combinations(range(n_features), i) # All possible combinations of features with length i \n",
    "        for combination in feature_combinations:\n",
    "            scores = []\n",
    "            for train_index_ffs, val_index in kf.split(X): # Split into training and validation data\n",
    "                X_train_ffs, X_val = X.iloc[train_index_ffs, list(combination)], X.iloc[val_index, list(combination)]\n",
    "                y_train_ffs, y_val = y.iloc[train_index_ffs], y.iloc[val_index]\n",
    "\n",
    "                model = LinearRegression()\n",
    "                model.fit(X_train_ffs, y_train_ffs)\n",
    "                y_pred_ffs = model.predict(X_val)\n",
    "                scores.append(mean_squared_error(y_val, y_pred_ffs))\n",
    "\n",
    "            avg_score = np.mean(scores)\n",
    "            if avg_score < best_score:\n",
    "                best_score = avg_score\n",
    "                best_features = combination\n",
    "\n",
    "    return best_features, best_score\n",
    "\n",
    "\n",
    "\n",
    "# Perform k-fold cross-validation with forward feature selection\n",
    "final_scores = []\n",
    "best_feature_combinations = []\n",
    "\n",
    "for train_index, test_index in kf.split(data_mean):\n",
    "    X_train, X_test = data_mean.iloc[train_index], data_mean.iloc[test_index]\n",
    "    y_train, y_test = y.iloc[train_index], y.iloc[test_index]\n",
    "\n",
    "    best_features, _ = forward_feature_selection(X_train, y_train, KFold(n_splits=5, shuffle=True, random_state=1))\n",
    "    best_feature_combinations.append(best_features)\n",
    "    model = LinearRegression()\n",
    "\n",
    "    model.fit(X_train.iloc[:, list(best_features)], y_train) # Fit model using best features\n",
    "    y_pred = model.predict(X_test.iloc[:, list(best_features)]) # Get model predicted values\n",
    "    final_scores.append(mean_squared_error(y_test, y_pred)) # Compare to test set \n",
    "\n",
    "    print(f\"Completed fold with best features: {best_features}\")\n",
    "\n",
    "final_scores = np.array(final_scores)\n",
    "\n",
    "# Print the MSEs\n",
    "print(\"MSE for each fold:\")\n",
    "for i, scores in enumerate(final_scores):\n",
    "    print(f\"Fold {i+1}: {scores}\")\n",
    "\n",
    "print(\"Mean MSE:\", final_scores.mean())"
   ]
  },
  {
   "cell_type": "markdown",
   "metadata": {},
   "source": [
    "### Linear Regression on resulting features from hyperparameter tuning\n"
   ]
  },
  {
   "cell_type": "code",
   "execution_count": 123,
   "metadata": {},
   "outputs": [
    {
     "name": "stdout",
     "output_type": "stream",
     "text": [
      "Coefficients: [[ -1.57189738  13.36091617  11.82607248   9.24741445 -20.21391319\n",
      "   -9.82967548   8.57624241]]\n",
      "Intercept: [2.98515418]\n",
      "Mean Squared Error: 4.90923681581896\n",
      "R^2 Score: 0.5276299399919839\n"
     ]
    }
   ],
   "source": [
    "selected_features = [1,2,3,4,5,6,7]\n",
    "\n",
    "data_mean_selected = data_mean.iloc[:, selected_features]\n",
    "\n",
    "lr = LinearRegression()\n",
    "\n",
    "lr.fit(data_mean_selected, y)\n",
    "\n",
    "print(\"Coefficients:\", lr.coef_)\n",
    "print(\"Intercept:\", lr.intercept_)\n",
    "\n",
    "y_pred = lr.predict(data_mean_selected)\n",
    "\n",
    "# Evaluate the model\n",
    "mse = mean_squared_error(y, y_pred)\n",
    "r2 = r2_score(y, y_pred)\n",
    "print(\"Mean Squared Error:\", mse)\n",
    "print(\"R^2 Score:\", r2)"
   ]
  }
 ],
 "metadata": {
  "kernelspec": {
   "display_name": "Python 3 (ipykernel)",
   "language": "python",
   "name": "python3"
  },
  "language_info": {
   "codemirror_mode": {
    "name": "ipython",
    "version": 3
   },
   "file_extension": ".py",
   "mimetype": "text/x-python",
   "name": "python",
   "nbconvert_exporter": "python",
   "pygments_lexer": "ipython3",
   "version": "3.10.13"
  }
 },
 "nbformat": 4,
 "nbformat_minor": 4
}
